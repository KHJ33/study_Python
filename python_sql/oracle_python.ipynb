{
 "cells": [
  {
   "cell_type": "code",
   "execution_count": 1,
   "metadata": {},
   "outputs": [
    {
     "name": "stdout",
     "output_type": "stream",
     "text": [
      "Collecting cx_Oracle\n",
      "  Downloading cx_Oracle-8.3.0.tar.gz (363 kB)\n",
      "\u001b[K     |████████████████████████████████| 363 kB 6.8 MB/s eta 0:00:01\n",
      "\u001b[?25h  Installing build dependencies ... \u001b[?25ldone\n",
      "\u001b[?25h  Getting requirements to build wheel ... \u001b[?25ldone\n",
      "\u001b[?25h    Preparing wheel metadata ... \u001b[?25ldone\n",
      "\u001b[?25hBuilding wheels for collected packages: cx-Oracle\n",
      "  Building wheel for cx-Oracle (PEP 517) ... \u001b[?25ldone\n",
      "\u001b[?25h  Created wheel for cx-Oracle: filename=cx_Oracle-8.3.0-cp38-cp38-macosx_10_9_x86_64.whl size=189653 sha256=cb8537d390e8b7919853627f5a2de8934fa3c2e754afbf437dd08dabb96026a8\n",
      "  Stored in directory: /Users/kimhyunjo/Library/Caches/pip/wheels/36/37/15/851d3b2225e78e21e837d4153936e70d9cb042e76bd646efdb\n",
      "Successfully built cx-Oracle\n",
      "Installing collected packages: cx-Oracle\n",
      "Successfully installed cx-Oracle-8.3.0\n"
     ]
    }
   ],
   "source": [
    "!pip install cx_Oracle"
   ]
  },
  {
   "cell_type": "code",
   "execution_count": 17,
   "metadata": {},
   "outputs": [
    {
     "ename": "DatabaseError",
     "evalue": "Error while trying to retrieve text for error ORA-01804",
     "output_type": "error",
     "traceback": [
      "\u001b[0;31m---------------------------------------------------------------------------\u001b[0m",
      "\u001b[0;31mDatabaseError\u001b[0m                             Traceback (most recent call last)",
      "\u001b[0;32m<ipython-input-17-d10f3c834611>\u001b[0m in \u001b[0;36m<module>\u001b[0;34m\u001b[0m\n\u001b[1;32m     14\u001b[0m \u001b[0;34m\u001b[0m\u001b[0m\n\u001b[1;32m     15\u001b[0m \u001b[0mdsn\u001b[0m \u001b[0;34m=\u001b[0m \u001b[0mcx_Oracle\u001b[0m\u001b[0;34m.\u001b[0m\u001b[0mmakedsn\u001b[0m\u001b[0;34m(\u001b[0m\u001b[0;34m'localhost'\u001b[0m\u001b[0;34m,\u001b[0m\u001b[0;36m1521\u001b[0m\u001b[0;34m,\u001b[0m\u001b[0;34m'xe'\u001b[0m\u001b[0;34m)\u001b[0m\u001b[0;34m\u001b[0m\u001b[0;34m\u001b[0m\u001b[0m\n\u001b[0;32m---> 16\u001b[0;31m \u001b[0mdb\u001b[0m \u001b[0;34m=\u001b[0m \u001b[0mcx_Oracle\u001b[0m\u001b[0;34m.\u001b[0m\u001b[0mconnect\u001b[0m\u001b[0;34m(\u001b[0m\u001b[0;34m'user1'\u001b[0m\u001b[0;34m,\u001b[0m \u001b[0;34m'passwd'\u001b[0m\u001b[0;34m)\u001b[0m\u001b[0;34m\u001b[0m\u001b[0;34m\u001b[0m\u001b[0m\n\u001b[0m\u001b[1;32m     17\u001b[0m \u001b[0;34m\u001b[0m\u001b[0m\n\u001b[1;32m     18\u001b[0m \u001b[0;31m# cursor = db.cursor()\u001b[0m\u001b[0;34m\u001b[0m\u001b[0;34m\u001b[0m\u001b[0;34m\u001b[0m\u001b[0m\n",
      "\u001b[0;31mDatabaseError\u001b[0m: Error while trying to retrieve text for error ORA-01804"
     ]
    }
   ],
   "source": [
    "import cx_Oracle \n",
    "import pandas as pd\n",
    "\n",
    "# cx_Oracle.makedsn : 오라클에 대한 주소 정보\n",
    "# cx_Oracle.connect : 오라클 접속 유저 정보\n",
    "# db.cursor : 데이터 담을 메모리의 이름을 선언\n",
    "# cursor.execute : SQL의 결과가 cursor 메모리를 담는다.\n",
    "# cursor.fetchall : 메모리에 담긴 데이터를 한 행씩 fetch 한다. 전부 all.\n",
    "# cursor.description : 데이터의 칼럼명을 추출\n",
    "\n",
    "# dsn = cx_Oracle.makedsn('hostname',1521,'서비스 이름')\n",
    "# db = cx_Oracle.connect('사용자명', '비밀번호')\n",
    "\n",
    "\n",
    "dsn = cx_Oracle.makedsn('localhost',1521,'xe')\n",
    "db = cx_Oracle.connect('user1', 'passwd')\n",
    "\n",
    "# cursor = db.cursor()\n",
    "# cursor.execute('select * from test')\n",
    "\n",
    "# row = cursor.fetchall()\n",
    "# colname = cursor.description\n",
    "\n",
    "# col = []\n",
    "# for i in colname:\n",
    "#     col.append(i[0])\n",
    "\n",
    "\n",
    "# # dataframe으로 변환시킴\n",
    "# emp = pd.DataFrame(row,  columns = col)\n",
    "# emp"
   ]
  },
  {
   "cell_type": "code",
   "execution_count": null,
   "metadata": {},
   "outputs": [],
   "source": []
  },
  {
   "cell_type": "code",
   "execution_count": null,
   "metadata": {},
   "outputs": [],
   "source": []
  },
  {
   "cell_type": "code",
   "execution_count": null,
   "metadata": {},
   "outputs": [],
   "source": []
  },
  {
   "cell_type": "code",
   "execution_count": null,
   "metadata": {},
   "outputs": [],
   "source": []
  }
 ],
 "metadata": {
  "kernelspec": {
   "display_name": "Python 3",
   "language": "python",
   "name": "python3"
  },
  "language_info": {
   "codemirror_mode": {
    "name": "ipython",
    "version": 3
   },
   "file_extension": ".py",
   "mimetype": "text/x-python",
   "name": "python",
   "nbconvert_exporter": "python",
   "pygments_lexer": "ipython3",
   "version": "3.8.5"
  }
 },
 "nbformat": 4,
 "nbformat_minor": 4
}
