{
 "cells": [
  {
   "cell_type": "code",
   "execution_count": null,
   "metadata": {},
   "outputs": [],
   "source": [
    "# mac 북\n",
    "# export FLASK_APP = day-6-flask_basic.py\n",
    "# window -> 관리자 권환으로 실행\n",
    "# set FLASK_APP = day-6-flask_basic.py\n",
    "\n",
    "# flask run\n",
    "\n",
    "\n",
    "# warinng 출력시\n",
    "# window -> set FLASK_ENV=development\n",
    "# mac -> export FLASK_ENV=development"
   ]
  },
  {
   "cell_type": "code",
   "execution_count": 1,
   "metadata": {},
   "outputs": [],
   "source": [
    "from flask import Flask\n",
    "\n",
    "app = Flask(__name__)\n",
    "\n",
    "@app.route('/')\n",
    "def hello() :\n",
    "    return '<h1>Hello World</h1>'\n",
    "\n",
    "@app.route('/test')\n",
    "def test() :\n",
    "    return 'Hello test !!!'"
   ]
  }
 ],
 "metadata": {
  "kernelspec": {
   "display_name": "Python 3",
   "language": "python",
   "name": "python3"
  },
  "language_info": {
   "codemirror_mode": {
    "name": "ipython",
    "version": 3
   },
   "file_extension": ".py",
   "mimetype": "text/x-python",
   "name": "python",
   "nbconvert_exporter": "python",
   "pygments_lexer": "ipython3",
   "version": "3.8.5"
  }
 },
 "nbformat": 4,
 "nbformat_minor": 4
}
