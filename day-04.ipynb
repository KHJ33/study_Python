{
 "cells": [
  {
   "cell_type": "code",
   "execution_count": 4,
   "metadata": {},
   "outputs": [],
   "source": [
    "character = {\n",
    "    'name' : '기사',\n",
    "    'level' : 12,\n",
    "    'items' : {\n",
    "        'sowrd' : '불꽃의 검',\n",
    "        'armor' : '풀플레이트'\n",
    "    },\n",
    "    'skill' : ['베기', '세게 베기', '아주 세게 베기']\n",
    "}\n",
    "\n",
    "for key in character :\n",
    "    if type(character[key]) is dict :\n",
    "        for item in character[key] :\n",
    "            print(f'{item} : {character[key][item]}')\n",
    "            \n",
    "    elif type(character[key]) is list :\n",
    "        for item in character[key] :\n",
    "                print(f'{key} : {item}')\n",
    "\n",
    "    else :\n",
    "        print(f'{key} : {character[key]}')"
   ]
  },
  {
   "cell_type": "markdown",
   "metadata": {},
   "source": [
    "# ✪✪✪✪✪"
   ]
  },
  {
   "cell_type": "code",
   "execution_count": 9,
   "metadata": {},
   "outputs": [
    {
     "name": "stdout",
     "output_type": "stream",
     "text": [
      "name : 기사\n",
      "level : 12\n",
      "sowrd : 불꽃의 검\n",
      "armor : 풀플레이트\n",
      "skill : 베기\n",
      "skill : 세게 베기\n",
      "skill : 아주 세게 베기\n"
     ]
    }
   ],
   "source": [
    "character = {\n",
    "    'name' : '기사',\n",
    "    'level' : 12,\n",
    "    'items' : {\n",
    "        'sowrd' : '불꽃의 검',\n",
    "        'armor' : '풀플레이트'\n",
    "    },\n",
    "    'skill' : ['베기', '세게 베기', '아주 세게 베기']\n",
    "}\n",
    "\n",
    "for key, values in character.items() : # 키와 값을 반환\n",
    "    if type(values) is dict :\n",
    "        for item, value in values.items() :\n",
    "            print(f'{item} : {value}')\n",
    "    elif type(values) is list :\n",
    "        for item in values :\n",
    "            print(f'{key} : {item}')\n",
    "    else :\n",
    "        print(f'{key} : {values}')"
   ]
  },
  {
   "cell_type": "code",
   "execution_count": 11,
   "metadata": {
    "scrolled": true
   },
   "outputs": [
    {
     "name": "stdout",
     "output_type": "stream",
     "text": [
      "         *\n",
      "        ***\n",
      "       *****\n",
      "      *******\n",
      "     *********\n",
      "    ***********\n",
      "   *************\n",
      "  ***************\n",
      " *****************\n",
      "*******************\n"
     ]
    }
   ],
   "source": [
    "for i in range(1, 11) :\n",
    "    # 공백 출력\n",
    "    for j in range(10 , i, -1):\n",
    "        print(' ', end = '')\n",
    "    \n",
    "    # * 출력\n",
    "    for k in range(0, 2 * i - 1) :\n",
    "        print('*', end = '')\n",
    "3    print()"
   ]
  },
  {
   "cell_type": "markdown",
   "metadata": {},
   "source": [
    "# ✪✪✪✪✪"
   ]
  },
  {
   "cell_type": "code",
   "execution_count": 13,
   "metadata": {},
   "outputs": [
    {
     "name": "stdout",
     "output_type": "stream",
     "text": [
      "[1, 2, 3, 4, 5, 6, 7, 8, 9]\n"
     ]
    }
   ],
   "source": [
    "list_a = [1, 2, [3, 4], 5, [6, 7], [8, 9]]\n",
    "list_b = []\n",
    "\n",
    "for li in list_a :\n",
    "    if type(li) is list :\n",
    "        list_b.extend(li)\n",
    "    else :\n",
    "        list_b.append(li)\n",
    "\n",
    "print(list_b)"
   ]
  },
  {
   "cell_type": "code",
   "execution_count": 19,
   "metadata": {},
   "outputs": [
    {
     "name": "stdout",
     "output_type": "stream",
     "text": [
      "이름, 국어, 영어, 수학 점수를 입력하세요(q 입력시 종료): 김현조 9ㄴ 90 90\n",
      "오타가 있습니다.\n",
      "이름, 국어, 영어, 수학 점수를 입력하세요(q 입력시 종료): 김현조 90 90 90\n",
      "이름, 국어, 영어, 수학 점수를 입력하세요(q 입력시 종료): q\n",
      "\n",
      "검색할 이름을 입력하시오: 김현조\n",
      "김현조 의 국어 의 점수 90\n",
      "영어 의 점수 90\n",
      "수학 의 점수 90\n",
      "총점은 270 평균은 90.0\n",
      "\n",
      "검색할 이름과 과목명을 입력하시오: 김현조 국어\n",
      "검색된 김현조 의 국어 점수는 90 입니다.\n"
     ]
    }
   ],
   "source": [
    "# 키보드에서 이름, 국어, 영어, 수학, 점수를 입력받아 저장 한 후 -> 이름에 'q' 가 입력되면 종료\n",
    "# 검색할 이름을 입력 받아 해당 이름의 점수와 총점 평균을 출력\n",
    "# 검색할 이름과 과목명을 입력 받아 해당 과목의 점수 출력\n",
    "\n",
    "# {'이름' : { '국어' : 90, '영어' : 80, '수학' : 70}}\n",
    "\n",
    "dict_a = {}\n",
    "\n",
    "while True:\n",
    "    input_str = input('이름, 국어, 영어, 수학 점수를 입력하세요(q 입력시 종료): ')\n",
    "    \n",
    "    if input_str == 'q' :\n",
    "        break\n",
    "        \n",
    "    input_str = input_str.split()\n",
    "    \n",
    "    if len(input_str) == 4 :\n",
    "        if input_str[0].isalpha() and input_str[1].isdigit() and input_str[2].isdigit() and input_str[3].isdigit() :\n",
    "            dict_a[input_str[0]] = {'국어': int(input_str[1]) , '영어' : int(input_str[2]), '수학' : int(input_str[3])}\n",
    "        else :\n",
    "            print('오타가 있습니다.')\n",
    "    \n",
    "    else :\n",
    "        print('입력 오류')\n",
    "\n",
    "print()\n",
    "name = input('검색할 이름을 입력하시오: ')\n",
    "\n",
    "if name in dict_a :\n",
    "    \n",
    "    dict_b = dict_a[name]\n",
    "    total = 0\n",
    "    \n",
    "    print(f'{name} 의 ', end = '')\n",
    "    for i in dict_b :\n",
    "        print(f'{i} 의 점수 {dict_b[i]}')\n",
    "        total += dict_b[i]\n",
    "    \n",
    "    print(f'총점은 {total} 평균은 {total / 3}')\n",
    "\n",
    "else :\n",
    "    print('검색된 이름이 없습니다.')\n",
    "    \n",
    "print()\n",
    "input_str = input('검색할 이름과 과목명을 입력하시오: ')\n",
    "\n",
    "input_str = input_str.split()\n",
    "\n",
    "if len(input_str) == 2 :\n",
    "    if input_str[0] in dict_a and input_str[1] in dict_a[input_str[0]] :\n",
    "        print(f'검색된 {input_str[0]} 의 {input_str[1]} 점수는 {dict_a[input_str[0]][input_str[1]]} 입니다.')\n",
    "    else :\n",
    "        print('검색된 결과과 없습니다.')\n",
    "\n",
    "else :\n",
    "    print('입력 오류')"
   ]
  },
  {
   "cell_type": "code",
   "execution_count": 20,
   "metadata": {},
   "outputs": [
    {
     "name": "stdout",
     "output_type": "stream",
     "text": [
      "[0, 4, 16, 36, 64, 100, 144, 196, 256, 324, 400]\n"
     ]
    }
   ],
   "source": [
    "# 0 부터 20 까지의 수중에서 2의 배수인 수의 제곱을 리스트로 구함\n",
    "\n",
    "array = []\n",
    "for i in range(0, 20 + 1, 2) :\n",
    "    array.append(i * i)\n",
    "print(array)"
   ]
  },
  {
   "cell_type": "markdown",
   "metadata": {},
   "source": [
    "# ✪✪✪✪✪"
   ]
  },
  {
   "cell_type": "code",
   "execution_count": 29,
   "metadata": {},
   "outputs": [
    {
     "name": "stdout",
     "output_type": "stream",
     "text": [
      "[0, 1, 2, 3, 4]\n",
      "[0, 4, 16, 36, 64, 100, 144, 196, 256, 324, 400]\n",
      "[0, 1, 4, 3, 16, 5, 36, 7, 64, 9, 100, 11, 144, 13, 196, 15, 256, 17, 324, 19]\n",
      "[0, 4, 16, 36, 64, 100, 144, 196, 256, 324]\n",
      "[0, 1, 4, 3, 16, 5, 36, 7, 64, 9, 100, 11, 144, 13, 196, 15, 256, 17, 324, 19]\n"
     ]
    }
   ],
   "source": [
    "# 리스트 내포 [ i for i in 반복 자료]\n",
    "array = [ i for i in range(5) ]\n",
    "print(array)\n",
    "\n",
    "array = [ i * i \n",
    "         for i in range(0, 20 + 1 , 2)]\n",
    "print(array)\n",
    "\n",
    "array = []\n",
    "for i in range(0, 20) :\n",
    "    if i % 2 == 0 :\n",
    "        array.append(i * i)\n",
    "    else :\n",
    "        array.append(i)\n",
    "print(array)\n",
    "\n",
    "# 리스트 내포 [ i for i in 반복자료 if 조건문 ]\n",
    "array = [ i * i \n",
    "         for i in range(0, 20) \n",
    "         if i % 2 == 0]\n",
    "print(array)\n",
    "\n",
    "# 리스트 내포 [ 처리1 if 조건문 else 처리2 for i in 반복자료 ]\n",
    "array = [ i * i \n",
    "         if i % 2 == 0 \n",
    "         else i \n",
    "         for i in range(20) ] \n",
    "print(array)"
   ]
  },
  {
   "cell_type": "code",
   "execution_count": 31,
   "metadata": {},
   "outputs": [
    {
     "name": "stdout",
     "output_type": "stream",
     "text": [
      "['abc', 'test', '1234', '5678']\n",
      "abc,test,1234,5678\n",
      "['abc', 'test', '1234', '5678']\n"
     ]
    }
   ],
   "source": [
    "# '구분자'.join(리스트) -> 하나의 문자열로 반환\n",
    "\n",
    "str_a = 'abc test 1234 5678'\n",
    "str_list = str_a.split()\n",
    "print(str_list)\n",
    "\n",
    "# str_list -> 연결문자를 ','\n",
    "str_join = ','.join(str_list)\n",
    "print(str_join)\n",
    "\n",
    "str_split = str_join.split(',')\n",
    "print(str_split)"
   ]
  },
  {
   "cell_type": "markdown",
   "metadata": {},
   "source": [
    "# ✪✪✪✪✪"
   ]
  },
  {
   "cell_type": "code",
   "execution_count": 35,
   "metadata": {},
   "outputs": [
    {
     "name": "stdout",
     "output_type": "stream",
     "text": [
      "140353604336960 140353599219216\n",
      "reversed_numbers :  <list_reverseiterator object at 0x7fa69e6ca610>\n",
      "5\n",
      "4\n",
      "3\n"
     ]
    }
   ],
   "source": [
    "numbers = [1, 2, 3, 4, 5]\n",
    "r_num = reversed(numbers)\n",
    "\n",
    "print(id(numbers), id(r_num))\n",
    "print('reversed_numbers : ', r_num)\n",
    "print(next(r_num))\n",
    "print(next(r_num))\n",
    "print(next(r_num))"
   ]
  },
  {
   "cell_type": "code",
   "execution_count": 39,
   "metadata": {},
   "outputs": [
    {
     "name": "stdout",
     "output_type": "stream",
     "text": [
      "5\n",
      "4\n",
      "3\n",
      "2\n",
      "1\n"
     ]
    },
    {
     "ename": "StopIteration",
     "evalue": "",
     "output_type": "error",
     "traceback": [
      "\u001b[0;31m---------------------------------------------------------------------------\u001b[0m",
      "\u001b[0;31mStopIteration\u001b[0m                             Traceback (most recent call last)",
      "\u001b[0;32m<ipython-input-39-ccf6e5bb5878>\u001b[0m in \u001b[0;36m<module>\u001b[0;34m\u001b[0m\n\u001b[1;32m      4\u001b[0m \u001b[0;32mfor\u001b[0m \u001b[0mi\u001b[0m \u001b[0;32min\u001b[0m \u001b[0mrange\u001b[0m\u001b[0;34m(\u001b[0m\u001b[0mlen\u001b[0m\u001b[0;34m(\u001b[0m\u001b[0mnumbers\u001b[0m\u001b[0;34m)\u001b[0m\u001b[0;34m)\u001b[0m \u001b[0;34m:\u001b[0m\u001b[0;34m\u001b[0m\u001b[0;34m\u001b[0m\u001b[0m\n\u001b[1;32m      5\u001b[0m     \u001b[0mprint\u001b[0m\u001b[0;34m(\u001b[0m\u001b[0mnext\u001b[0m\u001b[0;34m(\u001b[0m\u001b[0mr_num\u001b[0m\u001b[0;34m)\u001b[0m\u001b[0;34m)\u001b[0m\u001b[0;34m\u001b[0m\u001b[0;34m\u001b[0m\u001b[0m\n\u001b[0;32m----> 6\u001b[0;31m \u001b[0mprint\u001b[0m\u001b[0;34m(\u001b[0m\u001b[0mnext\u001b[0m\u001b[0;34m(\u001b[0m\u001b[0mr_num\u001b[0m\u001b[0;34m)\u001b[0m\u001b[0;34m)\u001b[0m \u001b[0;31m# error\u001b[0m\u001b[0;34m\u001b[0m\u001b[0;34m\u001b[0m\u001b[0m\n\u001b[0m",
      "\u001b[0;31mStopIteration\u001b[0m: "
     ]
    }
   ],
   "source": [
    "numbers = [1, 2, 3, 4, 5]\n",
    "r_num = reversed(numbers)\n",
    "\n",
    "for i in range(len(numbers)) :\n",
    "    print(next(r_num))\n",
    "print(next(r_num)) # error"
   ]
  }
 ],
 "metadata": {
  "kernelspec": {
   "display_name": "Python 3",
   "language": "python",
   "name": "python3"
  },
  "language_info": {
   "codemirror_mode": {
    "name": "ipython",
    "version": 3
   },
   "file_extension": ".py",
   "mimetype": "text/x-python",
   "name": "python",
   "nbconvert_exporter": "python",
   "pygments_lexer": "ipython3",
   "version": "3.8.5"
  }
 },
 "nbformat": 4,
 "nbformat_minor": 4
}
