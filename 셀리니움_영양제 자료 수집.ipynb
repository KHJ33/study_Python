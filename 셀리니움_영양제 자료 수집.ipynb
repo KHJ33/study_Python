{
 "cells": [
  {
   "cell_type": "code",
   "execution_count": 17,
   "metadata": {},
   "outputs": [],
   "source": [
    "import requests\n",
    "from bs4 import BeautifulSoup\n",
    "import pandas as pd\n",
    "from selenium import webdriver\n",
    "from selenium.webdriver.common.by import By\n",
    "from selenium.webdriver.common.keys import Keys\n",
    "import time\n",
    "\n",
    "def crolling():\n",
    "    arr = []\n",
    "    tbody = driver.find_element_by_tag_name('tbody')\n",
    "    td = tbody.find_elements_by_tag_name('td')\n",
    "    for i in td:\n",
    "        arr.append(i.text)\n",
    "    array.append(arr)\n",
    "    \n",
    "def page_list():\n",
    "    li = driver.find_elements_by_class_name('al')\n",
    "    \n",
    "    for i in range(len(li)):\n",
    "        try:\n",
    "            li[i].find_element_by_tag_name('a').click()\n",
    "            time.sleep(1)\n",
    "            crolling()\n",
    "            driver.back()\n",
    "            li = driver.find_elements_by_class_name('al')\n",
    "        except:\n",
    "            driver.back()"
   ]
  },
  {
   "cell_type": "code",
   "execution_count": 18,
   "metadata": {},
   "outputs": [],
   "source": [
    "col = ['인허가 번호',\n",
    "'업소 명',\n",
    "'품목제조번호',\n",
    "'품목명',\n",
    "'보고일자',\n",
    "'유통기한',\n",
    "'성상',\n",
    "'섭취방법',\n",
    "'주된기능성',\n",
    "'섭취시 주의사항',\n",
    "'보관방법',\n",
    "'형태',\n",
    "'기준규격',\n",
    "'원재료']"
   ]
  },
  {
   "cell_type": "code",
   "execution_count": 73,
   "metadata": {
    "collapsed": true
   },
   "outputs": [
    {
     "name": "stdout",
     "output_type": "stream",
     "text": [
      "3100\n",
      "3101\n",
      "3102\n",
      "3103\n",
      "3104\n",
      "3105\n",
      "3106\n",
      "3107\n",
      "3108\n",
      "3109\n",
      "3110\n",
      "3111\n",
      "3112\n",
      "3113\n",
      "3114\n",
      "3115\n",
      "3116\n",
      "3117\n",
      "3118\n",
      "3119\n",
      "3120\n",
      "3121\n",
      "3122\n",
      "3123\n",
      "3124\n",
      "3125\n",
      "3126\n",
      "3127\n",
      "3128\n",
      "3129\n",
      "3130\n",
      "3131\n",
      "3132\n",
      "3133\n",
      "3134\n",
      "3135\n",
      "3136\n",
      "3137\n",
      "3138\n",
      "3139\n",
      "3140\n",
      "3141\n",
      "3142\n",
      "3143\n",
      "3144\n",
      "3145\n",
      "3146\n",
      "3147\n",
      "3148\n",
      "3149\n",
      "3150\n",
      "3151\n",
      "3152\n",
      "3153\n",
      "3154\n",
      "3155\n",
      "3156\n",
      "3157\n",
      "3158\n",
      "3159\n",
      "3160\n",
      "3161\n",
      "3162\n",
      "3163\n",
      "3164\n",
      "3165\n",
      "3166\n",
      "3167\n",
      "3168\n",
      "3169\n",
      "3170\n",
      "3171\n",
      "3172\n",
      "3173\n",
      "3174\n",
      "3175\n",
      "3176\n",
      "3177\n",
      "3178\n",
      "3179\n",
      "3180\n",
      "3181\n",
      "3182\n",
      "3183\n",
      "3184\n",
      "3185\n",
      "3186\n",
      "3187\n",
      "3188\n",
      "3189\n",
      "3190\n",
      "3191\n",
      "3192\n",
      "3193\n",
      "3194\n",
      "3195\n",
      "3196\n",
      "3197\n",
      "3198\n",
      "3199\n",
      "3200\n",
      "3201\n"
     ]
    }
   ],
   "source": [
    "url = 'https://www.khsa.or.kr/user/prdlst/PrdlstUserList.do'\n",
    "PATH = 'C:/Users/kimhyunjo/Desktop/chromedriver.exe'\n",
    "driver = webdriver.Chrome('/Users/kimhyunjo/Desktop/chromedriver')\n",
    "array = []\n",
    "driver.get(url)\n",
    "\n",
    "for i in range(0,155):\n",
    "    driver.find_element_by_class_name('fw').click()\n",
    "    time.sleep(1)\n",
    "\n",
    "for i in range(3100,3202):\n",
    "    print(i)\n",
    "    page_list()\n",
    "    \n",
    "    page = driver.find_element_by_class_name('paging')\n",
    "    page_li = page.find_elements_by_tag_name('li')\n",
    "    page_now = page.find_element_by_class_name('now')\n",
    "    \n",
    "    for j in range(len(page_li)):\n",
    "        if page_li[j].text == page_now.text:\n",
    "            page_li[j + 1].click()\n",
    "            break\n",
    "    time.sleep(1)\n",
    "\n",
    "driver.close()\n",
    "df = pd.DataFrame(array,columns=col)\n",
    "df.to_csv('/Users/kimhyunjo/Desktop/엠이티에스파마_한국건강기능식품협회_완료(1).csv',index=None,encoding='utf-8-sig')"
   ]
  },
  {
   "cell_type": "markdown",
   "metadata": {},
   "source": [
    "# 통합"
   ]
  },
  {
   "cell_type": "code",
   "execution_count": 84,
   "metadata": {},
   "outputs": [],
   "source": [
    "import os\n",
    "\n",
    "path = '/Users/kimhyunjo/Desktop/'\n",
    "file_list = os.listdir(path)\n",
    "file_list_py = [file for file in file_list if file.endswith('.csv')] ## 파일명 끝이 .csv인 경우"
   ]
  },
  {
   "cell_type": "code",
   "execution_count": 85,
   "metadata": {},
   "outputs": [
    {
     "name": "stderr",
     "output_type": "stream",
     "text": [
      "/Users/kimhyunjo/opt/anaconda3/lib/python3.8/site-packages/IPython/core/interactiveshell.py:3146: DtypeWarning: Columns (2,11,16,17,21,22,26,27,31,32,36,37,41,42,46,47) have mixed types.Specify dtype option on import or set low_memory=False.\n",
      "  has_raised = await self.run_ast_nodes(code_ast.body, cell_name,\n"
     ]
    }
   ],
   "source": [
    "for i in file_list_py:\n",
    "    data = pd.read_csv(path + i)\n",
    "    df = pd.concat([df,data])\n",
    "    \n",
    "df = df.reset_index(drop = True)"
   ]
  },
  {
   "cell_type": "code",
   "execution_count": 92,
   "metadata": {},
   "outputs": [],
   "source": [
    "a = pd.read_csv(path+file_list_py[0])\n",
    "len(a)"
   ]
  },
  {
   "cell_type": "code",
   "execution_count": 95,
   "metadata": {},
   "outputs": [],
   "source": [
    "b = pd.read_csv(path+file_list_py[1])\n",
    "len(b)"
   ]
  },
  {
   "cell_type": "code",
   "execution_count": 97,
   "metadata": {},
   "outputs": [],
   "source": [
    "c = pd.read_csv(path+file_list_py[2])\n",
    "len(c)"
   ]
  },
  {
   "cell_type": "code",
   "execution_count": 127,
   "metadata": {},
   "outputs": [
    {
     "name": "stderr",
     "output_type": "stream",
     "text": [
      "/Users/kimhyunjo/opt/anaconda3/lib/python3.8/site-packages/IPython/core/interactiveshell.py:3146: DtypeWarning: Columns (2,11,16,17,21,22,26,27,31,32,36,37,41,42,46,47) have mixed types.Specify dtype option on import or set low_memory=False.\n",
      "  has_raised = await self.run_ast_nodes(code_ast.body, cell_name,\n"
     ]
    }
   ],
   "source": [
    "d = pd.read_csv(path+file_list_py[3])"
   ]
  },
  {
   "cell_type": "code",
   "execution_count": 128,
   "metadata": {},
   "outputs": [
    {
     "data": {
      "text/plain": [
       "Index(['0', '1', '2', '3', '4', '5', '6', '7', '8', '9', '10', '11', '12',\n",
       "       '13', '14', '15', '16', '17', '18', '19', '20', '21', '22', '23', '24',\n",
       "       '25', '26', '27', '28', '29', '30', '31', '32', '33', '34', '35', '36',\n",
       "       '37', '38', '39', '40', '41', '42', '43', '44', '45', '46', '47', '48',\n",
       "       '49'],\n",
       "      dtype='object')"
      ]
     },
     "execution_count": 128,
     "metadata": {},
     "output_type": "execute_result"
    }
   ],
   "source": [
    "d.columns"
   ]
  },
  {
   "cell_type": "code",
   "execution_count": 129,
   "metadata": {},
   "outputs": [
    {
     "data": {
      "text/plain": [
       "20688"
      ]
     },
     "execution_count": 129,
     "metadata": {},
     "output_type": "execute_result"
    }
   ],
   "source": [
    "d['14'].isnull().sum()"
   ]
  },
  {
   "cell_type": "code",
   "execution_count": 130,
   "metadata": {},
   "outputs": [
    {
     "data": {
      "text/plain": [
       "20689"
      ]
     },
     "execution_count": 130,
     "metadata": {},
     "output_type": "execute_result"
    }
   ],
   "source": [
    "len(d)"
   ]
  },
  {
   "cell_type": "code",
   "execution_count": 131,
   "metadata": {},
   "outputs": [],
   "source": [
    "ck = d[d['14'].notnull()]"
   ]
  },
  {
   "cell_type": "code",
   "execution_count": 132,
   "metadata": {},
   "outputs": [],
   "source": [
    "d = d.drop([10505])"
   ]
  },
  {
   "cell_type": "code",
   "execution_count": 133,
   "metadata": {},
   "outputs": [],
   "source": [
    "d = d.iloc[:,0:14]"
   ]
  },
  {
   "cell_type": "code",
   "execution_count": 135,
   "metadata": {},
   "outputs": [],
   "source": [
    "d.columns = col"
   ]
  },
  {
   "cell_type": "code",
   "execution_count": 136,
   "metadata": {},
   "outputs": [],
   "source": [
    "e = pd.read_csv(path+file_list_py[4])"
   ]
  },
  {
   "cell_type": "code",
   "execution_count": 138,
   "metadata": {},
   "outputs": [],
   "source": [
    "f = pd.read_csv(path+file_list_py[5])"
   ]
  },
  {
   "cell_type": "code",
   "execution_count": 143,
   "metadata": {},
   "outputs": [
    {
     "data": {
      "text/plain": [
       "['영양제1.csv',\n",
       " '엠이티에스파마_한국건강기능식품협회(임시2).csv',\n",
       " '엠이티에스파마_한국건강기능식품협회_완료(1).csv',\n",
       " '엠이티에스파마_한국건강기능식품협회.csv',\n",
       " '엠이티에스파마_한국건강기능식품협회(임시1).csv',\n",
       " '엠이티에스파마_한국건강기능식품협회(임시).csv']"
      ]
     },
     "execution_count": 143,
     "metadata": {},
     "output_type": "execute_result"
    }
   ],
   "source": [
    "file_list_py"
   ]
  },
  {
   "cell_type": "code",
   "execution_count": 151,
   "metadata": {},
   "outputs": [],
   "source": [
    "df = pd.concat([a,b,c,d,e,f])"
   ]
  },
  {
   "cell_type": "code",
   "execution_count": 153,
   "metadata": {},
   "outputs": [
    {
     "data": {
      "text/html": [
       "<div>\n",
       "<style scoped>\n",
       "    .dataframe tbody tr th:only-of-type {\n",
       "        vertical-align: middle;\n",
       "    }\n",
       "\n",
       "    .dataframe tbody tr th {\n",
       "        vertical-align: top;\n",
       "    }\n",
       "\n",
       "    .dataframe thead th {\n",
       "        text-align: right;\n",
       "    }\n",
       "</style>\n",
       "<table border=\"1\" class=\"dataframe\">\n",
       "  <thead>\n",
       "    <tr style=\"text-align: right;\">\n",
       "      <th></th>\n",
       "      <th>인허가 번호</th>\n",
       "      <th>업소 명</th>\n",
       "      <th>품목제조번호</th>\n",
       "      <th>품목명</th>\n",
       "      <th>보고일자</th>\n",
       "      <th>유통기한</th>\n",
       "      <th>성상</th>\n",
       "      <th>섭취방법</th>\n",
       "      <th>주된기능성</th>\n",
       "      <th>섭취시 주의사항</th>\n",
       "      <th>보관방법</th>\n",
       "      <th>형태</th>\n",
       "      <th>기준규격</th>\n",
       "      <th>원재료</th>\n",
       "    </tr>\n",
       "  </thead>\n",
       "  <tbody>\n",
       "    <tr>\n",
       "      <th>0</th>\n",
       "      <td>20200016252</td>\n",
       "      <td>(주)네추럴에프앤피</td>\n",
       "      <td>2020001625257</td>\n",
       "      <td>피지에이폴리</td>\n",
       "      <td>20211217</td>\n",
       "      <td>제조일로부터 24개월</td>\n",
       "      <td>고유의 향미가 있고 이미·이취가 없는 연한 갈색의 액상(액체)</td>\n",
       "      <td>1일 1회, 1회 1포(20 g)를 섭취하십시오.</td>\n",
       "      <td>[청국장균배양정제물(폴리감마글루탐산칼륨)(제2012-25호)] - (국문) 면역기능...</td>\n",
       "      <td>① 알레르기 체질이신 경우 성분을 확인한 후 섭취여부를 결정하여야 함 [청국장균배양...</td>\n",
       "      <td>NaN</td>\n",
       "      <td>NaN</td>\n",
       "      <td>① 성상 : 고유의 향미가 있고 이미·이취가 없는 연한 갈색의 액상(액체) ② 폴리...</td>\n",
       "      <td>비타민 B6(고시형),셀레늄(고시형),아연(고시형),청국장균배양정제물(폴리감마글루탐...</td>\n",
       "    </tr>\n",
       "    <tr>\n",
       "      <th>1</th>\n",
       "      <td>20200016525</td>\n",
       "      <td>경방신약(주) 금산공장</td>\n",
       "      <td>20200016525111</td>\n",
       "      <td>흑삼농축액</td>\n",
       "      <td>20211217</td>\n",
       "      <td>제조일로부터 36개월</td>\n",
       "      <td>고유의 향미가 있고 이미, 이취가 없는 진한갈색의 점조성 액상</td>\n",
       "      <td>완제품의 원료로서 적정량 사용</td>\n",
       "      <td>①면역력 증진·피로개선·혈소판 응집억제를 통한 혈액흐름·기억력 개선·항산화·갱년기 ...</td>\n",
       "      <td>의약품(당뇨치료제, 혈액항응고제) 복용 시 섭취에 주의</td>\n",
       "      <td>NaN</td>\n",
       "      <td>NaN</td>\n",
       "      <td>① 성상 : 고유의 향미가 있고 이미, 이취가 없는 진한갈색의 점조성 액상 ② 진세...</td>\n",
       "      <td>홍삼(고시형)</td>\n",
       "    </tr>\n",
       "    <tr>\n",
       "      <th>2</th>\n",
       "      <td>20200016357</td>\n",
       "      <td>농업회사법인(주)글로벌금산진생</td>\n",
       "      <td>2020001635712</td>\n",
       "      <td>프리미엄 홍삼정 천명 플러스</td>\n",
       "      <td>20211217</td>\n",
       "      <td>제조일로부터 36개월까지</td>\n",
       "      <td>고유의 향미가 있고 이미·이취가 없는 진한 갈색의 점도가 있는 액상</td>\n",
       "      <td>1일 3회, 1회 1스푼(1g)씩 온수 또는 냉수에 타거나 직접 섭취하십시오.</td>\n",
       "      <td>면역력 증진·피로개선·혈소판 응집억제를 통한 혈액흐름·기억력 개선·항산화·갱년기 여...</td>\n",
       "      <td>의약품(당뇨치료제, 혈액항응고제) 복용 시 섭취에 주의하십시오.</td>\n",
       "      <td>NaN</td>\n",
       "      <td>NaN</td>\n",
       "      <td>1.성상: 고유의 향미가 있고 이미·이취가 없는 진한 갈색의 점도가 있는 액상 2....</td>\n",
       "      <td>홍삼농축액(고시형)</td>\n",
       "    </tr>\n",
       "    <tr>\n",
       "      <th>3</th>\n",
       "      <td>20210018427</td>\n",
       "      <td>(주)비락 진천공장</td>\n",
       "      <td>202100184271</td>\n",
       "      <td>오늘의 면역</td>\n",
       "      <td>20211217</td>\n",
       "      <td>제조일로부터 18개월</td>\n",
       "      <td>고유의 향미가 있고 이미, 이취가 없는 진한 자주색의 액상</td>\n",
       "      <td>1일 1회 1포를 섭취 하십시오</td>\n",
       "      <td>①정상적인 면역기능에 필요②정상적인 세포분열에 필요 ①단백질 및 아미노산 이용에 필...</td>\n",
       "      <td>NaN</td>\n",
       "      <td>NaN</td>\n",
       "      <td>NaN</td>\n",
       "      <td>성상: 고유의 향미가 있고 이미·이취가 없는 진한 자주색의 액상 비타민 B6 : 1...</td>\n",
       "      <td>비타민 B6(고시형),아연(고시형),정제수,비타민C(고시형),블랙엘더베리추출물분말,...</td>\n",
       "    </tr>\n",
       "    <tr>\n",
       "      <th>4</th>\n",
       "      <td>20200016357</td>\n",
       "      <td>농업회사법인(주)글로벌금산진생</td>\n",
       "      <td>2020001635711</td>\n",
       "      <td>고려홍삼농축액골드</td>\n",
       "      <td>20211217</td>\n",
       "      <td>제조일로부터 36개월까지</td>\n",
       "      <td>고유의 향미가 있고 이미,이취가 없는 진한 갈색의 점도가 있는 액상</td>\n",
       "      <td>1일 3회, 1회 1스푼(1g)을 온수 또는 냉수에 타서 드십시오.</td>\n",
       "      <td>①면역력 증진·피로개선·혈소판 응집억제를 통한 혈액흐름·기억력 개선·항산화에 도움을...</td>\n",
       "      <td>의약품(당뇨치료제, 혈액항응고제) 복용 시 섭취에 주의</td>\n",
       "      <td>NaN</td>\n",
       "      <td>NaN</td>\n",
       "      <td>1.성상: 고유의 향미가 있고 이미·이취가 없는 진한 갈색의 점도가 있는 액상 2....</td>\n",
       "      <td>홍삼농축액(고시형)</td>\n",
       "    </tr>\n",
       "    <tr>\n",
       "      <th>...</th>\n",
       "      <td>...</td>\n",
       "      <td>...</td>\n",
       "      <td>...</td>\n",
       "      <td>...</td>\n",
       "      <td>...</td>\n",
       "      <td>...</td>\n",
       "      <td>...</td>\n",
       "      <td>...</td>\n",
       "      <td>...</td>\n",
       "      <td>...</td>\n",
       "      <td>...</td>\n",
       "      <td>...</td>\n",
       "      <td>...</td>\n",
       "      <td>...</td>\n",
       "    </tr>\n",
       "    <tr>\n",
       "      <th>59407</th>\n",
       "      <td>20040020013</td>\n",
       "      <td>(주)한국인삼공사</td>\n",
       "      <td>20040020013274</td>\n",
       "      <td>홍삼정 賢(현)</td>\n",
       "      <td>20150821</td>\n",
       "      <td>제조일로부터 2년</td>\n",
       "      <td>흑갈색의 점성을 갖는 유동성 액상으로서, 이미 ․ 이취가 없을 것</td>\n",
       "      <td>1일 2회, 1회 5 g을 온수 또는 냉수에 타거나 직접 섭취하십시오.</td>\n",
       "      <td>①면역력 증진에 도움을 줄 수 있음②피로개선에 도움을 줄 수 있음③혈소판 응집 억제...</td>\n",
       "      <td>의약품(당뇨치료제, 혈액항응고제) 복용 시 섭취에 주의</td>\n",
       "      <td>NaN</td>\n",
       "      <td>NaN</td>\n",
       "      <td>1) 성상 : 흑갈색의 점성을 갖는 유동성 액상으로서, 이미 ․ 이취가 없을 것 2...</td>\n",
       "      <td>홍삼농축액(고시형),영지버섯추출물,벌꿀,상황버섯자실체농축물,프락토올리고당,자일리톨,...</td>\n",
       "    </tr>\n",
       "    <tr>\n",
       "      <th>59408</th>\n",
       "      <td>20040020013</td>\n",
       "      <td>(주)한국인삼공사</td>\n",
       "      <td>20040020013275</td>\n",
       "      <td>홍삼정화액 리미티드</td>\n",
       "      <td>20150821</td>\n",
       "      <td>제조일로부터 2년</td>\n",
       "      <td>흑갈색의 점성을 갖는 유동성 액상으로서, 이미 ․ 이취가 없을 것</td>\n",
       "      <td>1일 2회, 1회 5 g을 온수 또는 냉수에 타거나 직접 섭취하십시오.</td>\n",
       "      <td>①면역력 증진에 도움을 줄 수 있음②피로개선에 도움을 줄 수 있음③혈소판 응집 억제...</td>\n",
       "      <td>의약품(당뇨치료제, 혈액항응고제) 복용 시 섭취에 주의</td>\n",
       "      <td>NaN</td>\n",
       "      <td>NaN</td>\n",
       "      <td>1) 성상 : 흑갈색의 점성을 갖는 유동성 액상으로서, 이미 ․ 이취가 없을 것 2...</td>\n",
       "      <td>홍삼농축액(고시형),말토올리고당,차가버섯농축액,자일리톨,덱스트린,벌꿀,프락토올리고당</td>\n",
       "    </tr>\n",
       "    <tr>\n",
       "      <th>59409</th>\n",
       "      <td>20040017006</td>\n",
       "      <td>(주)알피바이오</td>\n",
       "      <td>20040017006521</td>\n",
       "      <td>닥터맘스 오메가3</td>\n",
       "      <td>20150821</td>\n",
       "      <td>제조일로부터 24개월</td>\n",
       "      <td>고유의 향미가 있고 이미, 이취가 없는 흰 노랑색의 내용물을 함유한 투명한 타원형 ...</td>\n",
       "      <td>1일 1회, 1회 3캡슐을 충분한 물과 함께 섭취하십시오.</td>\n",
       "      <td>①혈중 중성지질 개선·혈행 개선·건조한 눈을 개선하여 눈 건강에 도움을 줄 수 있음</td>\n",
       "      <td>NaN</td>\n",
       "      <td>NaN</td>\n",
       "      <td>NaN</td>\n",
       "      <td>1. 성상 : 고유의 향미가 있고 이미, 이취가 없는 흰 노랑색의 내용물을 함유한 ...</td>\n",
       "      <td>EPA및DHA함유유지(고시형),카라기난,변성전분,글리세린,레몬향오일</td>\n",
       "    </tr>\n",
       "    <tr>\n",
       "      <th>59410</th>\n",
       "      <td>20040015083</td>\n",
       "      <td>주식회사한미양행</td>\n",
       "      <td>20040015083751</td>\n",
       "      <td>하와이스피루리나</td>\n",
       "      <td>20150821</td>\n",
       "      <td>제조일로부터 24개월</td>\n",
       "      <td>이미, 이취가 없으며 고유의 향미를 지닌 검은녹색의 분말.</td>\n",
       "      <td>1일 1회, 1회 900mg(1 스푼)을 충분한 물과 함께 섭취하십시오.</td>\n",
       "      <td>①피부건강에 도움을 줄 수 있음 ②항산화에 도움을 줄 수 있음</td>\n",
       "      <td>알레르기 체질이신 경우 성분을 확인 한 후 섭취하시기 바랍니다.</td>\n",
       "      <td>NaN</td>\n",
       "      <td>NaN</td>\n",
       "      <td>(1) 성상 : 이미, 이취가 없으며 고유의 향미를 지닌 검은녹색의 분말. (2) ...</td>\n",
       "      <td>스피루리나</td>\n",
       "    </tr>\n",
       "    <tr>\n",
       "      <th>59411</th>\n",
       "      <td>20040015083</td>\n",
       "      <td>주식회사한미양행</td>\n",
       "      <td>20040015083752</td>\n",
       "      <td>캐치당</td>\n",
       "      <td>20150821</td>\n",
       "      <td>제조일로부터 24개월</td>\n",
       "      <td>이미, 이취가 없으며 고유의 향미를 지닌 갈색의 액상 제품.</td>\n",
       "      <td>1일 2회, 1회 1포</td>\n",
       "      <td>①식후혈당상승 억제에 도움을 줄 수 있음 ②혈중 중성지질 개선에 도움을 줄 수 있음...</td>\n",
       "      <td>반드시 충분한 물과 함께 섭취할 것(액상제외)</td>\n",
       "      <td>NaN</td>\n",
       "      <td>NaN</td>\n",
       "      <td>(1) 성상 : 이미, 이취가 없으며 고유의 향미를 지닌 갈색의 액상 제품. (2)...</td>\n",
       "      <td>난소화성말토덱스트린(고시형),식물혼합추출물,자몽종자추출물,바나바잎추출물</td>\n",
       "    </tr>\n",
       "  </tbody>\n",
       "</table>\n",
       "<p>59412 rows × 14 columns</p>\n",
       "</div>"
      ],
      "text/plain": [
       "            인허가 번호              업소 명          품목제조번호              품목명  \\\n",
       "0      20200016252        (주)네추럴에프앤피   2020001625257           피지에이폴리   \n",
       "1      20200016525      경방신약(주) 금산공장  20200016525111            흑삼농축액   \n",
       "2      20200016357  농업회사법인(주)글로벌금산진생   2020001635712  프리미엄 홍삼정 천명 플러스   \n",
       "3      20210018427        (주)비락 진천공장    202100184271           오늘의 면역   \n",
       "4      20200016357  농업회사법인(주)글로벌금산진생   2020001635711        고려홍삼농축액골드   \n",
       "...            ...               ...             ...              ...   \n",
       "59407  20040020013         (주)한국인삼공사  20040020013274         홍삼정 賢(현)   \n",
       "59408  20040020013         (주)한국인삼공사  20040020013275       홍삼정화액 리미티드   \n",
       "59409  20040017006          (주)알피바이오  20040017006521        닥터맘스 오메가3   \n",
       "59410  20040015083          주식회사한미양행  20040015083751         하와이스피루리나   \n",
       "59411  20040015083          주식회사한미양행  20040015083752              캐치당   \n",
       "\n",
       "           보고일자           유통기한  \\\n",
       "0      20211217    제조일로부터 24개월   \n",
       "1      20211217    제조일로부터 36개월   \n",
       "2      20211217  제조일로부터 36개월까지   \n",
       "3      20211217    제조일로부터 18개월   \n",
       "4      20211217  제조일로부터 36개월까지   \n",
       "...         ...            ...   \n",
       "59407  20150821      제조일로부터 2년   \n",
       "59408  20150821      제조일로부터 2년   \n",
       "59409  20150821    제조일로부터 24개월   \n",
       "59410  20150821    제조일로부터 24개월   \n",
       "59411  20150821    제조일로부터 24개월   \n",
       "\n",
       "                                                      성상  \\\n",
       "0                     고유의 향미가 있고 이미·이취가 없는 연한 갈색의 액상(액체)   \n",
       "1                     고유의 향미가 있고 이미, 이취가 없는 진한갈색의 점조성 액상   \n",
       "2                  고유의 향미가 있고 이미·이취가 없는 진한 갈색의 점도가 있는 액상   \n",
       "3                       고유의 향미가 있고 이미, 이취가 없는 진한 자주색의 액상   \n",
       "4                  고유의 향미가 있고 이미,이취가 없는 진한 갈색의 점도가 있는 액상   \n",
       "...                                                  ...   \n",
       "59407               흑갈색의 점성을 갖는 유동성 액상으로서, 이미 ․ 이취가 없을 것   \n",
       "59408               흑갈색의 점성을 갖는 유동성 액상으로서, 이미 ․ 이취가 없을 것   \n",
       "59409  고유의 향미가 있고 이미, 이취가 없는 흰 노랑색의 내용물을 함유한 투명한 타원형 ...   \n",
       "59410                   이미, 이취가 없으며 고유의 향미를 지닌 검은녹색의 분말.   \n",
       "59411                  이미, 이취가 없으며 고유의 향미를 지닌 갈색의 액상 제품.   \n",
       "\n",
       "                                              섭취방법  \\\n",
       "0                      1일 1회, 1회 1포(20 g)를 섭취하십시오.   \n",
       "1                                 완제품의 원료로서 적정량 사용   \n",
       "2      1일 3회, 1회 1스푼(1g)씩 온수 또는 냉수에 타거나 직접 섭취하십시오.   \n",
       "3                                1일 1회 1포를 섭취 하십시오   \n",
       "4            1일 3회, 1회 1스푼(1g)을 온수 또는 냉수에 타서 드십시오.   \n",
       "...                                            ...   \n",
       "59407      1일 2회, 1회 5 g을 온수 또는 냉수에 타거나 직접 섭취하십시오.   \n",
       "59408      1일 2회, 1회 5 g을 온수 또는 냉수에 타거나 직접 섭취하십시오.   \n",
       "59409             1일 1회, 1회 3캡슐을 충분한 물과 함께 섭취하십시오.   \n",
       "59410     1일 1회, 1회 900mg(1 스푼)을 충분한 물과 함께 섭취하십시오.   \n",
       "59411                                 1일 2회, 1회 1포   \n",
       "\n",
       "                                                   주된기능성  \\\n",
       "0      [청국장균배양정제물(폴리감마글루탐산칼륨)(제2012-25호)] - (국문) 면역기능...   \n",
       "1      ①면역력 증진·피로개선·혈소판 응집억제를 통한 혈액흐름·기억력 개선·항산화·갱년기 ...   \n",
       "2      면역력 증진·피로개선·혈소판 응집억제를 통한 혈액흐름·기억력 개선·항산화·갱년기 여...   \n",
       "3      ①정상적인 면역기능에 필요②정상적인 세포분열에 필요 ①단백질 및 아미노산 이용에 필...   \n",
       "4      ①면역력 증진·피로개선·혈소판 응집억제를 통한 혈액흐름·기억력 개선·항산화에 도움을...   \n",
       "...                                                  ...   \n",
       "59407  ①면역력 증진에 도움을 줄 수 있음②피로개선에 도움을 줄 수 있음③혈소판 응집 억제...   \n",
       "59408  ①면역력 증진에 도움을 줄 수 있음②피로개선에 도움을 줄 수 있음③혈소판 응집 억제...   \n",
       "59409     ①혈중 중성지질 개선·혈행 개선·건조한 눈을 개선하여 눈 건강에 도움을 줄 수 있음   \n",
       "59410                 ①피부건강에 도움을 줄 수 있음 ②항산화에 도움을 줄 수 있음   \n",
       "59411  ①식후혈당상승 억제에 도움을 줄 수 있음 ②혈중 중성지질 개선에 도움을 줄 수 있음...   \n",
       "\n",
       "                                                섭취시 주의사항 보관방법   형태  \\\n",
       "0      ① 알레르기 체질이신 경우 성분을 확인한 후 섭취여부를 결정하여야 함 [청국장균배양...  NaN  NaN   \n",
       "1                         의약품(당뇨치료제, 혈액항응고제) 복용 시 섭취에 주의  NaN  NaN   \n",
       "2                    의약품(당뇨치료제, 혈액항응고제) 복용 시 섭취에 주의하십시오.  NaN  NaN   \n",
       "3                                                    NaN  NaN  NaN   \n",
       "4                         의약품(당뇨치료제, 혈액항응고제) 복용 시 섭취에 주의  NaN  NaN   \n",
       "...                                                  ...  ...  ...   \n",
       "59407                     의약품(당뇨치료제, 혈액항응고제) 복용 시 섭취에 주의  NaN  NaN   \n",
       "59408                     의약품(당뇨치료제, 혈액항응고제) 복용 시 섭취에 주의  NaN  NaN   \n",
       "59409                                                NaN  NaN  NaN   \n",
       "59410                알레르기 체질이신 경우 성분을 확인 한 후 섭취하시기 바랍니다.  NaN  NaN   \n",
       "59411                          반드시 충분한 물과 함께 섭취할 것(액상제외)  NaN  NaN   \n",
       "\n",
       "                                                    기준규격  \\\n",
       "0      ① 성상 : 고유의 향미가 있고 이미·이취가 없는 연한 갈색의 액상(액체) ② 폴리...   \n",
       "1      ① 성상 : 고유의 향미가 있고 이미, 이취가 없는 진한갈색의 점조성 액상 ② 진세...   \n",
       "2      1.성상: 고유의 향미가 있고 이미·이취가 없는 진한 갈색의 점도가 있는 액상 2....   \n",
       "3      성상: 고유의 향미가 있고 이미·이취가 없는 진한 자주색의 액상 비타민 B6 : 1...   \n",
       "4      1.성상: 고유의 향미가 있고 이미·이취가 없는 진한 갈색의 점도가 있는 액상 2....   \n",
       "...                                                  ...   \n",
       "59407  1) 성상 : 흑갈색의 점성을 갖는 유동성 액상으로서, 이미 ․ 이취가 없을 것 2...   \n",
       "59408  1) 성상 : 흑갈색의 점성을 갖는 유동성 액상으로서, 이미 ․ 이취가 없을 것 2...   \n",
       "59409  1. 성상 : 고유의 향미가 있고 이미, 이취가 없는 흰 노랑색의 내용물을 함유한 ...   \n",
       "59410  (1) 성상 : 이미, 이취가 없으며 고유의 향미를 지닌 검은녹색의 분말. (2) ...   \n",
       "59411  (1) 성상 : 이미, 이취가 없으며 고유의 향미를 지닌 갈색의 액상 제품. (2)...   \n",
       "\n",
       "                                                     원재료  \n",
       "0      비타민 B6(고시형),셀레늄(고시형),아연(고시형),청국장균배양정제물(폴리감마글루탐...  \n",
       "1                                                홍삼(고시형)  \n",
       "2                                             홍삼농축액(고시형)  \n",
       "3      비타민 B6(고시형),아연(고시형),정제수,비타민C(고시형),블랙엘더베리추출물분말,...  \n",
       "4                                             홍삼농축액(고시형)  \n",
       "...                                                  ...  \n",
       "59407  홍삼농축액(고시형),영지버섯추출물,벌꿀,상황버섯자실체농축물,프락토올리고당,자일리톨,...  \n",
       "59408     홍삼농축액(고시형),말토올리고당,차가버섯농축액,자일리톨,덱스트린,벌꿀,프락토올리고당  \n",
       "59409              EPA및DHA함유유지(고시형),카라기난,변성전분,글리세린,레몬향오일  \n",
       "59410                                              스피루리나  \n",
       "59411            난소화성말토덱스트린(고시형),식물혼합추출물,자몽종자추출물,바나바잎추출물  \n",
       "\n",
       "[59412 rows x 14 columns]"
      ]
     },
     "execution_count": 153,
     "metadata": {},
     "output_type": "execute_result"
    }
   ],
   "source": [
    "df = df.reset_index(drop = True)\n",
    "df"
   ]
  },
  {
   "cell_type": "code",
   "execution_count": 157,
   "metadata": {},
   "outputs": [],
   "source": [
    "df = df.drop_duplicates()"
   ]
  },
  {
   "cell_type": "code",
   "execution_count": 188,
   "metadata": {},
   "outputs": [],
   "source": [
    "df = df.reset_index(drop=True)"
   ]
  },
  {
   "cell_type": "code",
   "execution_count": 167,
   "metadata": {},
   "outputs": [
    {
     "data": {
      "text/plain": [
       "Index(['인허가 번호', '업소 명', '품목제조번호', '품목명', '보고일자', '유통기한', '성상', '섭취방법',\n",
       "       '주된기능성', '섭취시 주의사항', '보관방법', '형태', '기준규격', '원재료'],\n",
       "      dtype='object')"
      ]
     },
     "execution_count": 167,
     "metadata": {},
     "output_type": "execute_result"
    }
   ],
   "source": [
    "df.columns"
   ]
  },
  {
   "cell_type": "code",
   "execution_count": 193,
   "metadata": {},
   "outputs": [],
   "source": [
    "df.to_csv('/Users/kimhyunjo/Desktop/완성본.csv',index=None,encoding='utf-8-sig')"
   ]
  },
  {
   "cell_type": "code",
   "execution_count": 184,
   "metadata": {},
   "outputs": [],
   "source": [
    "a = df['섭취방법'].tolist()"
   ]
  },
  {
   "cell_type": "code",
   "execution_count": 173,
   "metadata": {},
   "outputs": [],
   "source": [
    "df = df.astype({'품목제조번호':'int'})"
   ]
  },
  {
   "cell_type": "code",
   "execution_count": 186,
   "metadata": {},
   "outputs": [],
   "source": [
    "df = df.drop_duplicates()"
   ]
  },
  {
   "cell_type": "code",
   "execution_count": 194,
   "metadata": {},
   "outputs": [
    {
     "data": {
      "text/plain": [
       "32002"
      ]
     },
     "execution_count": 194,
     "metadata": {},
     "output_type": "execute_result"
    }
   ],
   "source": [
    "len(df)"
   ]
  },
  {
   "cell_type": "code",
   "execution_count": null,
   "metadata": {},
   "outputs": [],
   "source": []
  }
 ],
 "metadata": {
  "kernelspec": {
   "display_name": "Python 3 (ipykernel)",
   "language": "python",
   "name": "python3"
  },
  "language_info": {
   "codemirror_mode": {
    "name": "ipython",
    "version": 3
   },
   "file_extension": ".py",
   "mimetype": "text/x-python",
   "name": "python",
   "nbconvert_exporter": "python",
   "pygments_lexer": "ipython3",
   "version": "3.8.15"
  }
 },
 "nbformat": 4,
 "nbformat_minor": 4
}
