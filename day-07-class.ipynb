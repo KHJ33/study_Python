{
 "cells": [
  {
   "cell_type": "markdown",
   "metadata": {},
   "source": [
    "# chapter 8 - class1"
   ]
  },
  {
   "cell_type": "code",
   "execution_count": 1,
   "metadata": {},
   "outputs": [],
   "source": [
    "# 클래스의 생성자와 소멸자 -> 자동 실행\n",
    "\n",
    "class Test :\n",
    "    def __init__(self, 매개변수1, 매개변수2, ... ) :\n",
    "        self.변수명 = 매개변수1\n",
    "        ...\n",
    "        print('생성자 실행')\n",
    "    def __del__(self) :\n",
    "        print('소멸자 실행')\n",
    "        \n",
    "    def to_print(self, 매개변수) :\n",
    "        ..."
   ]
  },
  {
   "cell_type": "markdown",
   "metadata": {},
   "source": [
    "## chapter 8 - 2 클래스의 추가적인 구문"
   ]
  },
  {
   "cell_type": "code",
   "execution_count": 4,
   "metadata": {},
   "outputs": [
    {
     "name": "stdout",
     "output_type": "stream",
     "text": [
      "True <class '__main__.Student'>\n"
     ]
    }
   ],
   "source": [
    "# isinstance(인스턴스, 클래스명) -> True or False\n",
    "\n",
    "class Student :\n",
    "    def __init__(self) :\n",
    "        pass\n",
    "    \n",
    "student = Student()\n",
    "print(isinstance(student, Student), type(student))"
   ]
  },
  {
   "cell_type": "code",
   "execution_count": 5,
   "metadata": {},
   "outputs": [
    {
     "name": "stdout",
     "output_type": "stream",
     "text": [
      "Student class ?? :  True\n",
      "Human class ?? :  True\n",
      "type(student) == Student or Human :  <class '__main__.Student'>\n"
     ]
    }
   ],
   "source": [
    "class Human :\n",
    "    def __init__(self) :\n",
    "        pass\n",
    "\n",
    "class Student(Human) : # class Human 을 상속받아 클래스 생성\n",
    "        def __init__(self) :\n",
    "            pass\n",
    "        \n",
    "student = Student()\n",
    "print('Student class ?? : ', isinstance(student, Student))\n",
    "print('Human class ?? : ', isinstance(student, Human))\n",
    "\n",
    "print('type(student) == Student or Human : ', type(student))"
   ]
  },
  {
   "cell_type": "code",
   "execution_count": 6,
   "metadata": {},
   "outputs": [
    {
     "name": "stdout",
     "output_type": "stream",
     "text": [
      "공부를 합니다.\n",
      "가르찹니다.\n",
      "공부를 합니다.\n",
      "공부를 합니다.\n",
      "가르찹니다.\n"
     ]
    }
   ],
   "source": [
    "class Student :\n",
    "    def study(self) :\n",
    "        print('공부를 합니다.')\n",
    "class Teacher :\n",
    "    def teach(self) :\n",
    "        print('가르찹니다.')\n",
    "        \n",
    "classroom = [Student(), Teacher() , Student() , Student(), Teacher()]\n",
    "# 각각의 인스턴스가 어느 클래스인지 확인\n",
    "\n",
    "for person in classroom :\n",
    "    if isinstance(person, Student):\n",
    "        person.study()\n",
    "    elif isinstance(person, Teacher) :\n",
    "        person.teach()"
   ]
  },
  {
   "cell_type": "markdown",
   "metadata": {},
   "source": [
    "# ✪✪✪✪✪✪"
   ]
  },
  {
   "cell_type": "code",
   "execution_count": 2,
   "metadata": {},
   "outputs": [
    {
     "name": "stdout",
     "output_type": "stream",
     "text": [
      "윤인성 : 358, 89.5\n",
      "연하진 : 384, 96.0\n",
      "구지연 : 356, 89.0\n"
     ]
    },
    {
     "data": {
      "text/plain": [
       "False"
      ]
     },
     "execution_count": 2,
     "metadata": {},
     "output_type": "execute_result"
    }
   ],
   "source": [
    "# class 로 학생의 객체 선언\n",
    "class Student :\n",
    "    \n",
    "    # 클래스 객체의 변수 초기화\n",
    "    def __init__(self, name, korean, math, english, science) :\n",
    "        self.name = name\n",
    "        self.korean = korean\n",
    "        self.math = math\n",
    "        self.english = english\n",
    "        self.science = science\n",
    "        \n",
    "    def get_sum(self):\n",
    "        return self.korean + self.math + self.english + self.science\n",
    "\n",
    "    def get_avg(self):\n",
    "        return self.get_sum() / 4\n",
    "    \n",
    "    def __str__(self) :\n",
    "        return '{} : {}, {}'.format(self.name, self.get_sum(), self.get_avg())\n",
    "    \n",
    "    def __eq__(self, value) : # ==\n",
    "        return self.get_sum() == value.get_sum()\n",
    "    \n",
    "    def __gt__(self, value) : # ==\n",
    "        return self.get_sum() > value.get_sum()\n",
    "        \n",
    "students = [\n",
    "            Student('윤인성', 87, 88, 88, 95),\n",
    "            Student('연하진', 92, 98, 96, 98),\n",
    "            Student('구지연', 76, 96, 94, 90 )\n",
    "       ]\n",
    "\n",
    "for student in students :\n",
    "    print(str(student))\n",
    "    \n",
    "students[0] == students[1]\n",
    "students[0] > students[1]\n",
    "# students[0] == 10 # error\n",
    "\n",
    "str(10)"
   ]
  },
  {
   "cell_type": "code",
   "execution_count": 3,
   "metadata": {},
   "outputs": [
    {
     "name": "stdout",
     "output_type": "stream",
     "text": [
      "총 학생의 수 3\n"
     ]
    }
   ],
   "source": [
    "# 클래스 변수 -> 클래스명.클래스 변수\n",
    "class Student :\n",
    "    \n",
    "    count = 0\n",
    "    \n",
    "    # 클래스 객체의 변수 초기화\n",
    "    def __init__(self, name, korean, math, english, science) :\n",
    "        self.name = name\n",
    "        self.korean = korean\n",
    "        self.math = math\n",
    "        self.english = english\n",
    "        self.science = science\n",
    "        \n",
    "        Student.count += 1\n",
    "    \n",
    "students = [\n",
    "            Student('윤인성', 87, 88, 88, 95),\n",
    "            Student('연하진', 92, 98, 96, 98),\n",
    "            Student('구지연', 76, 96, 94, 90 )\n",
    "       ]\n",
    "\n",
    "print('총 학생의 수', Student.count)"
   ]
  },
  {
   "cell_type": "markdown",
   "metadata": {},
   "source": [
    "# ✪✪✪✪✪✪"
   ]
  },
  {
   "cell_type": "code",
   "execution_count": 5,
   "metadata": {},
   "outputs": [
    {
     "name": "stdout",
     "output_type": "stream",
     "text": [
      "------------ 학생 목록 ------------\n",
      "이름\t총점\t평균\n",
      "윤인성 : 358, 89.5\n",
      "연하진 : 384, 96.0\n",
      "구지연 : 356, 89.0\n",
      "-----------------------------------\n"
     ]
    }
   ],
   "source": [
    "# 클래스 함수 : @classmethod 다음에 클래스 함수 정의\n",
    "class Student :\n",
    "    count = 0\n",
    "    students = []\n",
    "    \n",
    "    # 클래스 객체의 변수 초기화\n",
    "    def __init__(self, name, korean, math, english, science) :\n",
    "        self.name = name\n",
    "        self.korean = korean\n",
    "        self.math = math\n",
    "        self.english = english\n",
    "        self.science = science\n",
    "        \n",
    "        Student.count += 1\n",
    "        Student.students.append(self)\n",
    "        \n",
    "    # 클래스 함수 정의\n",
    "    @classmethod\n",
    "    def print(cls):\n",
    "        print('------------ 학생 목록 ------------')\n",
    "        print('이름\\t총점\\t평균')\n",
    "        for student in cls.students :\n",
    "            print(str(student))\n",
    "        print('-----------------------------------')\n",
    "        \n",
    "    def get_sum(self):\n",
    "        return self.korean + self.math + self.english + self.science\n",
    "\n",
    "    def get_avg(self):\n",
    "        return self.get_sum() / 4\n",
    "    \n",
    "    def __str__(self) :\n",
    "        return '{} : {}, {}'.format(self.name, self.get_sum(), self.get_avg())\n",
    "    \n",
    "Student('윤인성', 87, 88, 88, 95),\n",
    "Student('연하진', 92, 98, 96, 98),\n",
    "Student('구지연', 76, 96, 94, 90 )\n",
    "\n",
    "# 생선된 학생의 자료 출력\n",
    "Student.print()"
   ]
  },
  {
   "cell_type": "code",
   "execution_count": 10,
   "metadata": {},
   "outputs": [
    {
     "name": "stdout",
     "output_type": "stream",
     "text": [
      "홍길동 의 잔액은 10000\n",
      "홍길동 의 잔액은 20000\n",
      "김철수 의 잔액은 25000\n"
     ]
    }
   ],
   "source": [
    "# 고객의 예금 관리\n",
    "class Customer :\n",
    "    def __init__(self, name, money) :\n",
    "        self.name = name\n",
    "        self.money = money\n",
    "        \n",
    "    def deposit(self, money) :\n",
    "        self.money += money\n",
    "        \n",
    "    def withdraw(self, money) :\n",
    "        self.money -= money\n",
    "        \n",
    "a = Customer('홍길동', 10000)\n",
    "print(f'{a.name} 의 잔액은 {a.money}')\n",
    "\n",
    "a.deposit(10000)\n",
    "print(f'{a.name} 의 잔액은 {a.money}')\n",
    "\n",
    "b = Customer('김철수', 30000)\n",
    "b.withdraw(5000)\n",
    "print(f'{b.name} 의 잔액은 {b.money}')"
   ]
  },
  {
   "cell_type": "code",
   "execution_count": 14,
   "metadata": {},
   "outputs": [
    {
     "name": "stdout",
     "output_type": "stream",
     "text": [
      "홍길동 의 잔액은 10000\n"
     ]
    }
   ],
   "source": [
    "# 고객의 예금 관리\n",
    "# private 변수 : 외부에서 접근 불가능한 변수 관리\n",
    "class Customer :\n",
    "    def __init__(self, name, money) :\n",
    "        self.name = name\n",
    "        self.__money = money # private 변수 선언 (내부의 함수를 통해서만 접근)\n",
    "        \n",
    "    def get_money(self): # getter 함수 \n",
    "        return self.__money\n",
    "    \n",
    "    def set_money(self, money): # setter 함수\n",
    "        self.__money = money\n",
    "        \n",
    "    def deposit(self, money) :\n",
    "        self.money += money\n",
    "        \n",
    "    def withdraw(self, money) :\n",
    "        self.money -= money\n",
    "        \n",
    "a = Customer('홍길동', 10000)\n",
    "print(f'{a.name} 의 잔액은 {a.get_money()}')"
   ]
  },
  {
   "cell_type": "markdown",
   "metadata": {},
   "source": [
    "# ✪✪✪✪✪✪"
   ]
  },
  {
   "cell_type": "code",
   "execution_count": 18,
   "metadata": {},
   "outputs": [
    {
     "name": "stdout",
     "output_type": "stream",
     "text": [
      "홍길동 의 잔액은 3000\n"
     ]
    }
   ],
   "source": [
    "# 데코레이터를 이용한 게터와 세터 : @property : getter @<변수이름>.setter\n",
    "class Customer :\n",
    "    def __init__(self, name, money) :\n",
    "        self.name = name\n",
    "        self.__money = money # private 변수 선언 (내부의 함수를 통해서만 접근)\n",
    "        \n",
    "    @property\n",
    "    def money(self): # getter 함수 \n",
    "        return self.__money\n",
    "    \n",
    "    @money.setter\n",
    "    def money(self, money): # setter 함수\n",
    "        self.__money = money\n",
    "        \n",
    "    def deposit(self, money) :\n",
    "        self.money += money\n",
    "        \n",
    "    def withdraw(self, money) :\n",
    "        self.money -= money\n",
    "        \n",
    "a = Customer('홍길동', 10000)\n",
    "a.money = 3000\n",
    "print(f'{a.name} 의 잔액은 {a.money}')"
   ]
  },
  {
   "cell_type": "code",
   "execution_count": 22,
   "metadata": {},
   "outputs": [
    {
     "name": "stdout",
     "output_type": "stream",
     "text": [
      "Parent 클래스의 __init()__ 메서드가 호출되었습니다.\n",
      "Child 클래스의 __init()__ 메서드가 호출되었습니다.\n",
      "Parent 클래스의 test() 메서드입니다.\n",
      "테스트\n"
     ]
    }
   ],
   "source": [
    "# 부모 클래스를 선언합니다.\n",
    "class Parent:\n",
    "    def __init__(self):\n",
    "        self.value = \"테스트\"\n",
    "        print(\"Parent 클래스의 __init()__ 메서드가 호출되었습니다.\")\n",
    "    def test(self):\n",
    "        print(\"Parent 클래스의 test() 메서드입니다.\")\n",
    "\n",
    "# 자식 클래스를 선언합니다.\n",
    "class Child(Parent):\n",
    "    def __init__(self):\n",
    "        Parent.__init__(self) \n",
    "        print(\"Child 클래스의 __init()__ 메서드가 호출되었습니다.\")\n",
    "\n",
    "# 자식 클래스의 인스턴스를 생성하고 부모의 메서드를 호출합니다.\n",
    "child = Child()\n",
    "child.test()\n",
    "print(child.value) # Parent 의 value 를 출력"
   ]
  },
  {
   "cell_type": "code",
   "execution_count": 21,
   "metadata": {},
   "outputs": [
    {
     "name": "stdout",
     "output_type": "stream",
     "text": [
      "Parent 클래스의 __init()__ 메서드가 호출되었습니다.\n",
      "Child 클래스의 __init()__ 메서드가 호출되었습니다.\n",
      "Child 클래스의 test() 메서드입니다.\n",
      "테스트\n"
     ]
    }
   ],
   "source": [
    "# 부모 클래스를 선언합니다.\n",
    "class Parent:\n",
    "    def __init__(self):\n",
    "        self.value = \"테스트\"\n",
    "        print(\"Parent 클래스의 __init()__ 메서드가 호출되었습니다.\")\n",
    "    def test(self):\n",
    "        print(\"Parent 클래스의 test() 메서드입니다.\")\n",
    "\n",
    "# 자식 클래스를 선언합니다.\n",
    "class Child(Parent):\n",
    "    def __init__(self):\n",
    "        Parent.__init__(self) \n",
    "        print(\"Child 클래스의 __init()__ 메서드가 호출되었습니다.\")\n",
    "    def test(self):\n",
    "        print(\"Child 클래스의 test() 메서드입니다.\")\n",
    "        \n",
    "child = Child()\n",
    "child.test() # Child 의 test() 실행\n",
    "print(child.value) # Parent 의 value 를 출력"
   ]
  }
 ],
 "metadata": {
  "kernelspec": {
   "display_name": "Python 3",
   "language": "python",
   "name": "python3"
  },
  "language_info": {
   "codemirror_mode": {
    "name": "ipython",
    "version": 3
   },
   "file_extension": ".py",
   "mimetype": "text/x-python",
   "name": "python",
   "nbconvert_exporter": "python",
   "pygments_lexer": "ipython3",
   "version": "3.8.5"
  }
 },
 "nbformat": 4,
 "nbformat_minor": 4
}
