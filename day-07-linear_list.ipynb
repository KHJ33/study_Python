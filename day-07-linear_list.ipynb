{
 "cells": [
  {
   "cell_type": "code",
   "execution_count": 3,
   "metadata": {},
   "outputs": [
    {
     "name": "stdout",
     "output_type": "stream",
     "text": [
      "['다현', '정현', '쯔위', '사나', '지효']\n"
     ]
    }
   ],
   "source": [
    "# 이름을 리스트에 추가하는 함수 정의\n",
    "\n",
    "def add_data(member) :\n",
    "    members.append(None) # 삽입하기 위해 마지막 노드 추가\n",
    "    member_len = len(members) # 마지막 위치 찾음 -1\n",
    "    members[member_len -1] = member\n",
    "\n",
    "members = []\n",
    "add_data('다현')\n",
    "add_data('정현')\n",
    "add_data('쯔위')\n",
    "add_data('사나')\n",
    "add_data('지효')\n",
    "\n",
    "print(members)"
   ]
  },
  {
   "cell_type": "code",
   "execution_count": 5,
   "metadata": {},
   "outputs": [
    {
     "name": "stdout",
     "output_type": "stream",
     "text": [
      "['다현', '정현', '쯔위', '사나', '지효']\n",
      "['다현', '솔라', '정현', '쯔위', '사나', '지효']\n"
     ]
    }
   ],
   "source": [
    "# 자료의 삽입\n",
    "def insert_data(index, member) :\n",
    "    if index < 0 or index > len(members) :\n",
    "        print('index error')\n",
    "        return\n",
    "    \n",
    "    # 빈칸 추가\n",
    "    members.append(None)\n",
    "    members_len = len(members) # 자료의 갯수\n",
    "    \n",
    "    # 마지막 위치 부터 index 앞까지 뒤에서 부터 -1\n",
    "    for i in range(members_len - 1 , index , -1) :\n",
    "        members[i] = members[i - 1]\n",
    "        members[i - 1] = None\n",
    "    members[index] = member # 지정한 위치에 자료 추가\n",
    "    \n",
    "print(members)\n",
    "insert_data(1, '솔라')\n",
    "print(members)"
   ]
  },
  {
   "cell_type": "code",
   "execution_count": 6,
   "metadata": {},
   "outputs": [
    {
     "name": "stdout",
     "output_type": "stream",
     "text": [
      "['다현', '솔라', '정현', '쯔위', '사나', '지효']\n",
      "['다현', '솔라', '쯔위', '사나', '지효']\n"
     ]
    }
   ],
   "source": [
    "# 자료의 삭제\n",
    "def delete_data(index) :\n",
    "    if index < 0 or index > len(members) :\n",
    "        print('index error')\n",
    "        return\n",
    "    \n",
    "    members[index] = None # 자료 삭제\n",
    "    members_len = len(members) # 자료의 갯수\n",
    "    \n",
    "    # 삭제된 index + 1 부터 끝까지 가면서 앞으로 이동\n",
    "    for i in range(index + 1 , len(members)) :\n",
    "        members[i - 1] = members[ i ]\n",
    "        members[ i ] = None\n",
    "    del(members[-1]) # 마지막 자료 None 삭제\n",
    "    \n",
    "print(members)\n",
    "delete_data(2)\n",
    "print(members)"
   ]
  },
  {
   "cell_type": "code",
   "execution_count": null,
   "metadata": {},
   "outputs": [],
   "source": [
    "def input_menu() :\n",
    "    while True :\n",
    "        select = input('1. 추가 , 2. 삽입 , 3. 삭제 , 4. 종료 : 선택 > '):\n",
    "            if 1 <= int(select) <= 4 :\n",
    "                return select\n",
    "            print('1 에서 4 까지의 수만 입력')\n",
    "\n",
    "def position_data() :\n",
    "    while True :\n",
    "        position = input('삽입할 위치 : ')\n",
    "        if position.isdigit() :\n",
    "            position = int(position)\n",
    "        else :\n",
    "            continue\n",
    "        data = input('삽입할 데이터 -> ')\n",
    "        return position , data"
   ]
  },
  {
   "cell_type": "code",
   "execution_count": 15,
   "metadata": {},
   "outputs": [],
   "source": [
    "# 데이터를 메뉴에 따라 1. 추가 , 2. 삽입 , 3. 삭제 , 4. 종료\n",
    "def main():\n",
    "    if __name__ == '__main__' :\n",
    "        while(True) :\n",
    "            select = input_menu()\n",
    "            if(select == 1) :\n",
    "                data = input('추가할 데이터 -> ')\n",
    "                add_data(data)\n",
    "            elif select == 2 :\n",
    "                position = int(input('삽입 할 위치 : '))\n",
    "                data = input('삽입할 데이터 -> ')\n",
    "                insert_data(position , data)\n",
    "            elif select == 3 :\n",
    "                position = int(input('삭제할 위치 : '))\n",
    "                delete_data(position)\n",
    "            elif select == 4 :\n",
    "                print(members)\n",
    "                break\n",
    "            else :\n",
    "                print('1 ~ 4 중에서 입력')"
   ]
  },
  {
   "cell_type": "code",
   "execution_count": 14,
   "metadata": {},
   "outputs": [
    {
     "name": "stdout",
     "output_type": "stream",
     "text": [
      "1. 추가 , 2. 삽입 , 3. 삭제 , 4. 종료 : 선택 >1\n",
      "추가할 데이터 -> qqq\n",
      "1. 추가 , 2. 삽입 , 3. 삭제 , 4. 종료 : 선택 >1\n",
      "추가할 데이터 -> wwww\n",
      "1. 추가 , 2. 삽입 , 3. 삭제 , 4. 종료 : 선택 >2\n",
      "삽입 할 위치 : 1\n",
      "삽입할 데이터 -> cc\n",
      "1. 추가 , 2. 삽입 , 3. 삭제 , 4. 종료 : 선택 >4\n",
      "['qqq', 'cc', 'wwww']\n"
     ]
    }
   ],
   "source": [
    "members = []\n",
    "if __name__ == '__main__' :\n",
    "    main()"
   ]
  },
  {
   "cell_type": "code",
   "execution_count": 1,
   "metadata": {},
   "outputs": [],
   "source": [
    "def insert_k(data) :\n",
    "    index = -1\n",
    "    for i , value in enumerate(kako) :\n",
    "        if value[1] <= data[1] :\n",
    "            index = i\n",
    "            break\n",
    "    if index != -1 :\n",
    "        kako.append(None)\n",
    "        for i in range(len(kako) - 1 , index , -1):\n",
    "            kako[i] = kako[i - 1]\n",
    "            kako[i - 1] = None\n",
    "        kako[index] = data\n",
    "    else :\n",
    "        kako.append(None)\n",
    "        kako[len(kako) - 1] = data\n",
    "        \n",
    "#kako = [('다현', 200) , ('정현', 150) , ('쯔위' , 90) , ('사나' , 30) , ('지효' , 15)]\n",
    "# kako = []\n",
    "\n",
    "def main() :\n",
    "    while True :\n",
    "\n",
    "        name = input('추가할 친구 (종료는 q): ')\n",
    "        if name == 'q' :\n",
    "            break\n",
    "        else :\n",
    "            count = input('카톡 횟수 : ')\n",
    "            if name.isalpha() and count.isdigit() :\n",
    "                insert_k((name,int(count)))\n",
    "                print(kako)\n",
    "            else :\n",
    "                print('입력을 확인하세요')"
   ]
  },
  {
   "cell_type": "code",
   "execution_count": 3,
   "metadata": {},
   "outputs": [
    {
     "name": "stdout",
     "output_type": "stream",
     "text": [
      "추가할 친구 (종료는 q): 현조\n",
      "카톡 횟수 : 100\n",
      "[('다현', 200), ('정현', 150), ('현조', 100), ('쯔위', 90), ('사나', 30), ('지효', 15)]\n",
      "추가할 친구 (종료는 q): q\n"
     ]
    }
   ],
   "source": [
    "if __name__ == '__main__' :\n",
    "#     kako = []\n",
    "    kako = [('다현', 200) , ('정현', 150) , ('쯔위' , 90) , ('사나' , 30) , ('지효' , 15)]\n",
    "    main()"
   ]
  },
  {
   "cell_type": "code",
   "execution_count": null,
   "metadata": {},
   "outputs": [],
   "source": []
  }
 ],
 "metadata": {
  "kernelspec": {
   "display_name": "Python 3",
   "language": "python",
   "name": "python3"
  },
  "language_info": {
   "codemirror_mode": {
    "name": "ipython",
    "version": 3
   },
   "file_extension": ".py",
   "mimetype": "text/x-python",
   "name": "python",
   "nbconvert_exporter": "python",
   "pygments_lexer": "ipython3",
   "version": "3.8.5"
  }
 },
 "nbformat": 4,
 "nbformat_minor": 4
}
