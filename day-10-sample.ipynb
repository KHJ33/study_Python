{
 "cells": [
  {
   "cell_type": "code",
   "execution_count": 1,
   "metadata": {},
   "outputs": [
    {
     "name": "stdout",
     "output_type": "stream",
     "text": [
      "숫자 입력 : 10\n",
      "1 부터 10 까지의 합은 55\n"
     ]
    }
   ],
   "source": [
    "# 문) 1 부터 n 까지의 숫자의 합을 구함\n",
    "# 1. 입력 : 숫자 n\n",
    "# 2. 알고리즘 : n(n+1) / 2\n",
    "# 3. 결과 출력\n",
    "\n",
    "num = int(input('숫자 입력 : '))\n",
    "total = 0\n",
    "for i in range(1, num + 1) :\n",
    "    total += i\n",
    "print(f'1 부터 {num} 까지의 합은 {total}')"
   ]
  },
  {
   "cell_type": "code",
   "execution_count": 2,
   "metadata": {},
   "outputs": [
    {
     "name": "stdout",
     "output_type": "stream",
     "text": [
      "1 부터 10 까지의 합은 55.0\n"
     ]
    }
   ],
   "source": [
    "# 문) 1 부터 n 까지의 숫자의 합을 구함\n",
    "# 1. 입력 : 숫자 n\n",
    "# 2. 알고리즘 : n(n+1) / 2\n",
    "# 3. 결과 출력\n",
    "\n",
    "print(f'1 부터 {num} 까지의 합은 {(num * (num + 1)) / 2 }')"
   ]
  },
  {
   "cell_type": "code",
   "execution_count": 5,
   "metadata": {},
   "outputs": [
    {
     "name": "stdout",
     "output_type": "stream",
     "text": [
      "최대값은 : 92 최솟값은 7\n"
     ]
    }
   ],
   "source": [
    "# 최대 값 찾기\n",
    "def max_num(list_a):\n",
    "    max_num = list_a[0]\n",
    "    for i in range(1, len(list_a)) :\n",
    "        if max_num < list_a[i] :\n",
    "            max_num = list_a[i]\n",
    "    return max_num\n",
    "\n",
    "def min_num(list_a) :\n",
    "    min_num = list_a[0]\n",
    "    for i in range(1, len(list_a)) :\n",
    "        if min_num > list_a[i] :\n",
    "            min_num = list_a[i]\n",
    "    return min_num\n",
    "\n",
    "list_a = [ 17 , 92 , 18 , 33 , 58 , 7 , 33 , 42]\n",
    "print(f'최대값은 : {max_num(list_a)} 최솟값은 {min_num(list_a)}')"
   ]
  },
  {
   "cell_type": "markdown",
   "metadata": {},
   "source": [
    "# ✪✪✪✪✪"
   ]
  },
  {
   "cell_type": "code",
   "execution_count": 28,
   "metadata": {},
   "outputs": [
    {
     "name": "stdout",
     "output_type": "stream",
     "text": [
      "A B C D E F G H I J K L M N O P Q R S T U V W X Y\n"
     ]
    }
   ],
   "source": [
    "li = []\n",
    "for i in range(ord('A') , ord('Z') , 1) :\n",
    "    li.append(chr(i))\n",
    "print(*li)"
   ]
  },
  {
   "cell_type": "code",
   "execution_count": 8,
   "metadata": {},
   "outputs": [
    {
     "name": "stdout",
     "output_type": "stream",
     "text": [
      "['D', 'Z', 'S', 'K', 'Y', 'I', 'O', 'Y', 'C', 'U']\n",
      "최대값은 : Z 최솟값은 C\n"
     ]
    }
   ],
   "source": [
    "# 문) A ~ Z 까지의 문자 중에서 10개를 임의로 선택한 후 가장 큰 문자와 가장 작은 문자 출력\n",
    "import random\n",
    "str_1 = 'qwertyuiopasdfghjklzxcvbnm'.upper()\n",
    "list_str = []\n",
    "for _ in range(10):\n",
    "    list_str.append(random.choice(str_1))\n",
    "print(list_str)\n",
    "\n",
    "# 가장 큰 문자와 가장 작은 문자 출력\n",
    "print(f'최대값은 : {max_num(list_str)} 최솟값은 {min_num(list_str)}')"
   ]
  },
  {
   "cell_type": "code",
   "execution_count": 21,
   "metadata": {},
   "outputs": [
    {
     "name": "stdout",
     "output_type": "stream",
     "text": [
      "몇개를 생성할지 입력하시오 : 10\n",
      "몇개를 생성할지 입력하시오 : q\n",
      "\n",
      "순방향 결과 출력=================\n",
      "RSJ-ZPJ-UTJ-ALB-OGW-UQK-UUM-PDW-QKU-OTJ\n",
      "=================================\n",
      "\n",
      "\n",
      "역방향 결과 출력=================\n",
      "OTJ-QKU-PDW-UUM-UQK-OGW-ALB-UTJ-ZPJ-RSJ\n",
      "=================================\n",
      "\n",
      "검색할 이름을 입력하시오 : UTJ\n",
      "UTJ \n",
      "RSJ ZPJ UTJ ALB OGW UQK UUM PDW QKU OTJ\n",
      "검색할 이름을 입력하시오 : QKU\n",
      "8 번째 인덱스에 QKU 존재\n"
     ]
    }
   ],
   "source": [
    "# 총 몇개를 생성할건지 입력해서 반복으로 생성\n",
    "# 영문을 3자를 랜덤으로 결합하여 이름으로 생성한 후\n",
    "# double link list 작성\n",
    "# 입력된 자료 출력\n",
    "\n",
    "# 검색할 이름 입력 -> 검색된 자료 출력 , 동명이인 있으면 모두 출력\n",
    "\n",
    "# double link list 의 자료를 리스트로 변환\n",
    "# 리스트의 자료 출력\n",
    "# 리스트의 자료중에 동명이인의 명단을 출력\n",
    "# 검색할 이름 입력 -> 검색된 자료 출력, 리스트의 위치 출력\n",
    "\n",
    "import random\n",
    "\n",
    "class Name :\n",
    "    def __init__(self , name) :\n",
    "        self.name = name\n",
    "        self.next = None\n",
    "        self.prev = None\n",
    "\n",
    "def add_link(new_node) :\n",
    "    global HEAD , LAST\n",
    "    \n",
    "    now_node = HEAD\n",
    "    \n",
    "    while now_node.next :\n",
    "        now_node = now_node.next\n",
    "    now_node.next = new_node\n",
    "    new_node.prev = now_node\n",
    "    LAST = new_node\n",
    "    \n",
    "def search_name(name) :\n",
    "    global HEAD , LAST\n",
    "    \n",
    "    now_node = HEAD\n",
    "    \n",
    "    while now_node :\n",
    "        if now_node.name == name :\n",
    "            print(name , end = ' ')\n",
    "        now_node = now_node.next\n",
    "    print()\n",
    "    \n",
    "def link_to_list() :\n",
    "    global HEAD , LAST\n",
    "    result = []\n",
    "    \n",
    "    now_node = HEAD\n",
    "    \n",
    "    while now_node :\n",
    "        result.append(now_node.name)\n",
    "        now_node = now_node.next\n",
    "    \n",
    "    return result\n",
    "    \n",
    "def print_link() :\n",
    "    global HEAD , LAST\n",
    "    \n",
    "    now_node = HEAD\n",
    "    \n",
    "    print('\\n순방향 결과 출력=================')\n",
    "    while now_node.next :\n",
    "        print(now_node.name , end = '-')\n",
    "        now_node = now_node.next\n",
    "    print(now_node.name)\n",
    "    \n",
    "    print('=================================\\n')\n",
    "    print('\\n역방향 결과 출력=================')\n",
    "    now_node = LAST\n",
    "    while now_node.prev :\n",
    "        print(now_node.name , end = '-')\n",
    "        now_node = now_node.prev\n",
    "    print(now_node.name)\n",
    "    print('=================================\\n')\n",
    "        \n",
    "HEAD = LAST = None\n",
    "s = 'qwertyuiopasdfghjklzxcvbnm'.upper()\n",
    "\n",
    "while True :\n",
    "    num = input('몇개를 생성할지 입력하시오 : ')\n",
    "    \n",
    "    if num == 'q' :\n",
    "        break\n",
    "    \n",
    "    if num.isdigit() :\n",
    "        for _ in range(int(num)) :\n",
    "            name = random.choice(s) + random.choice(s) + random.choice(s)\n",
    "        \n",
    "            node = Name(name)\n",
    "            if HEAD == None :\n",
    "                HEAD = node\n",
    "            else :\n",
    "                add_link(node)\n",
    "print_link()\n",
    "\n",
    "name = input('검색할 이름을 입력하시오 : ')\n",
    "search_name(name)\n",
    "\n",
    "list_a = link_to_list()\n",
    "print(*list_a)\n",
    "\n",
    "dic_a = {}\n",
    "for name in list_a :\n",
    "    if name in dic_a :\n",
    "        dic_a[name] += 1\n",
    "    else :\n",
    "        dic_a[name] = 1\n",
    "        \n",
    "for key, value in dic_a.items() :\n",
    "    if value > 1 :\n",
    "        print(f'{key} 는 동명이인이 있습니다.')\n",
    "        \n",
    "name = input('검색할 이름을 입력하시오 : ')\n",
    "for i , value in enumerate(list_a) :\n",
    "    if value == name :\n",
    "        print(f'{i} 번째 인덱스에 {name} 존재')"
   ]
  },
  {
   "cell_type": "code",
   "execution_count": 17,
   "metadata": {},
   "outputs": [
    {
     "name": "stdout",
     "output_type": "stream",
     "text": [
      "\n",
      "순방향 결과 출력=================\n",
      "DXZ-FAL-WZL-DKB-HIY-LFU-ENE-XNV-KPP-CGY\n",
      "=================================\n",
      "\n",
      "\n",
      "역방향 결과 출력=================\n",
      "CGY-KPP-XNV-ENE-LFU-HIY-DKB-WZL-FAL-DXZ\n",
      "=================================\n",
      "\n"
     ]
    }
   ],
   "source": [
    "print_link()"
   ]
  },
  {
   "cell_type": "code",
   "execution_count": null,
   "metadata": {},
   "outputs": [],
   "source": []
  }
 ],
 "metadata": {
  "kernelspec": {
   "display_name": "Python 3",
   "language": "python",
   "name": "python3"
  },
  "language_info": {
   "codemirror_mode": {
    "name": "ipython",
    "version": 3
   },
   "file_extension": ".py",
   "mimetype": "text/x-python",
   "name": "python",
   "nbconvert_exporter": "python",
   "pygments_lexer": "ipython3",
   "version": "3.8.5"
  }
 },
 "nbformat": 4,
 "nbformat_minor": 4
}
