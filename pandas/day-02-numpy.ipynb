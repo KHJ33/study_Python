{
 "cells": [
  {
   "cell_type": "markdown",
   "metadata": {},
   "source": [
    "# ✪✪✪✪✪"
   ]
  },
  {
   "cell_type": "code",
   "execution_count": 9,
   "metadata": {},
   "outputs": [
    {
     "name": "stdout",
     "output_type": "stream",
     "text": [
      "<class 'numpy.ndarray'> [ 0  1  2  3  4  5  6  7  8  9 10 11 12 13 14]\n",
      "차원 :  1\n",
      "shape :  (15,)\n",
      "전체 데이터 갯수 :  15\n",
      "데이터 타입 :  int64\n",
      "2 (3, 5)\n"
     ]
    },
    {
     "data": {
      "text/plain": [
       "array([[ 0,  1,  2,  3,  4],\n",
       "       [ 5,  6,  7,  8,  9],\n",
       "       [10, 11, 12, 13, 14]])"
      ]
     },
     "execution_count": 9,
     "metadata": {},
     "output_type": "execute_result"
    }
   ],
   "source": [
    "import numpy as np\n",
    "\n",
    "arr = np.arange(15)\n",
    "print(type(arr), arr) # 동일한 type 의 데이터만 들어감\n",
    "print('차원 : ' , np.ndim(arr)) # 차원 출력 , arr.ndim\n",
    "print('shape : ', np.shape(arr)) # (15, ) arr.shape\n",
    "print('전체 데이터 갯수 : ', arr.size)\n",
    "print('데이터 타입 : ', arr.dtype)\n",
    "\n",
    "# 차원을 변경 -> 15 => (3,5)\n",
    "arr_ch = arr.reshape(3,5)\n",
    "print(np.ndim(arr_ch) , arr_ch.shape)\n",
    "arr_ch"
   ]
  },
  {
   "cell_type": "code",
   "execution_count": 5,
   "metadata": {},
   "outputs": [
    {
     "name": "stdout",
     "output_type": "stream",
     "text": [
      "[0, 1, 2, 3, 4, 5, 6, 7, 8, 9, 10, 11, 12, 13, 14]\n"
     ]
    },
    {
     "data": {
      "text/plain": [
       "(15,)"
      ]
     },
     "execution_count": 5,
     "metadata": {},
     "output_type": "execute_result"
    }
   ],
   "source": [
    "list_a = list(range(15)) # 여러개의 type의 데이터가 들어감 ['test' , 1 , False ]\n",
    "print(list_a)\n",
    "np.shape(np.array(list_a)) # 그냥 np.shape 시 오류 "
   ]
  },
  {
   "cell_type": "code",
   "execution_count": 12,
   "metadata": {},
   "outputs": [
    {
     "name": "stdout",
     "output_type": "stream",
     "text": [
      "int64 8\n",
      "float64 8\n"
     ]
    }
   ],
   "source": [
    "print(arr.dtype.name , arr.dtype.itemsize)\n",
    "\n",
    "arr_2 = np.arange(0.0 , 15.0 , 1.0)\n",
    "print(arr_2.dtype.name , arr_2.dtype.itemsize)"
   ]
  },
  {
   "cell_type": "code",
   "execution_count": 13,
   "metadata": {},
   "outputs": [
    {
     "name": "stdout",
     "output_type": "stream",
     "text": [
      "[1. 2. 3.] <class 'numpy.ndarray'>\n",
      "[[1. 2.]\n",
      " [3. 4.]] <class 'numpy.ndarray'>\n",
      "1 (3,) 3 float64\n",
      "2 (2, 2) 4 float64\n"
     ]
    }
   ],
   "source": [
    "a1 = np.array([1.0, 2.0, 3.0])\n",
    "a2 = np.array([[1.0, 2.0],[ 3.0, 4.0]])\n",
    "print(a1, type(a1))\n",
    "print(a2, type(a2))\n",
    "print(a1.ndim, a1.shape, a1.size, a1.dtype)\n",
    "print(a2.ndim, a2.shape, a2.size, a2.dtype)"
   ]
  },
  {
   "cell_type": "code",
   "execution_count": 25,
   "metadata": {},
   "outputs": [
    {
     "name": "stdout",
     "output_type": "stream",
     "text": [
      "[0. 0. 0. 0. 0.]\n",
      "[[0. 0. 0.]\n",
      " [0. 0. 0.]]\n",
      "[[0 0]\n",
      " [0 0]\n",
      " [0 0]\n",
      " [0 0]\n",
      " [0 0]]\n",
      "<U4 16\n",
      "[[[1 1 1 1]\n",
      "  [1 1 1 1]\n",
      "  [1 1 1 1]]\n",
      "\n",
      " [[1 1 1 1]\n",
      "  [1 1 1 1]\n",
      "  [1 1 1 1]]]\n",
      "\n",
      "[1 1 1 1 1]\n",
      "\n",
      "[[0. 0. 0.]\n",
      " [0. 0. 0.]]\n"
     ]
    }
   ],
   "source": [
    "# Numpy - Inf 와 NaN, 초기값을 설정한 배열 생성\n",
    "# 무한대 > np.inf\n",
    "# Nan -> np.nan\n",
    "\n",
    "# 초기값을 0으로 부여하면서 배열 생성\n",
    "print(np.zeros(5))\n",
    "print(np.zeros((2,3))) # 2 * 3\n",
    "print(np.zeros((5,2) , dtype = 'i'))\n",
    "a = np.zeros((5,2) , dtype = 'U4') # U -> object\n",
    "print(a.dtype , a.dtype.itemsize)\n",
    "\n",
    "b = np.ones((2,3,4), dtype = 'i8')\n",
    "print(b)\n",
    "print()\n",
    "print(np.ones_like(np.zeros(5), dtype = 'i'))\n",
    "print()\n",
    "print(np.empty((2,3)))"
   ]
  },
  {
   "cell_type": "code",
   "execution_count": 32,
   "metadata": {},
   "outputs": [
    {
     "data": {
      "text/plain": [
       "(3, 1)"
      ]
     },
     "execution_count": 32,
     "metadata": {},
     "output_type": "execute_result"
    }
   ],
   "source": [
    "# array 연산\n",
    "x1 = np.array([1,2,3])\n",
    "y1 = np.array([5,10,15])\n",
    "x2 = np.array([[1,2],[3,4]])\n",
    "y2 = np.array([[5,10],[15,20]])\n",
    "z1 = np.array([-1,-2])\n",
    "z2 = np.array([[5],[10],[15]])"
   ]
  },
  {
   "cell_type": "code",
   "execution_count": 36,
   "metadata": {},
   "outputs": [
    {
     "name": "stdout",
     "output_type": "stream",
     "text": [
      "[ 6 12 18]\n",
      "\n",
      "[[ 6 12]\n",
      " [18 24]]\n",
      "\n",
      "[[0 0]\n",
      " [2 2]]\n",
      "\n",
      "[[ 6  7  8]\n",
      " [11 12 13]\n",
      " [16 17 18]]\n",
      "\n",
      "[1 4 9]\n",
      "[2 3]\n"
     ]
    }
   ],
   "source": [
    "print(x1 + y1)\n",
    "print()\n",
    "print(x2 + y2)\n",
    "print()\n",
    "print(x2 + z1) # ndarray broadcast\n",
    "print()\n",
    "print(x1 + z2)\n",
    "print()\n",
    "print(x1 ** 2) # [1, 4, 9]\n",
    "print(x1[x1 >= 2]) # [2 , 3] => x1 [[True , False , ...]]"
   ]
  },
  {
   "cell_type": "code",
   "execution_count": 43,
   "metadata": {},
   "outputs": [
    {
     "name": "stdout",
     "output_type": "stream",
     "text": [
      "(4,) (4,)\n",
      "[[1 2]\n",
      " [3 4]]\n"
     ]
    }
   ],
   "source": [
    "# shape 을 변경 -> 1차원으로 변경하는 함수 : x.flatten()\n",
    "# 모든 차워늘 1차원으로 변경 : 평탄화 한다, flatten()\n",
    "a1 = x2.reshape(x2.size)\n",
    "a2 = x2.flatten()\n",
    "print(a1.shape, a2.shape)\n",
    "\n",
    "print(a2.reshape((2,2)))"
   ]
  },
  {
   "cell_type": "code",
   "execution_count": 45,
   "metadata": {},
   "outputs": [
    {
     "name": "stdout",
     "output_type": "stream",
     "text": [
      "[ 0  1  4  9 16 25 36 49 64 81] a[2] ->  4\n",
      "[ 9 16]\n",
      "[  0   1  -4   9 -16  25  36  49  64  81]\n",
      "[ 81  64  49  36  25 -16   9  -4   1   0]\n"
     ]
    }
   ],
   "source": [
    "# array 의 일부 데이터 가져오기\n",
    "a = np.arange(10) ** 2\n",
    "print(a, 'a[2] -> ', a[2])\n",
    "print(a[3:5]) # 5는 포함하지 않음 3 과 4의 인덱스의 값만 추출\n",
    "a[0:6:2] = -a[0:6:2]\n",
    "print(a)\n",
    "print(a[: : -1]) # 역순으로 출력"
   ]
  },
  {
   "cell_type": "code",
   "execution_count": 47,
   "metadata": {},
   "outputs": [
    {
     "name": "stdout",
     "output_type": "stream",
     "text": [
      "20\n",
      "[[ 3  4]\n",
      " [ 8  9]\n",
      " [13 14]]\n",
      "[ 6  7  8  9 10]\n",
      "20\n"
     ]
    }
   ],
   "source": [
    "a = np.arange(1,21).reshape(4,5)\n",
    "a\n",
    "# 3행 4열의 값\n",
    "print(a[3,4]) # 20\n",
    "\n",
    "# 처음부터 2행, 2열과 3열의 자료 추출\n",
    "print(a[0:3, 2:4])\n",
    "\n",
    "# 1행의 모든 자료 추출\n",
    "print(a[1, :])\n",
    "\n",
    "# 마지막행의 마지막 열의 값을 추출\n",
    "print(a[-1,-1])"
   ]
  },
  {
   "cell_type": "code",
   "execution_count": 48,
   "metadata": {},
   "outputs": [
    {
     "data": {
      "text/plain": [
       "array([11, 12, 13, 14, 15])"
      ]
     },
     "execution_count": 48,
     "metadata": {},
     "output_type": "execute_result"
    }
   ],
   "source": [
    "np.maximum(a[1,],a[2,],a[3,]) # 각행 중에 가장 큰 값을 찾음\n",
    "\n",
    "a1 = np.array([2,3,4])\n",
    "a2 = np.array([1,5,2])\n",
    "\n",
    "print(np.maximum(a1,a2)) # 2, 5 , 4\n",
    "print(np.sum(a1))"
   ]
  },
  {
   "cell_type": "code",
   "execution_count": 94,
   "metadata": {},
   "outputs": [
    {
     "name": "stdout",
     "output_type": "stream",
     "text": [
      "[[0.18276719 0.10072879 0.90663332]\n",
      " [0.51438609 0.68379734 0.44968889]]\n",
      "[[ 0.18668499 -0.63887929  0.1545255 ]\n",
      " [-2.64643361 -0.80903337 -1.37033836]]\n",
      "4 10\n",
      "[[0.1 0.8 0.2]\n",
      " [0.3 0.2 0.5]\n",
      " [0.9 0.5 0.3]]\n",
      "[2 0 1]\n",
      "[1 2 0]\n"
     ]
    }
   ],
   "source": [
    "np.random.choice(10, 5, replace = False) \n",
    "# replace = True 기본, False 인 경우 중복 허용 안함\n",
    "print(np.random.rand(2,3)) # 0 부터 1 사이의 수를 반환\n",
    "print(np.random.randn(2,3)) # -1 부터 1 까지 정규분포로 반환\n",
    "\n",
    "a = np.array([5,4,7,8,10])\n",
    "print(np.argmax(a), a[np.argmax(a)]) # np.argmax() -> 값의 위치 반환\n",
    "\n",
    "arr = np.array([[0.1,0.8,0.2],[0.3,0.2,0.5],[0.9,0.5,0.3]])\n",
    "print(arr)\n",
    "print(np.argmax(arr , axis = 0)) # np.argmax 단독 사용일 경우 전체 위치를 기준으로 반환\n",
    "print(np.argmax(arr, axis=1))"
   ]
  },
  {
   "cell_type": "code",
   "execution_count": 75,
   "metadata": {},
   "outputs": [
    {
     "name": "stdout",
     "output_type": "stream",
     "text": [
      "4.8076923076923075\n",
      "5.0\n",
      "115.23224852071006\n",
      "10.734628476137871\n",
      "23\n",
      "-24\n",
      "0.0\n",
      "23.0\n"
     ]
    }
   ],
   "source": [
    "x = np.array([18,   5,  10,  23,  19,  -8,  10,   0,   0,   5,   2,  15,   8,\n",
    "              2,   5,   4,  15,  -1,   4,  -7, -24,   7,   9,  -6,  23, -13])\n",
    "len(x)\n",
    "print(np.mean(x))\n",
    "print(np.median(x))\n",
    "print(np.var(x))\n",
    "print(np.std(x))\n",
    "print(np.max(x))\n",
    "print(np.min(x))\n",
    "print(np.percentile(x, 25))  # 사분위수 : 1사분위\n",
    "print(np.percentile(x, 100)) # 사분위수 최댓값"
   ]
  },
  {
   "cell_type": "code",
   "execution_count": 78,
   "metadata": {},
   "outputs": [
    {
     "data": {
      "text/plain": [
       "0"
      ]
     },
     "execution_count": 78,
     "metadata": {},
     "output_type": "execute_result"
    }
   ],
   "source": [
    "# 난수 발생과 카운팅\n",
    "np.random.seed() # 시작 숫자를 정해주면 항상 같은 숫자의 난수 발생\n",
    "np.random.randint(5) # 난수 5개 발생"
   ]
  },
  {
   "cell_type": "code",
   "execution_count": 77,
   "metadata": {},
   "outputs": [
    {
     "name": "stdout",
     "output_type": "stream",
     "text": [
      "[0 1 2 3 4 5 6 7 8 9]\n"
     ]
    },
    {
     "data": {
      "text/plain": [
       "array([0, 4, 7, 6, 5, 3, 8, 9, 2, 1])"
      ]
     },
     "execution_count": 77,
     "metadata": {},
     "output_type": "execute_result"
    }
   ],
   "source": [
    "# 데이터의 순서 바꿈 : np.random.shuffle(array)\n",
    "x = np.arange(10)\n",
    "print(x)\n",
    "np.random.shuffle(x)\n",
    "x"
   ]
  },
  {
   "cell_type": "code",
   "execution_count": 79,
   "metadata": {},
   "outputs": [
    {
     "name": "stdout",
     "output_type": "stream",
     "text": [
      "[4 0 1 3 2]\n",
      "[1 4 3]\n",
      "[3 1 2 3 1 3 2 3 3 1]\n"
     ]
    }
   ],
   "source": [
    "# 샘플링 : np.random.choice(arr 또는 정수, size = 샘플갯수, replace=True, p=None[] 확률)\n",
    "print(np.random.choice(5, 5, replace=False)) # shuffle 효과\n",
    "print(np.random.choice(5, 3, replace=False))\n",
    "print(np.random.choice(5, 10))\n",
    "print(np.random.choice(5, 10, p=[0.1, 0, 0.1, 0.5, 0.3]))"
   ]
  },
  {
   "cell_type": "code",
   "execution_count": 80,
   "metadata": {},
   "outputs": [
    {
     "name": "stdout",
     "output_type": "stream",
     "text": [
      "8\n",
      "[2 3 2 1 9]\n",
      "[12 12 18 11 15]\n",
      "[[13 15 19 17 10]\n",
      " [10 15 13 11 16]\n",
      " [18 14 13 18 14]]\n"
     ]
    }
   ],
   "source": [
    "# randint(row, high=None, size=None) # 정수 난수 발생\n",
    "print(np.random.randint(10)) # 0과 row 사이의 정수 출력\n",
    "print(np.random.randint(10, size=5))\n",
    "print(np.random.randint(10,20, size=5))\n",
    "print(np.random.randint(10,20, size=(3,5)))"
   ]
  },
  {
   "cell_type": "code",
   "execution_count": 81,
   "metadata": {},
   "outputs": [
    {
     "name": "stdout",
     "output_type": "stream",
     "text": [
      "[84 10 88 64 87 26 48 37 33 57]\n",
      "[False  True False False False  True False False False False]\n",
      "[10 26]\n"
     ]
    }
   ],
   "source": [
    "a = np.random.randint(10,100,size=10)  # 10과 100 사이에서 난수 10개 생성하여 추출\n",
    "mask = (a >= 10) & (a<=30)  # and -> &, or -> |\n",
    "print(a)\n",
    "print(mask)\n",
    "print(a[mask])"
   ]
  },
  {
   "cell_type": "code",
   "execution_count": 82,
   "metadata": {},
   "outputs": [
    {
     "name": "stdout",
     "output_type": "stream",
     "text": [
      "[ 3  6  9 12 15 18]\n",
      "[ 1  5  9 13 17]\n",
      "[9]\n"
     ]
    }
   ],
   "source": [
    "x = np.arange(1,21)\n",
    "\n",
    "# 3의 배수만 추출\n",
    "print(x[x % 3 == 0])\n",
    "# 4로 나눈 나머지값이 1인 숫자 추출\n",
    "print(x[x % 4 == 1])\n",
    "# 3의 배수이고 4로 나눈 나머지 값이 1인 숫자 추출\n",
    "print(x[(x % 3 == 0) & (x % 4 == 1)])"
   ]
  },
  {
   "cell_type": "code",
   "execution_count": 143,
   "metadata": {},
   "outputs": [
    {
     "name": "stdout",
     "output_type": "stream",
     "text": [
      "2012년 이전 cctv 설치가 가장 많은 구의 명은 서대문구 => 730 개 입니다.\n",
      "2012년 cctv 설치가 가장 많은 구의 명은 관악구 => 84 개 입니다.\n",
      "2013년 cctv 설치가 가장 많은 구의 명은 강남구 => 66 개 입니다.\n",
      "2014년 cctv 설치가 가장 많은 구의 명은 강남구 => 580 개 입니다.\n",
      "2015년 cctv 설치가 가장 많은 구의 명은 강남구 => 830 개 입니다.\n",
      "2016년 cctv 설치가 가장 많은 구의 명은 서초구 => 504 개 입니다.\n",
      "2017년 cctv 설치가 가장 많은 구의 명은 성북구 => 890 개 입니다.\n",
      "2018년 cctv 설치가 가장 많은 구의 명은 강북구 => 391 개 입니다.\n",
      "2019년 cctv 설치가 가장 많은 구의 명은 영등포구 => 65 개 입니다.\n",
      "2020년 cctv 설치가 가장 많은 구의 명은 광진구 => 175 개 입니다.\n"
     ]
    }
   ],
   "source": [
    "import pandas as pd\n",
    "# 문제) 서울시 구별 연도별 CCTV 설치 파일을 가져와서\n",
    "# 연도별로 CCTV 설치가 가장 많은 구의 명을 입력\n",
    "df = pd.read_csv('./dataset/서울시CCTV설치운영현황(자치구)_년도별_211231기준.csv', skiprows = 1, encoding='cp949')\n",
    "df1 = df.copy()\n",
    "df1.drop(0, axis=0, inplace = True)\n",
    "df1.set_index('구분', inplace = True)\n",
    "df1\n",
    "\n",
    "df1.drop(df1.columns[0], axis = 1 , inplace = True)\n",
    "\n",
    "for col in df1.columns :\n",
    "    df1[col].fillna(0, inplace = True)\n",
    "df1 = df1.astype('int')\n",
    "\n",
    "cctv = np.array(df1.iloc[:,1:])\n",
    "list_max = np.argmax(cctv, axis = 0)\n",
    "\n",
    "for i , k in enumerate(list_max) :\n",
    "    print(f'{df1.columns[i]} cctv 설치가 가장 많은 구의 명은 {df1.index[k]} => {df1.iloc[k,i]} 개 입니다.')"
   ]
  },
  {
   "cell_type": "code",
   "execution_count": null,
   "metadata": {},
   "outputs": [],
   "source": [
    "for colum in df_seoul.columns :\n",
    "    for index_name in df_seoul.index:\n",
    "        if df_seoul.loc[index_name, column] == df_soul.loc[:,column].max() :\n",
    "            print(f'...')"
   ]
  }
 ],
 "metadata": {
  "kernelspec": {
   "display_name": "Python 3",
   "language": "python",
   "name": "python3"
  },
  "language_info": {
   "codemirror_mode": {
    "name": "ipython",
    "version": 3
   },
   "file_extension": ".py",
   "mimetype": "text/x-python",
   "name": "python",
   "nbconvert_exporter": "python",
   "pygments_lexer": "ipython3",
   "version": "3.8.5"
  }
 },
 "nbformat": 4,
 "nbformat_minor": 4
}
