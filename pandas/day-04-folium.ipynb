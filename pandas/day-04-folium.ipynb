{
 "cells": [
  {
   "cell_type": "code",
   "execution_count": 1,
   "metadata": {},
   "outputs": [
    {
     "name": "stdout",
     "output_type": "stream",
     "text": [
      "Collecting folium\n",
      "  Downloading folium-0.12.1.post1-py2.py3-none-any.whl (95 kB)\n",
      "\u001b[K     |████████████████████████████████| 95 kB 6.5 MB/s eta 0:00:011\n",
      "\u001b[?25hRequirement already satisfied: numpy in /Users/kimhyunjo/opt/anaconda3/lib/python3.8/site-packages (from folium) (1.19.2)\n",
      "Collecting branca>=0.3.0\n",
      "  Downloading branca-0.5.0-py3-none-any.whl (24 kB)\n",
      "Requirement already satisfied: requests in /Users/kimhyunjo/opt/anaconda3/lib/python3.8/site-packages (from folium) (2.24.0)\n",
      "Requirement already satisfied: jinja2>=2.9 in /Users/kimhyunjo/opt/anaconda3/lib/python3.8/site-packages (from folium) (2.11.2)\n",
      "Requirement already satisfied: idna<3,>=2.5 in /Users/kimhyunjo/opt/anaconda3/lib/python3.8/site-packages (from requests->folium) (2.10)\n",
      "Requirement already satisfied: urllib3!=1.25.0,!=1.25.1,<1.26,>=1.21.1 in /Users/kimhyunjo/opt/anaconda3/lib/python3.8/site-packages (from requests->folium) (1.25.11)\n",
      "Requirement already satisfied: chardet<4,>=3.0.2 in /Users/kimhyunjo/opt/anaconda3/lib/python3.8/site-packages (from requests->folium) (3.0.4)\n",
      "Requirement already satisfied: certifi>=2017.4.17 in /Users/kimhyunjo/opt/anaconda3/lib/python3.8/site-packages (from requests->folium) (2020.6.20)\n",
      "Requirement already satisfied: MarkupSafe>=0.23 in /Users/kimhyunjo/opt/anaconda3/lib/python3.8/site-packages (from jinja2>=2.9->folium) (1.1.1)\n",
      "Installing collected packages: branca, folium\n",
      "Successfully installed branca-0.5.0 folium-0.12.1.post1\n"
     ]
    }
   ],
   "source": [
    "!pip install folium"
   ]
  },
  {
   "cell_type": "code",
   "execution_count": 2,
   "metadata": {},
   "outputs": [],
   "source": [
    "import folium"
   ]
  },
  {
   "cell_type": "code",
   "execution_count": 3,
   "metadata": {},
   "outputs": [],
   "source": [
    "seoul_map = folium.Map(location = [37.55, 126.98], zoom_start = 12)\n",
    "\n",
    "seoul_map.save('./dataset/seoul.html')"
   ]
  },
  {
   "cell_type": "code",
   "execution_count": 4,
   "metadata": {},
   "outputs": [],
   "source": [
    "seoul_map2 = folium.Map(location = [37.55, 126.98], zoom_start = 12, tiles = 'Stamen Terrain')\n",
    "seoul_map3 = folium.Map(location = [37.55, 126.98], zoom_start = 12, tiles = 'Stamen toner')\n",
    "\n",
    "seoul_map2.save('./dataset/seoul_map2.html')\n",
    "seoul_map3.save('./dataset/seoul_map3.html')"
   ]
  },
  {
   "cell_type": "code",
   "execution_count": 6,
   "metadata": {},
   "outputs": [],
   "source": [
    "# 서울 지역 대학교 위치를 지도에 마커로 표시하기\n",
    "import pandas as pd\n",
    "\n",
    "df = pd.read_excel('./dataset/서울지역 대학교 위치.xlsx')\n",
    "\n",
    "seoul_map = folium.Map(location = [37.55, 126.98], zoom_start = 12, tiles = 'Stamen Terrain')"
   ]
  },
  {
   "cell_type": "code",
   "execution_count": 11,
   "metadata": {},
   "outputs": [
    {
     "data": {
      "text/html": [
       "<div>\n",
       "<style scoped>\n",
       "    .dataframe tbody tr th:only-of-type {\n",
       "        vertical-align: middle;\n",
       "    }\n",
       "\n",
       "    .dataframe tbody tr th {\n",
       "        vertical-align: top;\n",
       "    }\n",
       "\n",
       "    .dataframe thead th {\n",
       "        text-align: right;\n",
       "    }\n",
       "</style>\n",
       "<table border=\"1\" class=\"dataframe\">\n",
       "  <thead>\n",
       "    <tr style=\"text-align: right;\">\n",
       "      <th></th>\n",
       "      <th>name</th>\n",
       "      <th>위도</th>\n",
       "      <th>경도</th>\n",
       "    </tr>\n",
       "  </thead>\n",
       "  <tbody>\n",
       "    <tr>\n",
       "      <th>0</th>\n",
       "      <td>KAIST 서울캠퍼스</td>\n",
       "      <td>37.592573</td>\n",
       "      <td>127.046737</td>\n",
       "    </tr>\n",
       "    <tr>\n",
       "      <th>1</th>\n",
       "      <td>KC대학교</td>\n",
       "      <td>37.548345</td>\n",
       "      <td>126.854797</td>\n",
       "    </tr>\n",
       "    <tr>\n",
       "      <th>2</th>\n",
       "      <td>가톨릭대학교(성신교정)</td>\n",
       "      <td>37.585922</td>\n",
       "      <td>127.004328</td>\n",
       "    </tr>\n",
       "    <tr>\n",
       "      <th>3</th>\n",
       "      <td>가톨릭대학교(성의교정)</td>\n",
       "      <td>37.499623</td>\n",
       "      <td>127.006065</td>\n",
       "    </tr>\n",
       "    <tr>\n",
       "      <th>4</th>\n",
       "      <td>감리교신학대학교</td>\n",
       "      <td>37.567645</td>\n",
       "      <td>126.961610</td>\n",
       "    </tr>\n",
       "  </tbody>\n",
       "</table>\n",
       "</div>"
      ],
      "text/plain": [
       "           name         위도          경도\n",
       "0  KAIST 서울캠퍼스   37.592573  127.046737\n",
       "1         KC대학교  37.548345  126.854797\n",
       "2  가톨릭대학교(성신교정)  37.585922  127.004328\n",
       "3  가톨릭대학교(성의교정)  37.499623  127.006065\n",
       "4      감리교신학대학교  37.567645  126.961610"
      ]
     },
     "execution_count": 11,
     "metadata": {},
     "output_type": "execute_result"
    }
   ],
   "source": [
    "df.rename(columns = {'Unnamed: 0' : 'name'}, inplace = True)\n",
    "df.head()"
   ]
  },
  {
   "cell_type": "code",
   "execution_count": 14,
   "metadata": {},
   "outputs": [
    {
     "data": {
      "text/html": [
       "<div>\n",
       "<style scoped>\n",
       "    .dataframe tbody tr th:only-of-type {\n",
       "        vertical-align: middle;\n",
       "    }\n",
       "\n",
       "    .dataframe tbody tr th {\n",
       "        vertical-align: top;\n",
       "    }\n",
       "\n",
       "    .dataframe thead th {\n",
       "        text-align: right;\n",
       "    }\n",
       "</style>\n",
       "<table border=\"1\" class=\"dataframe\">\n",
       "  <thead>\n",
       "    <tr style=\"text-align: right;\">\n",
       "      <th></th>\n",
       "      <th>위도</th>\n",
       "      <th>경도</th>\n",
       "    </tr>\n",
       "    <tr>\n",
       "      <th>name</th>\n",
       "      <th></th>\n",
       "      <th></th>\n",
       "    </tr>\n",
       "  </thead>\n",
       "  <tbody>\n",
       "    <tr>\n",
       "      <th>KAIST 서울캠퍼스</th>\n",
       "      <td>37.592573</td>\n",
       "      <td>127.046737</td>\n",
       "    </tr>\n",
       "    <tr>\n",
       "      <th>KC대학교</th>\n",
       "      <td>37.548345</td>\n",
       "      <td>126.854797</td>\n",
       "    </tr>\n",
       "    <tr>\n",
       "      <th>가톨릭대학교(성신교정)</th>\n",
       "      <td>37.585922</td>\n",
       "      <td>127.004328</td>\n",
       "    </tr>\n",
       "    <tr>\n",
       "      <th>가톨릭대학교(성의교정)</th>\n",
       "      <td>37.499623</td>\n",
       "      <td>127.006065</td>\n",
       "    </tr>\n",
       "    <tr>\n",
       "      <th>감리교신학대학교</th>\n",
       "      <td>37.567645</td>\n",
       "      <td>126.961610</td>\n",
       "    </tr>\n",
       "  </tbody>\n",
       "</table>\n",
       "</div>"
      ],
      "text/plain": [
       "                     위도          경도\n",
       "name                               \n",
       "KAIST 서울캠퍼스   37.592573  127.046737\n",
       "KC대학교         37.548345  126.854797\n",
       "가톨릭대학교(성신교정)  37.585922  127.004328\n",
       "가톨릭대학교(성의교정)  37.499623  127.006065\n",
       "감리교신학대학교      37.567645  126.961610"
      ]
     },
     "execution_count": 14,
     "metadata": {},
     "output_type": "execute_result"
    }
   ],
   "source": [
    "df.set_index('name', inplace = True)\n",
    "df.head()"
   ]
  },
  {
   "cell_type": "markdown",
   "metadata": {},
   "source": [
    "# ✪✪✪✪✪"
   ]
  },
  {
   "cell_type": "code",
   "execution_count": 15,
   "metadata": {},
   "outputs": [],
   "source": [
    "# seoul_map 에 마커를 추가\n",
    "for name , lat, lng in zip(df.index , df.위도 , df.경도):\n",
    "    folium.Marker([lat, lng], popup = name).add_to(seoul_map)\n",
    "    \n",
    "seoul_map.save('./dataset/seoul_colleges.html')"
   ]
  },
  {
   "cell_type": "code",
   "execution_count": 18,
   "metadata": {},
   "outputs": [],
   "source": [
    "# seoul_map 에 circle 마커를 추가\n",
    "seoul_map = folium.Map(location = [37.55, 126.98], zoom_start = 12, tiles = 'Stamen Terrain')\n",
    "for name , lat, lng in zip(df.index , df.위도 , df.경도):\n",
    "    folium.CircleMarker([lat, lng], \n",
    "                  radius = 10, # 원의 반지름\n",
    "                  color = 'red', # 원의 둘레 색깔\n",
    "                  fill = True,\n",
    "                  fill_color = 'pink' , # 원을 채우는 색\n",
    "                  fill_opacity = 0.5, # 투명도\n",
    "                  popup = name).add_to(seoul_map)\n",
    "    \n",
    "seoul_map.save('./dataset/seoul_colleges_1.html')"
   ]
  }
 ],
 "metadata": {
  "kernelspec": {
   "display_name": "Python 3",
   "language": "python",
   "name": "python3"
  },
  "language_info": {
   "codemirror_mode": {
    "name": "ipython",
    "version": 3
   },
   "file_extension": ".py",
   "mimetype": "text/x-python",
   "name": "python",
   "nbconvert_exporter": "python",
   "pygments_lexer": "ipython3",
   "version": "3.8.5"
  }
 },
 "nbformat": 4,
 "nbformat_minor": 4
}
