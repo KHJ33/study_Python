{
 "cells": [
  {
   "cell_type": "code",
   "execution_count": null,
   "metadata": {},
   "outputs": [],
   "source": [
    "# 서울시에서 강원도로 이동한 인구수를 그래프로 표현\n",
    "# '시도별 전출입 인구수.xlsx'를 읽어 와서 \n",
    "#  Nan 데이터 처리\n",
    "#  필요한 자료만 추출\n",
    "# 선 그래프로 표현"
   ]
  },
  {
   "cell_type": "code",
   "execution_count": 7,
   "metadata": {},
   "outputs": [],
   "source": [
    "# %load ../graph.py\n",
    "import matplotlib.pyplot as plt\n",
    "import matplotlib \n",
    "import pandas as pd\n",
    "import numpy as np\n",
    "\n",
    "matplotlib.rc('font', family='AppleGothic')  # mac 은 'AppleGothic'\n",
    "plt.rcParams['axes.unicode_minus'] = False  # - 기호 사용 가능"
   ]
  },
  {
   "cell_type": "code",
   "execution_count": 8,
   "metadata": {},
   "outputs": [
    {
     "data": {
      "text/html": [
       "<div>\n",
       "<style scoped>\n",
       "    .dataframe tbody tr th:only-of-type {\n",
       "        vertical-align: middle;\n",
       "    }\n",
       "\n",
       "    .dataframe tbody tr th {\n",
       "        vertical-align: top;\n",
       "    }\n",
       "\n",
       "    .dataframe thead th {\n",
       "        text-align: right;\n",
       "    }\n",
       "</style>\n",
       "<table border=\"1\" class=\"dataframe\">\n",
       "  <thead>\n",
       "    <tr style=\"text-align: right;\">\n",
       "      <th></th>\n",
       "      <th>1970</th>\n",
       "      <th>1971</th>\n",
       "      <th>1972</th>\n",
       "      <th>1973</th>\n",
       "      <th>1974</th>\n",
       "      <th>1975</th>\n",
       "      <th>1976</th>\n",
       "      <th>1977</th>\n",
       "      <th>1978</th>\n",
       "      <th>1979</th>\n",
       "      <th>...</th>\n",
       "      <th>2008</th>\n",
       "      <th>2009</th>\n",
       "      <th>2010</th>\n",
       "      <th>2011</th>\n",
       "      <th>2012</th>\n",
       "      <th>2013</th>\n",
       "      <th>2014</th>\n",
       "      <th>2015</th>\n",
       "      <th>2016</th>\n",
       "      <th>2017</th>\n",
       "    </tr>\n",
       "  </thead>\n",
       "  <tbody>\n",
       "    <tr>\n",
       "      <th>29</th>\n",
       "      <td>9352</td>\n",
       "      <td>12885</td>\n",
       "      <td>13561</td>\n",
       "      <td>16481</td>\n",
       "      <td>15479</td>\n",
       "      <td>27837</td>\n",
       "      <td>25927</td>\n",
       "      <td>25415</td>\n",
       "      <td>26700</td>\n",
       "      <td>27599</td>\n",
       "      <td>...</td>\n",
       "      <td>23668</td>\n",
       "      <td>23331</td>\n",
       "      <td>22736</td>\n",
       "      <td>23624</td>\n",
       "      <td>22332</td>\n",
       "      <td>20601</td>\n",
       "      <td>21173</td>\n",
       "      <td>22659</td>\n",
       "      <td>21590</td>\n",
       "      <td>21016</td>\n",
       "    </tr>\n",
       "  </tbody>\n",
       "</table>\n",
       "<p>1 rows × 48 columns</p>\n",
       "</div>"
      ],
      "text/plain": [
       "    1970   1971   1972   1973   1974   1975   1976   1977   1978   1979  ...  \\\n",
       "29  9352  12885  13561  16481  15479  27837  25927  25415  26700  27599  ...   \n",
       "\n",
       "     2008   2009   2010   2011   2012   2013   2014   2015   2016   2017  \n",
       "29  23668  23331  22736  23624  22332  20601  21173  22659  21590  21016  \n",
       "\n",
       "[1 rows x 48 columns]"
      ]
     },
     "execution_count": 8,
     "metadata": {},
     "output_type": "execute_result"
    }
   ],
   "source": [
    "# 데이터 가져오기, 데이터 전처리\n",
    "df = pd.read_excel('./dataset/시도별 전출입 인구수.xlsx')\n",
    "df.head()\n",
    "\n",
    "# Nan 데이터 처리 : 이전 값으로 대체\n",
    "df = df.fillna(method='ffill')\n",
    "df.head()\n",
    "\n",
    "#  전출지별이 서울이고 전입지별이 강원도인 자료만 추출\n",
    "df_sido = df[ (df['전출지별'] == '서울특별시') & ( df['전입지별'] == '강원도')]\n",
    "df_sido = df_sido.loc[ : , '1970' :]\n",
    "df_sido"
   ]
  },
  {
   "cell_type": "code",
   "execution_count": 9,
   "metadata": {},
   "outputs": [
    {
     "name": "stdout",
     "output_type": "stream",
     "text": [
      "[[9352 12885 13561 16481 15479 27837 25927 25415 26700 27599 32858 32116\n",
      "  31013 31308 30470 29911 28489 28699 26691 26394 26591 25208 25215 23244\n",
      "  21384 24987 25221 25178 25840 25741 22832 22941 21582 21696 22071 20483\n",
      "  21969 22177 23668 23331 22736 23624 22332 20601 21173 22659 21590 21016]]\n"
     ]
    },
    {
     "data": {
      "text/plain": [
       "array([9352, 12885, 13561, 16481, 15479, 27837, 25927, 25415, 26700,\n",
       "       27599, 32858, 32116, 31013, 31308, 30470, 29911, 28489, 28699,\n",
       "       26691, 26394, 26591, 25208, 25215, 23244, 21384, 24987, 25221,\n",
       "       25178, 25840, 25741, 22832, 22941, 21582, 21696, 22071, 20483,\n",
       "       21969, 22177, 23668, 23331, 22736, 23624, 22332, 20601, 21173,\n",
       "       22659, 21590, 21016], dtype=object)"
      ]
     },
     "execution_count": 9,
     "metadata": {},
     "output_type": "execute_result"
    }
   ],
   "source": [
    "print(df_sido.values)   # 2차원의 배열 -> 1차원으로\n",
    "df_sido.values.flatten()  # arr.flatten() -> 모든 차수의 배열을 1차원으로 \n",
    "# list(df_sido.values.reshape(len(df_sido.columns),))"
   ]
  },
  {
   "cell_type": "code",
   "execution_count": 10,
   "metadata": {},
   "outputs": [
    {
     "data": {
      "image/png": "[encoded data removed]",
      "text/plain": [
       "<Figure size 432x288 with 1 Axes>"
      ]
     },
     "metadata": {
      "needs_background": "light"
     },
     "output_type": "display_data"
    }
   ],
   "source": [
    "# plt.plot(df_sido.columns, df_sido.loc[ 29 , df_sido.columns])\n",
    "plt.plot(df_sido.columns, df_sido.values.flatten())\n",
    "plt.title('서울 -> 강원도 이동 인구 수')\n",
    "plt.xlabel(' 연도 ')\n",
    "plt.ylabel('인구 수')\n",
    "\n",
    "plt.show()"
   ]
  },
  {
   "cell_type": "code",
   "execution_count": 30,
   "metadata": {},
   "outputs": [
    {
     "data": {
      "text/plain": [
       "1970     9352\n",
       "1971    12885\n",
       "1972    13561\n",
       "1973    16481\n",
       "1974    15479\n",
       "1975    27837\n",
       "1976    25927\n",
       "1977    25415\n",
       "1978    26700\n",
       "1979    27599\n",
       "1980    32858\n",
       "1981    32116\n",
       "1982    31013\n",
       "1983    31308\n",
       "1984    30470\n",
       "1985    29911\n",
       "1986    28489\n",
       "1987    28699\n",
       "1988    26691\n",
       "1989    26394\n",
       "1990    26591\n",
       "1991    25208\n",
       "1992    25215\n",
       "1993    23244\n",
       "1994    21384\n",
       "1995    24987\n",
       "1996    25221\n",
       "1997    25178\n",
       "1998    25840\n",
       "1999    25741\n",
       "2000    22832\n",
       "2001    22941\n",
       "2002    21582\n",
       "2003    21696\n",
       "2004    22071\n",
       "2005    20483\n",
       "2006    21969\n",
       "2007    22177\n",
       "2008    23668\n",
       "2009    23331\n",
       "2010    22736\n",
       "2011    23624\n",
       "2012    22332\n",
       "2013    20601\n",
       "2014    21173\n",
       "2015    22659\n",
       "2016    21590\n",
       "2017    21016\n",
       "Name: 29, dtype: object"
      ]
     },
     "execution_count": 30,
     "metadata": {},
     "output_type": "execute_result"
    }
   ],
   "source": [
    "# df_sido.rename(index={29:0}, inplace=True)\n",
    "df_sido = df_sido.loc[29]\n",
    "df_sido"
   ]
  },
  {
   "cell_type": "code",
   "execution_count": 11,
   "metadata": {},
   "outputs": [
    {
     "data": {
      "image/png": "[encoded data removed]",
      "text/plain": [
       "<Figure size 1008x360 with 1 Axes>"
      ]
     },
     "metadata": {
      "needs_background": "light"
     },
     "output_type": "display_data"
    }
   ],
   "source": [
    "# plt.plot(df_sidp.columns, df_sido.loc[29, df_sido_columns])\n",
    "plt.figure(figsize=(14,5)) # 그래프의 사이즈\n",
    "\n",
    "plt.plot(df_sido.columns, df_sido.values.flatten(), marker = 'o', color = 'red', mfc = 'skyblue')\n",
    "plt.plot(df_sido)\n",
    "plt.title('서울 -> 강원도 이동 인구 수')\n",
    "plt.xlabel(' 연도 ')\n",
    "plt.ylabel('인구 수')\n",
    "plt.legend(labels=['서울->강원도']) # 범례 표시\n",
    "\n",
    "plt.xticks(size=10, rotation='vertical') # x의 값을 90도 회전\n",
    "plt.xticks(size=10, rotation=75) # x의 값을 75도 회전\n",
    "\n",
    "plt.show()"
   ]
  },
  {
   "cell_type": "code",
   "execution_count": 15,
   "metadata": {},
   "outputs": [
    {
     "data": {
      "text/plain": [
       "array([9352, 12885, 13561, 16481, 15479, 27837, 25927, 25415, 26700,\n",
       "       27599, 32858, 32116, 31013, 31308, 30470, 29911, 28489, 28699,\n",
       "       26691, 26394, 26591, 25208, 25215, 23244, 21384, 24987, 25221,\n",
       "       25178, 25840, 25741, 22832, 22941, 21582, 21696, 22071, 20483,\n",
       "       21969, 22177, 23668, 23331, 22736, 23624, 22332, 20601, 21173,\n",
       "       22659, 21590, 21016], dtype=object)"
      ]
     },
     "execution_count": 15,
     "metadata": {},
     "output_type": "execute_result"
    }
   ],
   "source": [
    "df_sido.values.flatten()"
   ]
  }
 ],
 "metadata": {
  "kernelspec": {
   "display_name": "Python 3",
   "language": "python",
   "name": "python3"
  },
  "language_info": {
   "codemirror_mode": {
    "name": "ipython",
    "version": 3
   },
   "file_extension": ".py",
   "mimetype": "text/x-python",
   "name": "python",
   "nbconvert_exporter": "python",
   "pygments_lexer": "ipython3",
   "version": "3.8.5"
  }
 },
 "nbformat": 4,
 "nbformat_minor": 5
}
