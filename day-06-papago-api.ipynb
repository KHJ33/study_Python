{
 "cells": [
  {
   "cell_type": "code",
   "execution_count": 10,
   "metadata": {},
   "outputs": [],
   "source": [
    "import os\n",
    "import sys\n",
    "import urllib.request\n",
    "import json\n",
    "\n",
    "text = '''\n",
    "Yesterday\n",
    "All my troubles seemed so far away\n",
    "Now it looks as though they're here to stay\n",
    "Oh, I believe in yesterday\n",
    "Suddenly\n",
    "I'm not half the man I used to be\n",
    "There's a shadow hanging over me\n",
    "Oh, yesterday came suddenly\n",
    "Why she had to go, I don't know\n",
    "She wouldn't say\n",
    "I said something wrong\n",
    "Now I long for yesterday\n",
    "Yesterday\n",
    "Love was such an easy game to play\n",
    "Now I need a place to hide away\n",
    "Oh, I believe in yesterday\n",
    "Why she\n",
    "'''"
   ]
  },
  {
   "cell_type": "code",
   "execution_count": 8,
   "metadata": {},
   "outputs": [
    {
     "name": "stdout",
     "output_type": "stream",
     "text": [
      "{\"message\":{\"result\":{\"srcLangType\":\"en\",\"tarLangType\":\"ko\",\"translatedText\":\"어제,\\n내 모든 시름들이 멀리 사라져버린듯 했다\\n이제 그들은 이곳에 머물려고 하는 것 같다.\\n오, 나는 어제를 다시 그리게 돼.\\n갑자기\\n예전의 나의 반도 안 되는구나.\\n내 위에 그림자가 드리워져 있어\\n아, 어제가 갑자기 왔구나.\\n왜 그녀가 가야 했는지 모르겠어\\n그녀는 말하지 않을 것이다.\\n내가 말을 잘못했다.\\n이제 나는 어제를 그리워한다.\\n어제,\\n사랑은 정말 하기 쉬운 게임이었다.\\n이제 숨을 곳이 필요해\\n오, 나는 어제를 다시 그리게 돼.\\n왜 그녀는\",\"engineType\":\"UNDEF_MULTI_SENTENCE\",\"pivot\":null,\"dict\":null,\"tarDict\":null},\"@type\":\"response\",\"@service\":\"naverservice.nmt.proxy\",\"@version\":\"1.0.0\"}}\n"
     ]
    }
   ],
   "source": [
    "client_id = \"qbYhUy1TSGIJ5uW4Sito\" # 개발자센터에서 발급받은 Client ID 값\n",
    "client_secret = \"RGlfEHklfb\" # 개발자센터에서 발급받은 Client Secret 값\n",
    "encText = urllib.parse.quote(text)\n",
    "data = \"source=en&target=ko&text=\" + encText\n",
    "url = \"https://openapi.naver.com/v1/papago/n2mt\"\n",
    "request = urllib.request.Request(url)\n",
    "request.add_header(\"X-Naver-Client-Id\",client_id)\n",
    "request.add_header(\"X-Naver-Client-Secret\",client_secret)\n",
    "response = urllib.request.urlopen(request, data=data.encode(\"utf-8\"))\n",
    "rescode = response.getcode()\n",
    "if(rescode==200):\n",
    "    response_body = response.read()\n",
    "    print(response_body.decode('utf-8'))\n",
    "else:\n",
    "    print(\"Error Code:\" + rescode)"
   ]
  },
  {
   "cell_type": "code",
   "execution_count": 21,
   "metadata": {},
   "outputs": [],
   "source": [
    "trans_data = response_body.decode('utf-8')\n",
    "trans_data = json.loads(trans_data)"
   ]
  },
  {
   "cell_type": "code",
   "execution_count": 19,
   "metadata": {},
   "outputs": [
    {
     "data": {
      "text/plain": [
       "'어제,\\n내 모든 시름들이 멀리 사라져버린듯 했다\\n이제 그들은 이곳에 머물려고 하는 것 같다.\\n오, 나는 어제를 다시 그리게 돼.\\n갑자기\\n예전의 나의 반도 안 되는구나.\\n내 위에 그림자가 드리워져 있어\\n아, 어제가 갑자기 왔구나.\\n왜 그녀가 가야 했는지 모르겠어\\n그녀는 말하지 않을 것이다.\\n내가 말을 잘못했다.\\n이제 나는 어제를 그리워한다.\\n어제,\\n사랑은 정말 하기 쉬운 게임이었다.\\n이제 숨을 곳이 필요해\\n오, 나는 어제를 다시 그리게 돼.\\n왜 그녀는'"
      ]
     },
     "execution_count": 19,
     "metadata": {},
     "output_type": "execute_result"
    }
   ],
   "source": [
    "trans_data['message']['result']['translatedText']"
   ]
  },
  {
   "cell_type": "code",
   "execution_count": 26,
   "metadata": {},
   "outputs": [
    {
     "name": "stdout",
     "output_type": "stream",
     "text": [
      "{'message': {'result': {'srcLangType': 'en', 'tarLangType': 'ko', 'translatedText': '어제,\\n내 모든 시름들이 멀리 사라져버린듯 했다\\n이제 그들은 이곳에 머물려고 하는 것 같다.\\n오, 나는 어제를 다시 그리게 돼.\\n갑자기\\n예전의 나의 반도 안 되는구나.\\n내 위에 그림자가 드리워져 있어\\n아, 어제가 갑자기 왔구나.\\n왜 그녀가 가야 했는지 모르겠어\\n그녀는 말하지 않을 것이다.\\n내가 말을 잘못했다.\\n이제 나는 어제를 그리워한다.\\n어제,\\n사랑은 정말 하기 쉬운 게임이었다.\\n이제 숨을 곳이 필요해\\n오, 나는 어제를 다시 그리게 돼.\\n왜 그녀는', 'engineType': 'UNDEF_MULTI_SENTENCE', 'pivot': None, 'dict': None, 'tarDict': None}, '@type': 'response', '@service': 'naverservice.nmt.proxy', '@version': '1.0.0'}}\n",
      "어제,\n",
      "내 모든 시름들이 멀리 사라져버린듯 했다\n",
      "이제 그들은 이곳에 머물려고 하는 것 같다.\n",
      "오, 나는 어제를 다시 그리게 돼.\n",
      "갑자기\n",
      "예전의 나의 반도 안 되는구나.\n",
      "내 위에 그림자가 드리워져 있어\n",
      "아, 어제가 갑자기 왔구나.\n",
      "왜 그녀가 가야 했는지 모르겠어\n",
      "그녀는 말하지 않을 것이다.\n",
      "내가 말을 잘못했다.\n",
      "이제 나는 어제를 그리워한다.\n",
      "어제,\n",
      "사랑은 정말 하기 쉬운 게임이었다.\n",
      "이제 숨을 곳이 필요해\n",
      "오, 나는 어제를 다시 그리게 돼.\n",
      "왜 그녀는\n"
     ]
    }
   ],
   "source": [
    "import requests\n",
    "\n",
    "request_url = \"https://openapi.naver.com/v1/papago/n2mt\"\n",
    "headers = {'X-Naver-Client-Id' : 'qbYhUy1TSGIJ5uW4Sito' , \n",
    "          'X-Naver-Client-Secret' : 'RGlfEHklfb'}\n",
    "params = {'source' : 'en', 'target' : 'ko', 'text' : text}\n",
    "\n",
    "response = requests.post(request_url, headers = headers , data = params)\n",
    "print(response.json())\n",
    "\n",
    "# dict 타입으로 변경 후 자료 검색\n",
    "result = response.json()\n",
    "print(result['message']['result']['translatedText'])"
   ]
  },
  {
   "cell_type": "code",
   "execution_count": null,
   "metadata": {},
   "outputs": [],
   "source": []
  }
 ],
 "metadata": {
  "kernelspec": {
   "display_name": "Python 3",
   "language": "python",
   "name": "python3"
  },
  "language_info": {
   "codemirror_mode": {
    "name": "ipython",
    "version": 3
   },
   "file_extension": ".py",
   "mimetype": "text/x-python",
   "name": "python",
   "nbconvert_exporter": "python",
   "pygments_lexer": "ipython3",
   "version": "3.8.5"
  }
 },
 "nbformat": 4,
 "nbformat_minor": 4
}
