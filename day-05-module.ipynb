{
 "cells": [
  {
   "cell_type": "code",
   "execution_count": 3,
   "metadata": {},
   "outputs": [],
   "source": [
    "# math 모듈 -> import 모듈명\n",
    "import math as m"
   ]
  },
  {
   "cell_type": "code",
   "execution_count": 4,
   "metadata": {},
   "outputs": [
    {
     "name": "stdout",
     "output_type": "stream",
     "text": [
      "35\n",
      "43\n"
     ]
    }
   ],
   "source": [
    "print(m.ceil(34.2)) # 올림 정수\n",
    "print(m.floor(43.2)) # 내림 정수"
   ]
  },
  {
   "cell_type": "code",
   "execution_count": 7,
   "metadata": {},
   "outputs": [
    {
     "data": {
      "text/plain": [
       "-0.5440211108893699"
      ]
     },
     "execution_count": 7,
     "metadata": {},
     "output_type": "execute_result"
    }
   ],
   "source": [
    "round(34.2565, 2) # 소수점 이하 반올림\n",
    "m.sin(10)"
   ]
  },
  {
   "cell_type": "code",
   "execution_count": 9,
   "metadata": {},
   "outputs": [
    {
     "data": {
      "text/plain": [
       "0.6483608274590867"
      ]
     },
     "execution_count": 9,
     "metadata": {},
     "output_type": "execute_result"
    }
   ],
   "source": [
    "# from 패키지 또는 모듈명 import 모듈 또는 함수명\n",
    "from math import sin, cos, tan\n",
    "tan(10)"
   ]
  },
  {
   "cell_type": "code",
   "execution_count": 22,
   "metadata": {},
   "outputs": [
    {
     "name": "stdout",
     "output_type": "stream",
     "text": [
      " -- random -- : 0.00694496462288674\n",
      " -- uniform(10,20) -- : 13.393867171986853\n",
      " -- randrange(10) -- : 0\n",
      " -- choice(list(range(5))) -- : 5\n",
      " -- shuffle(list(range(10))) -- : None [9, 4, 5, 0, 6, 7, 1, 3, 2, 8]\n",
      " -- sample(list(range(10)), k = 3) -- : [6, 1, 9]\n"
     ]
    }
   ],
   "source": [
    "# 사용 -> 모듈명.함수(), 모듈명.변수()\n",
    "# random 모듈\n",
    "import random\n",
    "\n",
    "print(' -- random -- :', random.random()) # 0.0 에서 1.0 사이의 수 반환 float\n",
    "print(' -- uniform(10,20) -- :', random.uniform(10, 20)) # 10 과 20 사이의 수 반환 float\n",
    "print(' -- randrange(10) -- :', random.randrange(10)) # 0 부터 10 사이의 수 반환 int\n",
    "print(' -- choice(list(range(5))) -- :', random.choice(list(range(10)))) # 0 부터 10 사이의 수 반환\n",
    "a = list(range(10))\n",
    "print(' -- shuffle(list(range(10))) -- :', random.shuffle(a), a) #데이터 썪음\n",
    "print(' -- sample(list(range(10)), k = 3) -- :', random.sample(a, k = 3)) # a 리스트 중에 3개 샘플링"
   ]
  },
  {
   "cell_type": "code",
   "execution_count": 24,
   "metadata": {},
   "outputs": [
    {
     "name": "stdout",
     "output_type": "stream",
     "text": [
      "/Users/kimhyunjo/python-basic\n",
      "posix\n",
      "['khj_hw2.ipynb', '.DS_Store', 'day-4-function.ipynb', 'khj_hw4.ipynb', 'khj_hw3.ipynb', 'info.txt', 'khj_hw1.ipynb', 'day-1.ipynb', 'day-3.ipynb', 'test_dir', 'basic.txt', 'day-5.ipynb', 'chapter7-module.ipynb', 'day-2.ipynb', '.ipynb_checkpoints', 'test.ipynb', 'day-4.ipynb']\n"
     ]
    }
   ],
   "source": [
    "import os\n",
    "print(os.getcwd()) # 현재 작업하고 있는 디렉토리 반환\n",
    "print(os.name) # 운영 체제\n",
    "print(os.listdir()) # 현재 작업하고 있는 디렉토리 파일 목록"
   ]
  },
  {
   "cell_type": "code",
   "execution_count": 25,
   "metadata": {},
   "outputs": [
    {
     "name": "stdout",
     "output_type": "stream",
     "text": [
      "API.ipynb\n",
      ".eclipse\n",
      ".config\n",
      "Music\n",
      ".condarc\n",
      "python-basic\n",
      "WorkNet_API.ipynb\n",
      ".DS_Store\n",
      ".npki_pkcs11.cnf\n",
      "LSTM.ipynb\n",
      ".CFUserTextEncoding\n",
      "tomcat\n",
      ".tooling\n",
      ".bashrc\n",
      "Untitled.ipynb\n",
      ".zshrc\n",
      "딥러닝 실습\n",
      "Pictures\n",
      "셀리니움_영양제 자료 수집.ipynb\n",
      "GUI.ipynb\n",
      ".zprofile\n",
      ".softforum\n",
      ".sts4\n",
      ".zsh_history\n",
      ".ipython\n",
      "Desktop\n",
      "Library\n",
      "eclipse-workspace\n",
      ".matplotlib\n",
      "seaborn-data\n",
      ".lemminx\n",
      "traffic.ipynb\n",
      "PycharmProjects\n",
      "Public\n",
      ".idlerc\n",
      "CandleTest.ipynb\n",
      ".AnySign4PC\n",
      ".anaconda\n",
      "전처리.ipynb\n",
      "Movies\n",
      "Applications\n",
      "opt\n",
      ".Trash\n",
      "PCA.ipynb\n",
      ".ipynb_checkpoints\n",
      ".jupyter\n",
      ".keras\n",
      "Documents\n",
      ".mysql_history\n",
      ".m2\n",
      "homework.ipynb\n",
      ".bash_profile\n",
      "car_label.ipynb\n",
      "Downloads\n",
      ".cache\n",
      "구글 이미지 불러오기.ipynb\n",
      "셀리니움을 이용한 크롤링.ipynb\n",
      ".viminfo\n",
      ".zsh_sessions\n",
      "git\n",
      ".conda\n",
      "jsp\n"
     ]
    }
   ],
   "source": [
    "import os\n",
    "# 상위 디렉토리의 목록을 출력\n",
    "dir_list = os.listdir('../')\n",
    "for fname in dir_list :\n",
    "    print(fname)"
   ]
  },
  {
   "cell_type": "code",
   "execution_count": 27,
   "metadata": {},
   "outputs": [],
   "source": [
    "# 디렉토리 생성 : os.mkdir('디렉토리명')\n",
    "# 디렉토리 삭제 : os.rmdir('디렉토리명')\n",
    "os.mkdir('test_dir')\n",
    "# os.rmdir('test_dir')"
   ]
  },
  {
   "cell_type": "code",
   "execution_count": 30,
   "metadata": {},
   "outputs": [],
   "source": [
    "# file 생성\n",
    "file_path = './test_dir/test.txt'\n",
    "\n",
    "with open(file_path, 'w') as file :\n",
    "    file.write('hello\\n test')\n",
    "    \n",
    "# file 이름 변경 : os.rename(old, new)\n",
    "os.rename(file_path, './test_dir/new.txt')"
   ]
  },
  {
   "cell_type": "code",
   "execution_count": 31,
   "metadata": {},
   "outputs": [],
   "source": [
    "# file 삭제 : os.remove(파일명) 경로까지 포함\n",
    "# os.system('dir')\n",
    "# os.system('cd../')"
   ]
  }
 ],
 "metadata": {
  "kernelspec": {
   "display_name": "Python 3",
   "language": "python",
   "name": "python3"
  },
  "language_info": {
   "codemirror_mode": {
    "name": "ipython",
    "version": 3
   },
   "file_extension": ".py",
   "mimetype": "text/x-python",
   "name": "python",
   "nbconvert_exporter": "python",
   "pygments_lexer": "ipython3",
   "version": "3.8.5"
  }
 },
 "nbformat": 4,
 "nbformat_minor": 4
}
