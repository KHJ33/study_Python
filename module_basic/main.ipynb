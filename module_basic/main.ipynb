{
 "cells": [
  {
   "cell_type": "code",
   "execution_count": 1,
   "metadata": {},
   "outputs": [
    {
     "name": "stdout",
     "output_type": "stream",
     "text": [
      "test 모듈\n",
      "test_module\n",
      "test ---\n",
      "숫자 입력10\n",
      "62.800000000000004\n",
      "314.0\n",
      "3.14\n",
      "100.0\n"
     ]
    }
   ],
   "source": [
    "# main\n",
    "import test_module as test\n",
    "\n",
    "radius = test.number_input()\n",
    "print(test.get_circumference(radius))\n",
    "print(test.get_circle_area(radius))\n",
    "\n",
    "print(test.PI)\n",
    "test.PI = 5\n",
    "print(test.get_circumference(radius))"
   ]
  },
  {
   "cell_type": "code",
   "execution_count": null,
   "metadata": {},
   "outputs": [],
   "source": []
  }
 ],
 "metadata": {
  "kernelspec": {
   "display_name": "Python 3",
   "language": "python",
   "name": "python3"
  },
  "language_info": {
   "codemirror_mode": {
    "name": "ipython",
    "version": 3
   },
   "file_extension": ".py",
   "mimetype": "text/x-python",
   "name": "python",
   "nbconvert_exporter": "python",
   "pygments_lexer": "ipython3",
   "version": "3.8.5"
  }
 },
 "nbformat": 4,
 "nbformat_minor": 4
}
