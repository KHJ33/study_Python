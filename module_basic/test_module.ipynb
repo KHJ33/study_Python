{
 "cells": [
  {
   "cell_type": "code",
   "execution_count": 1,
   "metadata": {},
   "outputs": [
    {
     "data": {
      "text/plain": [
       "'/Users/kimhyunjo/python-basic/module_basic'"
      ]
     },
     "execution_count": 1,
     "metadata": {},
     "output_type": "execute_result"
    }
   ],
   "source": [
    "import os\n",
    "os.getcwd()"
   ]
  },
  {
   "cell_type": "markdown",
   "metadata": {},
   "source": [
    "# ✪✪✪✪✪✪"
   ]
  },
  {
   "cell_type": "code",
   "execution_count": 5,
   "metadata": {},
   "outputs": [
    {
     "name": "stdout",
     "output_type": "stream",
     "text": [
      "test 모듈\n",
      "__main__\n",
      "test ---\n",
      "get_circumference(10) :  62.800000000000004\n",
      "get_circle_area(10) :  314.0\n"
     ]
    }
   ],
   "source": [
    "PI = 3.14\n",
    "\n",
    "def number_input() :\n",
    "    output = input('숫자 입력')\n",
    "    \n",
    "    return float(output)\n",
    "\n",
    "def get_circumference(radius) :\n",
    "    return radius * 2 * PI\n",
    "\n",
    "def get_circle_area(radius) :\n",
    "    return radius * radius * PI\n",
    "\n",
    "print('test 모듈')\n",
    "print(__name__)\n",
    "print('test ---')\n",
    "\n",
    "if __name__ == '__main__' :\n",
    "    print('get_circumference(10) : ', get_circumference(10))\n",
    "    print('get_circle_area(10) : ', get_circle_area(10))"
   ]
  },
  {
   "cell_type": "code",
   "execution_count": null,
   "metadata": {},
   "outputs": [],
   "source": []
  }
 ],
 "metadata": {
  "kernelspec": {
   "display_name": "Python 3",
   "language": "python",
   "name": "python3"
  },
  "language_info": {
   "codemirror_mode": {
    "name": "ipython",
    "version": 3
   },
   "file_extension": ".py",
   "mimetype": "text/x-python",
   "name": "python",
   "nbconvert_exporter": "python",
   "pygments_lexer": "ipython3",
   "version": "3.8.5"
  }
 },
 "nbformat": 4,
 "nbformat_minor": 4
}
