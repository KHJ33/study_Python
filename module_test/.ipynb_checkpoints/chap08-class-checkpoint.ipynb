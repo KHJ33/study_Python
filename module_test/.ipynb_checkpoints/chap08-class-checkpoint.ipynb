{
 "cells": [
  {
   "cell_type": "markdown",
   "metadata": {},
   "source": [
    "# chap8  클래스\n",
    "## chap8-01 클래스의 기본"
   ]
  },
  {
   "cell_type": "code",
   "execution_count": 6,
   "metadata": {},
   "outputs": [
    {
     "name": "stdout",
     "output_type": "stream",
     "text": [
      "윤인성 : 368, 92.0\n",
      "연하진 : 384, 96.0\n",
      "구지연 : 356, 89.0\n",
      "나선주 : 378, 94.5\n",
      "윤아린 : 389, 97.25\n",
      "윤명월 : 336, 84.0\n"
     ]
    }
   ],
   "source": [
    "# 학생 리스트를 선언합니다.\n",
    "students = [\n",
    "    { \"name\": \"윤인성\", \"korean\": 87, \"math\": 98, \"english\": 88, \"science\": 95 },\n",
    "    { \"name\": \"연하진\", \"korean\": 92, \"math\": 98, \"english\": 96, \"science\": 98 },\n",
    "    { \"name\": \"구지연\", \"korean\": 76, \"math\": 96, \"english\": 94, \"science\": 90 },\n",
    "    { \"name\": \"나선주\", \"korean\": 98, \"math\": 92, \"english\": 96, \"science\": 92 },\n",
    "    { \"name\": \"윤아린\", \"korean\": 95, \"math\": 98, \"english\": 98, \"science\": 98 },\n",
    "    { \"name\": \"윤명월\", \"korean\": 64, \"math\": 88, \"english\": 92, \"science\": 92 }\n",
    "]\n",
    "\n",
    "# 학생을 한명씩 출력\n",
    "for student in students:\n",
    "    score_total = student['korean'] + student['math'] +\\\n",
    "                student['english'] + student['science']\n",
    "    print(f'{student[\"name\"]} : {score_total}, {score_total/4}')"
   ]
  },
  {
   "cell_type": "code",
   "execution_count": 9,
   "metadata": {},
   "outputs": [
    {
     "name": "stdout",
     "output_type": "stream",
     "text": [
      "윤인성 : 363, 90.75\n",
      "연하진 : 384, 96.0\n",
      "구지연 : 356, 89.0\n"
     ]
    }
   ],
   "source": [
    "#  딕셔너리로 학생의 정보를  생성해서 반환하는 함수를 정의해서 사용\n",
    "def create_student(name, korean, math, english, science):\n",
    "    return { 'name': name, 'korean' : korean,\n",
    "           'math':math, 'english':english, 'science':science}\n",
    "\n",
    "#  학생  하나를 처리하는 함수 선언 ( 합을 구하는 )\n",
    "def student_get_sum(student):\n",
    "    return  student['korean'] + student['math'] +\\\n",
    "                student['english'] + student['science']\n",
    "\n",
    "# 학생의 평균을 구하는 함수 선언 \n",
    "def student_get_avg(student):\n",
    "    return student_get_sum(student) / 4\n",
    "\n",
    "def student_to_string(student):\n",
    "    return \"{} : {}, {}\".format(student[\"name\"],\n",
    "                                student_get_sum(student), \n",
    "                                student_get_avg(student))\n",
    "\n",
    "students = [\n",
    "    create_student('윤인성', 87, 88, 98, 90),\n",
    "    create_student(\"연하진\", 92, 98, 96, 98),\n",
    "    create_student(\"구지연\", 76,  96, 94,  90)\n",
    "]\n",
    "\n",
    "for student in students:\n",
    "    print(student_to_string(student))"
   ]
  },
  {
   "cell_type": "code",
   "execution_count": 20,
   "metadata": {},
   "outputs": [],
   "source": [
    "# class  로 학생의 객체 선언\n",
    "class Student:\n",
    "    #   클래스 객체의 변수 초기화 ->  생성자가 실행되면 자동 실행\n",
    "    def __init__(self, name, korean, math, english, science):\n",
    "        self.name = name\n",
    "        self.korean = korean\n",
    "        self.math = math\n",
    "        self. english = english\n",
    "        self.science = science\n",
    "        #  학생  하나를 처리하는 함수 선언 ( 합을 구하는 )\n",
    "    def get_sum(self):\n",
    "        return  self.korean + self.math + self.english + self.science\n",
    "    \n",
    "    def get_avg(self):\n",
    "        return self.get_sum() / 4\n",
    "    \n",
    "    def to_string(self):\n",
    "        return \"{} : {}, {}\".format(self.name,\n",
    "                                self.get_sum(), \n",
    "                                self.get_avg())\n",
    " "
   ]
  },
  {
   "cell_type": "code",
   "execution_count": 21,
   "metadata": {},
   "outputs": [
    {
     "name": "stdout",
     "output_type": "stream",
     "text": [
      "윤인성 87\n",
      "윤인성 : 363, 90.75\n",
      "연하진 : 384, 96.0\n",
      "구지연 : 356, 89.0\n"
     ]
    }
   ],
   "source": [
    "a = Student('윤인성', 87, 88, 98, 90)\n",
    "print(a.name, a.korean)\n",
    "students = [\n",
    "    Student('윤인성', 87, 88, 98, 90),\n",
    "    Student(\"연하진\", 92, 98, 96, 98),\n",
    "    Student(\"구지연\", 76,  96, 94,  90)\n",
    "]\n",
    "\n",
    "for student in students:\n",
    "    print(student.to_string())"
   ]
  },
  {
   "cell_type": "code",
   "execution_count": null,
   "metadata": {},
   "outputs": [],
   "source": [
    "# 문 ) 키보드에서 학생들의 이름, 국어, 영어, 수학 성적을 입력받아\n",
    "# 저장 한 후 \n",
    "# 각 학생별로 이름, 국어, 영어, 수학, 총점, 평균을 출력\n",
    "# 전체 학생의 총점이 가장 높은 학생의 정보를 출력\n",
    "# 입력의 끝은 이름에 'q' 가 입력되면 종료\n",
    "# 검색할 이름을 입력받아 자료의 이름 중에 있으면 검색된 자료 출력\n",
    "# class 를 활용\n"
   ]
  },
  {
   "cell_type": "code",
   "execution_count": 39,
   "metadata": {},
   "outputs": [],
   "source": [
    "class Student:\n",
    "    def __init__(self, name, kor, eng, math):\n",
    "        self.name = name\n",
    "        self.kor = kor\n",
    "        self.eng = eng\n",
    "        self.math = math\n",
    "    def get_sum(self):\n",
    "        return self.kor + self.eng + self.math\n",
    "    def get_avg(self):\n",
    "        return self.get_sum() / 3\n",
    "    def to_string(self):\n",
    "        return f'{self.name} : {self.kor}\\t{self.eng}\\t{self.math}\\\n",
    "                {self.get_sum()}\\t{self.get_avg()}'"
   ]
  },
  {
   "cell_type": "code",
   "execution_count": 36,
   "metadata": {},
   "outputs": [],
   "source": [
    "def input_data():\n",
    "    input_str = input(' 이름 국어 영어 수학 점수 입력 ').split()\n",
    "    if input_str[0] == 'q':\n",
    "        return False\n",
    "    \n",
    "    if len(input_str) < 4:\n",
    "        print(\"다시 입력 하세요\")\n",
    "        return True\n",
    "    \n",
    "    for i in range(1,4):\n",
    "        if input_str[i].isdigit():\n",
    "            input_str[i] = int(input_str[i])\n",
    "    return input_str\n"
   ]
  },
  {
   "cell_type": "code",
   "execution_count": 37,
   "metadata": {},
   "outputs": [
    {
     "name": "stdout",
     "output_type": "stream",
     "text": [
      " 이름 국어 영어 수학 점수 입력 a 44 55 66\n",
      " 이름 국어 영어 수학 점수 입력 b 77 88 99\n",
      " 이름 국어 영어 수학 점수 입력 g 77 88 66\n",
      " 이름 국어 영어 수학 점수 입력 q\n"
     ]
    }
   ],
   "source": [
    "students = []\n",
    "while(True):\n",
    "    student = input_data()\n",
    "    if student == False:\n",
    "        break\n",
    "    if len(student) != 4:\n",
    "        continue\n",
    "    students.append(Student(student[0], \n",
    "                            student[1], student[2], student[3]))"
   ]
  },
  {
   "cell_type": "code",
   "execution_count": 40,
   "metadata": {},
   "outputs": [
    {
     "name": "stdout",
     "output_type": "stream",
     "text": [
      "a : 44\t55\t66\t                165\t55.0\n",
      "b : 77\t88\t99\t                264\t88.0\n",
      "g : 77\t88\t66\t                231\t77.0\n"
     ]
    }
   ],
   "source": [
    "for student in students:\n",
    "    print(student.to_string())"
   ]
  },
  {
   "cell_type": "code",
   "execution_count": 49,
   "metadata": {},
   "outputs": [
    {
     "name": "stdout",
     "output_type": "stream",
     "text": [
      "b : 77\t88\t99\t                264\t88.0\n"
     ]
    }
   ],
   "source": [
    "#  가장 높은 점수의 학생 정보 출력\n",
    "max_score = max([ x.get_sum() for x in students ])\n",
    "for student in students:\n",
    "    if student.get_sum() == max_score:\n",
    "        print(student.to_string())"
   ]
  },
  {
   "cell_type": "code",
   "execution_count": 51,
   "metadata": {},
   "outputs": [
    {
     "name": "stdout",
     "output_type": "stream",
     "text": [
      "검색할 이름 : b\n",
      "b : 77\t88\t99\t                264\t88.0\n"
     ]
    }
   ],
   "source": [
    "# 검색할 이름 입력 \n",
    "search_name = input(\"검색할 이름 : \")\n",
    "if search_name in [ x.name for x in students ]:\n",
    "    for student in students:\n",
    "        if student.name == search_name:\n",
    "            print(student.to_string())"
   ]
  }
 ],
 "metadata": {
  "kernelspec": {
   "display_name": "Python 3",
   "language": "python",
   "name": "python3"
  },
  "language_info": {
   "codemirror_mode": {
    "name": "ipython",
    "version": 3
   },
   "file_extension": ".py",
   "mimetype": "text/x-python",
   "name": "python",
   "nbconvert_exporter": "python",
   "pygments_lexer": "ipython3",
   "version": "3.8.5"
  }
 },
 "nbformat": 4,
 "nbformat_minor": 5
}
