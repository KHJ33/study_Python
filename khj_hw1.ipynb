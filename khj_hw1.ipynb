{
 "cells": [
  {
   "cell_type": "code",
   "execution_count": 59,
   "metadata": {},
   "outputs": [
    {
     "name": "stdout",
     "output_type": "stream",
     "text": [
      "Hello Python\n"
     ]
    }
   ],
   "source": [
    "print('Hello Python')"
   ]
  },
  {
   "cell_type": "code",
   "execution_count": 60,
   "metadata": {},
   "outputs": [
    {
     "name": "stdout",
     "output_type": "stream",
     "text": [
      "# 연습문제\n",
      "\\\\\\\\\\\\\n",
      "--------\n"
     ]
    }
   ],
   "source": [
    "print('# 연습문제')\n",
    "print('\\\\\\\\\\\\\\\\\\\\\\\\')\n",
    "print('-'*8)"
   ]
  },
  {
   "cell_type": "code",
   "execution_count": 61,
   "metadata": {},
   "outputs": [
    {
     "name": "stdout",
     "output_type": "stream",
     "text": [
      "안\n",
      "녕\n",
      "하\n",
      "세\n",
      "요\n"
     ]
    }
   ],
   "source": [
    "print('안녕하세요'[0])\n",
    "print('안녕하세요'[1])\n",
    "print('안녕하세요'[2])\n",
    "print('안녕하세요'[3])\n",
    "print('안녕하세요'[4])"
   ]
  },
  {
   "cell_type": "code",
   "execution_count": 62,
   "metadata": {},
   "outputs": [
    {
     "name": "stdout",
     "output_type": "stream",
     "text": [
      "# 기본연산\n",
      "15 + 4 = 19\n",
      "15 - 4 = 11\n",
      "15 * 4 = 60\n",
      "15 / 4 = 3.75\n"
     ]
    }
   ],
   "source": [
    "print('# 기본연산')\n",
    "print(15,'+',4,'=',15+4)\n",
    "print(15,'-',4,'=',15-4)\n",
    "print(15,'*',4,'=',15*4)\n",
    "print(15,'/',4,'=',15/4)"
   ]
  },
  {
   "cell_type": "code",
   "execution_count": 64,
   "metadata": {},
   "outputs": [
    {
     "name": "stdout",
     "output_type": "stream",
     "text": [
      "3462를 17로 나누었을 때의\n",
      "몫 =  203\n",
      "나머지 =  11\n"
     ]
    }
   ],
   "source": [
    "print('3462를 17로 나누었을 때의')\n",
    "\n",
    "print('몫 = ',3462//17)\n",
    "print('나머지 = ',3462%17)"
   ]
  },
  {
   "cell_type": "code",
   "execution_count": 65,
   "metadata": {},
   "outputs": [
    {
     "name": "stdout",
     "output_type": "stream",
     "text": [
      "숫자 입력2\n",
      "2 inch\n",
      "5.08 cm\n"
     ]
    }
   ],
   "source": [
    "str_input = input('숫자 입력')\n",
    "num_input = int(str_input)\n",
    "\n",
    "print(num_input,'inch')\n",
    "print((num_input*2.54),'cm')"
   ]
  },
  {
   "cell_type": "code",
   "execution_count": 66,
   "metadata": {},
   "outputs": [
    {
     "name": "stdout",
     "output_type": "stream",
     "text": [
      "반지름 입력3\n",
      "반지름 3\n",
      "넓이 28.26\n",
      "둘레 18.84\n"
     ]
    }
   ],
   "source": [
    "str_input = input('반지름 입력')\n",
    "num_input = int(str_input)\n",
    "\n",
    "print('반지름',num_input)\n",
    "print('넓이', 3.14*(num_input**2))\n",
    "print('둘레', 3.14*(num_input*2))"
   ]
  },
  {
   "cell_type": "code",
   "execution_count": 69,
   "metadata": {},
   "outputs": [
    {
     "name": "stdout",
     "output_type": "stream",
     "text": [
      "첫번째 숫자 입력 2\n",
      "두번째 숫자 입력 4\n",
      "2 + 4 = 6\n"
     ]
    }
   ],
   "source": [
    "a = input('첫번째 숫자 입력 ')\n",
    "b = input('두번째 숫자 입력 ')\n",
    "\n",
    "print('{} + {} = {}'.format(a,b,int(a)+int(b)))"
   ]
  },
  {
   "cell_type": "code",
   "execution_count": null,
   "metadata": {},
   "outputs": [],
   "source": []
  }
 ],
 "metadata": {
  "kernelspec": {
   "display_name": "Python 3",
   "language": "python",
   "name": "python3"
  },
  "language_info": {
   "codemirror_mode": {
    "name": "ipython",
    "version": 3
   },
   "file_extension": ".py",
   "mimetype": "text/x-python",
   "name": "python",
   "nbconvert_exporter": "python",
   "pygments_lexer": "ipython3",
   "version": "3.8.5"
  }
 },
 "nbformat": 4,
 "nbformat_minor": 4
}
