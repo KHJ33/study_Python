{
 "cells": [
  {
   "cell_type": "markdown",
   "metadata": {},
   "source": [
    "# chapter 5 함수\n",
    "## chapter 5 - 1 함수 만들기\n",
    "- def 함수명() :"
   ]
  },
  {
   "cell_type": "markdown",
   "metadata": {},
   "source": [
    "# ✪✪✪✪✪"
   ]
  },
  {
   "cell_type": "code",
   "execution_count": 1,
   "metadata": {},
   "outputs": [
    {
     "name": "stdout",
     "output_type": "stream",
     "text": [
      "test\n",
      "var\n",
      "test\n",
      "var\n"
     ]
    }
   ],
   "source": [
    "def print_3_times(): # 매개변수가 없는 함수 생성\n",
    "    list_a = ['1']\n",
    "    print('Hello ')\n",
    "    print('Hello ')\n",
    "    print('Hello ', list_a[0])\n",
    "    \n",
    "def print_3_times(value, n): # value 를 n 번 출력하는 함수 정의, 매개변수가 있는 함수\n",
    "    for i in range(n):\n",
    "        print(value)\n",
    "\n",
    "# def 함수명 (일반 매개 변수 b , 가변 매개 변수 *var , 기본 매개변수 a = '')\n",
    "\n",
    "def print_n_var_times(n, *value): # *value 는 가변 매개변수\n",
    "    for i in range(n) :\n",
    "        for val in value :\n",
    "            print(val)\n",
    "            \n",
    "print_n_var_times(2, 'test', 'var')\n",
    "\n",
    "def print_key_val(*values, n = 3) :\n",
    "    for i in range(n) :\n",
    "        for val in values :\n",
    "            print(val)"
   ]
  },
  {
   "cell_type": "code",
   "execution_count": 2,
   "metadata": {},
   "outputs": [
    {
     "name": "stdout",
     "output_type": "stream",
     "text": [
      "test\n",
      "test\n",
      "test\n",
      "key val\n",
      "test\n",
      "key val\n",
      "test\n",
      "key val\n",
      "\n",
      "test\n",
      "key val\n",
      "test\n",
      "key val\n"
     ]
    }
   ],
   "source": [
    "print_3_times('test', 2) # 함수 실행          \n",
    "print_key_val('test', 'key val') # n = 3 으로 함수 실행\n",
    "print()\n",
    "print_key_val('test', 'key val', n = 2) # n = 2 로 함수 실행"
   ]
  },
  {
   "cell_type": "code",
   "execution_count": 3,
   "metadata": {},
   "outputs": [
    {
     "name": "stdout",
     "output_type": "stream",
     "text": [
      "1111 \n",
      "100\n"
     ]
    }
   ],
   "source": [
    "# 리턴 : return 값\n",
    "def return_test() :\n",
    "    print('1111 ')\n",
    "    return\n",
    "    print('2222 ')\n",
    "    \n",
    "def return_value() :\n",
    "    return 100\n",
    "\n",
    "return_test()\n",
    "val = return_value()\n",
    "print(val)"
   ]
  },
  {
   "cell_type": "code",
   "execution_count": 4,
   "metadata": {},
   "outputs": [
    {
     "name": "stdout",
     "output_type": "stream",
     "text": [
      "165\n",
      "165\n"
     ]
    }
   ],
   "source": [
    "# 문 ) 숫자 두개를 넘겨받아 두 수의 사이의 합을 구하는 함수 정의, 함수를 실행\n",
    "def dual_sum(num1, num2) :\n",
    "    total = 0\n",
    "    \n",
    "    if num1 < num2 :\n",
    "        for i in range(num1, num2 + 1) :\n",
    "            total += i\n",
    "            \n",
    "    else :\n",
    "        for i in range(num2, num1 + 1) :\n",
    "            total += i\n",
    "    \n",
    "    return total\n",
    "    \n",
    "    \n",
    "print(dual_sum(10,20))\n",
    "print(dual_sum(20,10))"
   ]
  },
  {
   "cell_type": "code",
   "execution_count": 5,
   "metadata": {},
   "outputs": [
    {
     "name": "stdout",
     "output_type": "stream",
     "text": [
      "5050\n",
      "250000\n",
      "495349\n",
      "\n",
      "3825\n",
      "1258\n"
     ]
    }
   ],
   "source": [
    "# start = 1, end = 100, step = 1 이고 start 에서 end 까지 step 만큼 건너 뛰면서 합을 구하는 함수 작성\n",
    "def sum_all(start = 1 , end = 100 , step = 1):\n",
    "    total = 0\n",
    "    for i in range(start, end + 1 , step) :\n",
    "        total += i\n",
    "    return total\n",
    "\n",
    "print(sum_all())\n",
    "print(sum_all(start = 1, end = 1000 , step = 2))\n",
    "print(sum_all(start = 1000,  step = -1))\n",
    "print()\n",
    "print(sum_all(50, 100))\n",
    "print(sum_all(50, 100, 3))"
   ]
  },
  {
   "cell_type": "code",
   "execution_count": null,
   "metadata": {},
   "outputs": [],
   "source": []
  },
  {
   "cell_type": "code",
   "execution_count": 6,
   "metadata": {},
   "outputs": [
    {
     "name": "stdout",
     "output_type": "stream",
     "text": [
      "계산식 입력 : 3 + 5 8 * 9\n",
      "결과 값은 72 입니다.\n",
      "계산식 입력 : 3 + 5 q\n"
     ]
    }
   ],
   "source": [
    "# 문 ) 계산기 프로그램 작성\n",
    "# 각 계산식을 구하는 함수로 작성\n",
    "# 1. 계산식 입력\n",
    "# 2. 부호에 따른 함수 호출\n",
    "# 3. 결과 출력\n",
    "\n",
    "def check_data(cal) :\n",
    "    if len(cal) != 3 :\n",
    "        return False\n",
    "    if cal[0].isdigit() and cal[2].isdigit() and cal[1] in '+-*/' :\n",
    "        return True\n",
    "    else :\n",
    "        return False\n",
    "    \n",
    "def plus_func(num1, num2):\n",
    "    return num1 + num2\n",
    "def minus_func(num1, num2):\n",
    "    return num1 - num2\n",
    "def mul_func(num1, num2) :\n",
    "    return num1 * num2\n",
    "def div_func(num1, num2) :\n",
    "    return num1 / num2\n",
    "\n",
    "while True :\n",
    "    cal = input('계산식 입력 : 3 + 5 ').split()\n",
    "    \n",
    "    if cal[0] == 'q' :\n",
    "        break\n",
    "    \n",
    "    if not check_data(cal) : # 입력된 자료의 상태 체크\n",
    "        continue\n",
    "\n",
    "    if cal[1] == '+':\n",
    "        result = plus_func(int(cal[0]) , int(cal[2]))\n",
    "    elif cal[1] == '-':\n",
    "        result = minus_func(int(cal[0]) , int(cal[2]))\n",
    "    elif cal[1] == '*' :\n",
    "        result = mul_func(int(cal[0]) , int(cal[2]))\n",
    "    else :\n",
    "        result = div_func(int(cal[0]) , int(cal[2]))\n",
    "        \n",
    "    print(f'결과 값은 {result} 입니다.')"
   ]
  },
  {
   "cell_type": "code",
   "execution_count": null,
   "metadata": {},
   "outputs": [],
   "source": [
    "# 문 ) 학생의 이름과 성적을 입력 받아 이름을 키로 성적을 값으로 딕셔너리로 저장\n",
    "# 1. 이름을 입력 받아 해당 학생의 성적을 출력, 과목의 갯수 출력, 총점 출력\n",
    "# 2. 전체 학생의 인원수 출력\n",
    "\n",
    "이름 성적 입력 : 홍길동 90\n",
    "               : 김철수 80 90 100"
   ]
  },
  {
   "cell_type": "code",
   "execution_count": 7,
   "metadata": {},
   "outputs": [
    {
     "name": "stdout",
     "output_type": "stream",
     "text": [
      "1\n",
      "2\n",
      "3\n",
      "4\n"
     ]
    }
   ],
   "source": [
    "def var_func(*values):\n",
    "    for value in values:\n",
    "        print(value)\n",
    "        \n",
    "var_func(1, 2, 3, 4)"
   ]
  },
  {
   "cell_type": "code",
   "execution_count": null,
   "metadata": {},
   "outputs": [],
   "source": [
    "def input_data():\n",
    "    students = {}\n",
    "    while True:\n",
    "        student = input(\"이름 성적 입력 성적은 가변 :(종료: 'q')\").split()\n",
    "        if student[0] == 'q':\n",
    "            break\n",
    "        name = student[0]   # name <- a\n",
    "        scores = student[1: ]   #  리스트의 점수를 scores 에 저장  scores = ['88', '99', '100']\n",
    "        sw = ''\n",
    "        for idx, score in enumerate(scores):  # 리스트의 인덱스와 값을 반환\n",
    "            if score.isdigit():\n",
    "                scores[idx] = int(scores[idx])  # 정수형으로 데이터 타입 변경  scores -> [ 88, 99 , 100]\n",
    "            else:\n",
    "                sw = 'err'\n",
    "                break\n",
    "        if sw:   #  점수에 숫자가 입력되지 않으면 재 입력\n",
    "            print('점수는 숫자로 입력 ')\n",
    "            continue\n",
    "\n",
    "        students[name] = scores\n",
    "    return students\n",
    "\n",
    "def search_data(students):\n",
    "    search_name = input(\"검색할 이름 입력 : \")\n",
    "    scores = students.get(search_name)\n",
    "    if scores:\n",
    "        print(f'{search_name} : {scores},  총점 : {sum(scores)}, 과목의 갯수 : {len(scores)}')\n",
    "    else:\n",
    "        print('검색하고자 하는 이름 없음 ')\n",
    "\n",
    "def student_cnt(students):\n",
    "    return len(students)"
   ]
  },
  {
   "cell_type": "markdown",
   "metadata": {},
   "source": [
    "## chapter 5-2 함수의 활요\n",
    "- 재귀 함수\n",
    "- 메모화"
   ]
  },
  {
   "cell_type": "code",
   "execution_count": 10,
   "metadata": {},
   "outputs": [
    {
     "name": "stdout",
     "output_type": "stream",
     "text": [
      "3! : 6\n",
      "10! : 3628800\n"
     ]
    }
   ],
   "source": [
    "# 팩토리얼 구하기 : for 문을 사용하여 : n! = n * (n - 1)!\n",
    "\n",
    "def factorial(n) :\n",
    "    output = 1\n",
    "    \n",
    "    for i in range(1, n + 1) :\n",
    "        output *= i\n",
    "    \n",
    "    return output\n",
    "\n",
    "print(f'3! : {factorial(3)}')\n",
    "print(f'10! : {factorial(10)}')"
   ]
  },
  {
   "cell_type": "code",
   "execution_count": 12,
   "metadata": {},
   "outputs": [
    {
     "name": "stdout",
     "output_type": "stream",
     "text": [
      "6\n",
      "3628800\n"
     ]
    }
   ],
   "source": [
    "# 재귀 함수로 구현 : fact(n) = n * fact(n - 1) n >= 1 같은 경우\n",
    "\n",
    "def fact(n) :\n",
    "    if n == 0 :\n",
    "        return 1\n",
    "    return n * fact(n - 1)\n",
    "\n",
    "print(fact(3))\n",
    "print(fact(10))"
   ]
  },
  {
   "cell_type": "markdown",
   "metadata": {},
   "source": [
    "# ✪✪✪✪✪✪"
   ]
  },
  {
   "cell_type": "code",
   "execution_count": 25,
   "metadata": {},
   "outputs": [
    {
     "name": "stdout",
     "output_type": "stream",
     "text": [
      "5 counter :  9\n"
     ]
    }
   ],
   "source": [
    "# fibo() 함수 정의\n",
    "\n",
    "counter = 0\n",
    "\n",
    "def fibo(n) :\n",
    "    global counter\n",
    "    counter += 1\n",
    "    \n",
    "    if n == 1 or n == 2:\n",
    "        return 1\n",
    "    return fibo(n - 1) + fibo(n - 2)\n",
    "\n",
    "print(fibo(5), 'counter : ', counter)"
   ]
  },
  {
   "cell_type": "markdown",
   "metadata": {},
   "source": [
    "# ✪✪✪✪✪✪"
   ]
  },
  {
   "cell_type": "code",
   "execution_count": 33,
   "metadata": {},
   "outputs": [
    {
     "name": "stdout",
     "output_type": "stream",
     "text": [
      "354224848179261915075 counter :  197\n"
     ]
    }
   ],
   "source": [
    "# fibo() 함수 정의 : 메모화를 이용하여 함수 호출의 횟수 줄임\n",
    "\n",
    "dictionary = {1 : 1,\n",
    "             2 : 1\n",
    "             }\n",
    "counter = 0\n",
    "def fibo_dict(n) :\n",
    "    global counter\n",
    "    counter += 1\n",
    "    \n",
    "    if n in dictionary :\n",
    "        return dictionary[n]\n",
    "    else :\n",
    "        output = fibo_dict(n - 1) + fibo_dict(n - 2)\n",
    "        dictionary[n] = output\n",
    "        return output\n",
    "\n",
    "print(fibo_dict(100), 'counter : ', counter)"
   ]
  },
  {
   "cell_type": "markdown",
   "metadata": {},
   "source": [
    "# ✪✪✪✪✪✪"
   ]
  },
  {
   "cell_type": "code",
   "execution_count": 34,
   "metadata": {},
   "outputs": [
    {
     "data": {
      "text/plain": [
       "[1, 2, 3, 4, 5, 6, 7, 8, 9, 10]"
      ]
     },
     "execution_count": 34,
     "metadata": {},
     "output_type": "execute_result"
    }
   ],
   "source": [
    "# 재귀 함수를 이용하여 평탄화\n",
    "\n",
    "def flatten(data) :\n",
    "    output = []\n",
    "    \n",
    "    for item in data :\n",
    "        if type(item) == list:\n",
    "            output += flatten(item)\n",
    "        else :\n",
    "            output.append(item)\n",
    "            \n",
    "    return output\n",
    "\n",
    "flatten([1,[2,[3,4],5],[6,7],[[8,9],[10]]])"
   ]
  }
 ],
 "metadata": {
  "kernelspec": {
   "display_name": "Python 3",
   "language": "python",
   "name": "python3"
  },
  "language_info": {
   "codemirror_mode": {
    "name": "ipython",
    "version": 3
   },
   "file_extension": ".py",
   "mimetype": "text/x-python",
   "name": "python",
   "nbconvert_exporter": "python",
   "pygments_lexer": "ipython3",
   "version": "3.8.5"
  }
 },
 "nbformat": 4,
 "nbformat_minor": 4
}
