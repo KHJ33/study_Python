{
 "cells": [
  {
   "cell_type": "code",
   "execution_count": 1,
   "metadata": {},
   "outputs": [
    {
     "data": {
      "text/plain": [
       "[0, 1, 2, 3, 4, 5, 6, 7, 8, 9]"
      ]
     },
     "execution_count": 1,
     "metadata": {},
     "output_type": "execute_result"
    }
   ],
   "source": [
    "list_a = []\n",
    "for number in range(10) :\n",
    "    list_a.append(number)\n",
    "list_a"
   ]
  },
  {
   "cell_type": "code",
   "execution_count": 3,
   "metadata": {},
   "outputs": [
    {
     "name": "stdout",
     "output_type": "stream",
     "text": [
      "[1, 2, 3, 4, 5, 6, 7, 8, 9]\n"
     ]
    },
    {
     "data": {
      "text/plain": [
       "[[1, 4, 7], [2, 5, 8], [3, 6, 9]]"
      ]
     },
     "execution_count": 3,
     "metadata": {},
     "output_type": "execute_result"
    }
   ],
   "source": [
    "numbers = list(range(1,9+1))\n",
    "print(numbers)\n",
    "\n",
    "output = [ [], [], [] ] # [ [1, 4, 7], [2, 5, 8], [3, 6, 9]]\n",
    "# 3으로 나눈 나머지 값이 1인 요소는 output[0]\n",
    "# 3으로 나눈 나머지 값이 2인 요소는 output[1]\n",
    "# 3으로 나눈 나머지 값이 0인 요소는 output[2] -> output[-1]\n",
    "\n",
    "for number in numbers :\n",
    "    output[ (number % 3) - 1 ].append(number)\n",
    "output"
   ]
  },
  {
   "cell_type": "markdown",
   "metadata": {},
   "source": [
    "# ✪✪"
   ]
  },
  {
   "cell_type": "code",
   "execution_count": 5,
   "metadata": {},
   "outputs": [],
   "source": [
    "### 파이썬의 자료형 : str, int, float, boolean, list []\n",
    "### str = '', list = [] -> object [ start : stop ] -> index로 접근, start 포함, stop 미포함\n",
    "### 문자열 관련 함수 : 문자열.strip() , 문자열.split(), 문자열.find('문자') - > 위치,\n",
    "###                    문자열.rfind('문자') -> 위치, '문자' in '문자열'\n",
    "###                    문자열.format()\n",
    "### 리스트 관련 함수 : 리스트.append(요소), 리스트.insert(위치, 요소), 리스트.extend(리스트)\n",
    "###                    리스트.pop(위치), del 리스트[인덱스], 리스트.remove(값), 리스트.clear()\n",
    "\n",
    "### datetime.datetime.now() -> year, month, day, ...\n",
    "### datetime.datetime.now().year ---\n",
    "\n",
    "### 조건문 if 표현식 : 처리\n",
    "###        if 표현식 : ~ else :\n",
    "###        if 표현식 : elif 표현식 : ~ else :\n",
    "### 반목문 for 변수 in 반복자료 : -> 자료를 처음부터 하나씩 가져와서 변수 대입"
   ]
  },
  {
   "cell_type": "code",
   "execution_count": 4,
   "metadata": {},
   "outputs": [
    {
     "name": "stdout",
     "output_type": "stream",
     "text": [
      "자료 입력: test **!) 213 data\n",
      "t 는 문자임\n",
      "e 는 문자임\n",
      "s 는 문자임\n",
      "t 는 문자임\n",
      "  는 특수문자임\n",
      "* 는 특수문자임\n",
      "* 는 특수문자임\n",
      "! 는 특수문자임\n",
      ") 는 특수문자임\n",
      "  는 특수문자임\n",
      "2 는 숫자임\n",
      "1 는 숫자임\n",
      "3 는 숫자임\n",
      "  는 특수문자임\n",
      "d 는 문자임\n",
      "a 는 문자임\n",
      "t 는 문자임\n",
      "a 는 문자임\n"
     ]
    }
   ],
   "source": [
    "# 문 ) 임의의 문자를 입력받아 변수에 저장한 후 한글자씩 가져와서\n",
    "#      해당 글자가 숫자이면 숫자라고 출력\n",
    "#      문자이면 문자라고 출력\n",
    "#      아니면 특수문자라고 출력\n",
    "\n",
    "input_data = input('자료 입력: ')\n",
    "\n",
    "for char in input_data :\n",
    "    if char.isdigit() :\n",
    "        print(f'{char} 는 숫자임')\n",
    "    elif char.isalpha() :\n",
    "        print(f'{char} 는 문자임')\n",
    "    else :\n",
    "        print(f'{char} 는 특수문자임')"
   ]
  },
  {
   "cell_type": "markdown",
   "metadata": {},
   "source": [
    "## chapter 4-2 딕셔너리와 반복문\n",
    "\n",
    "- 딕셔너리는 { 키 : 값, ...}"
   ]
  },
  {
   "cell_type": "markdown",
   "metadata": {},
   "source": [
    "# ✪✪✪✪"
   ]
  },
  {
   "cell_type": "code",
   "execution_count": 13,
   "metadata": {},
   "outputs": [
    {
     "name": "stdout",
     "output_type": "stream",
     "text": [
      "{'director': ['안소니 루소', '조 루소'], 'cast': ['아이언맨', '타노스', '토르'], 'item': 'test'} <class 'dict'>\n",
      "조 루소\n",
      "안소니 루소\n",
      "조 루소\n",
      "아이언맨\n",
      "타노스\n",
      "토르\n",
      "test\n"
     ]
    }
   ],
   "source": [
    "dict_a = { 'director' : ['안소니 루소', '조 루소'] ,\n",
    "            'cast' : ['아이언맨', '타노스', '토르'] ,\n",
    "            'item' : 'test'}\n",
    "\n",
    "print(dict_a, type(dict_a))\n",
    "# 조 루소를 출력\n",
    "print(dict_a['director'][1]) # dictonary 의 데이터 접근은 키로 -> 딕셔너리[키]\n",
    "\n",
    "# 값들만 출력\n",
    "for key in dict_a :\n",
    "    if type(dict_a[key]) == list : # 값이 리스트이면\n",
    "        for item in dict_a[key] :  # 리스트의 각 값들을 가져와서 출력\n",
    "            print(item)\n",
    "    else :\n",
    "        print(dict_a[key])\n",
    "        "
   ]
  },
  {
   "cell_type": "code",
   "execution_count": 14,
   "metadata": {},
   "outputs": [
    {
     "name": "stdout",
     "output_type": "stream",
     "text": [
      "요소 추가 이전 : {}\n",
      "요소 추가 이후 : {'name': '홍길동', 'score': 90}\n",
      "score 제거 이후 : {'name': '홍길동'}\n"
     ]
    }
   ],
   "source": [
    "dict_b = {}\n",
    "print('요소 추가 이전 :', dict_b)\n",
    "\n",
    "dict_b['name'] = '홍길동'\n",
    "dict_b['score'] = 90\n",
    "\n",
    "print('요소 추가 이후 :', dict_b)\n",
    "\n",
    "# socre 제거\n",
    "del dict_b['score']\n",
    "print('score 제거 이후 :', dict_b)"
   ]
  },
  {
   "cell_type": "code",
   "execution_count": 15,
   "metadata": {},
   "outputs": [
    {
     "data": {
      "text/plain": [
       "False"
      ]
     },
     "execution_count": 15,
     "metadata": {},
     "output_type": "execute_result"
    }
   ],
   "source": [
    "dict_a # dict_a 에 키가 존재하는지 확인 -> key in 딕셔너리 : True or False\n",
    "'cast' in dict_a"
   ]
  },
  {
   "cell_type": "code",
   "execution_count": 17,
   "metadata": {},
   "outputs": [
    {
     "name": "stdout",
     "output_type": "stream",
     "text": [
      "['아이언맨', '타노스', '토르']\n",
      "dict_items([('director', ['안소니 루소', '조 루소']), ('cast', ['아이언맨', '타노스', '토르']), ('item', 'test')])\n",
      "dict_keys(['director', 'cast', 'item'])\n",
      "dict_values([['안소니 루소', '조 루소'], ['아이언맨', '타노스', '토르'], 'test'])\n"
     ]
    }
   ],
   "source": [
    "print(dict_a.get('cast')) # 딕셔너리.get(키) -> 값을 반환\n",
    "print(dict_a.items()) # 키와 값을 리스트안의 (키, 값) 형식으로 반환\n",
    "print(dict_a.keys()) # 키를 반환 -> 리스트 형식으로\n",
    "print(dict_a.values()) # 값들을 반환 -> 리스트 형식으로"
   ]
  },
  {
   "cell_type": "markdown",
   "metadata": {},
   "source": [
    "# ✪✪✪✪✪"
   ]
  },
  {
   "cell_type": "code",
   "execution_count": 18,
   "metadata": {},
   "outputs": [
    {
     "name": "stdout",
     "output_type": "stream",
     "text": [
      "{1: 3, 2: 4, 6: 1, 8: 2, 4: 3, 3: 3, 9: 3, 5: 2, 7: 2}\n"
     ]
    }
   ],
   "source": [
    "numbers = [1,2,6,8,4,3,2,1,9,5,4,9,7,2,1,3,5,4,8,9,7,2,3]\n",
    "counter = {}\n",
    "\n",
    "for number in numbers :\n",
    "    if number in counter.keys() : # if number in counter 도 가능\n",
    "        counter[number] += 1\n",
    "    else :\n",
    "        counter[number] = 1\n",
    "\n",
    "print(counter)"
   ]
  },
  {
   "cell_type": "markdown",
   "metadata": {},
   "source": [
    "## chapter 4-3 범위 자료형과 while 반복문\n",
    "- range(start, stop, step)"
   ]
  },
  {
   "cell_type": "code",
   "execution_count": 25,
   "metadata": {},
   "outputs": [
    {
     "name": "stdout",
     "output_type": "stream",
     "text": [
      "274\n",
      "43\n",
      "56\n",
      "34\n",
      "20\n",
      "\n",
      "0 번째의 값 274\n",
      "1 번째의 값 43\n",
      "2 번째의 값 56\n",
      "3 번째의 값 34\n",
      "4 번째의 값 20\n",
      "\n",
      "0 번째의 값 274\n",
      "1 번째의 값 43\n",
      "2 번째의 값 56\n",
      "3 번째의 값 34\n",
      "4 번째의 값 20\n",
      "\n",
      "4 번째의 값 20\n",
      "3 번째의 값 34\n",
      "2 번째의 값 56\n",
      "1 번째의 값 43\n",
      "0 번째의 값 274\n",
      "\n",
      "20\n",
      "34\n",
      "56\n",
      "43\n",
      "274\n"
     ]
    }
   ],
   "source": [
    "list_a = [274, 43, 56, 34, 20]\n",
    "# list_a 의 값을 출력\n",
    "for element in list_a:\n",
    "    print(element)\n",
    "print() \n",
    "\n",
    "# 리스트의 인덱스와 값을 동시에 출력\n",
    "for i in range(len(list_a)) :\n",
    "    print(f'{i} 번째의 값 {list_a[i]}')\n",
    "print()\n",
    "# 리스트의 인덱스와 값을 동시에 출력\n",
    "for i,k in enumerate(list_a) :\n",
    "    print(f'{i} 번째의 값 {k}')\n",
    "print()\n",
    "\n",
    "# 리스트의 인덱스와 값을 동시에 출력, 뒤에서 부터 출력\n",
    "for i in reversed(range(len(list_a))) :\n",
    "    print(f'{i} 번째의 값 {list_a[i]}')\n",
    "    \n",
    "print()\n",
    "for element in reversed(list_a) :\n",
    "    print(element)"
   ]
  },
  {
   "cell_type": "code",
   "execution_count": 26,
   "metadata": {},
   "outputs": [
    {
     "name": "stdout",
     "output_type": "stream",
     "text": [
      "*\n",
      "**\n",
      "***\n",
      "****\n",
      "*****\n",
      "******\n",
      "*******\n",
      "********\n",
      "*********\n",
      "**********\n"
     ]
    }
   ],
   "source": [
    "for i in range(10):\n",
    "    for j in range(i+1) :\n",
    "        print('*', end = '')\n",
    "    print()"
   ]
  },
  {
   "cell_type": "markdown",
   "metadata": {},
   "source": [
    "# ✪✪✪✪✪✪✪✪✪"
   ]
  },
  {
   "cell_type": "code",
   "execution_count": 28,
   "metadata": {},
   "outputs": [
    {
     "name": "stdout",
     "output_type": "stream",
     "text": [
      "    2단\t\t    3단\t\t    4단\t\t    5단\t\t\n",
      "2 * 1 = 2\t3 * 1 = 3\t4 * 1 = 4\t5 * 1 = 5\t\n",
      "2 * 2 = 4\t3 * 2 = 6\t4 * 2 = 8\t5 * 2 = 10\t\n",
      "2 * 3 = 6\t3 * 3 = 9\t4 * 3 = 12\t5 * 3 = 15\t\n",
      "2 * 4 = 8\t3 * 4 = 12\t4 * 4 = 16\t5 * 4 = 20\t\n",
      "2 * 5 = 10\t3 * 5 = 15\t4 * 5 = 20\t5 * 5 = 25\t\n",
      "2 * 6 = 12\t3 * 6 = 18\t4 * 6 = 24\t5 * 6 = 30\t\n",
      "2 * 7 = 14\t3 * 7 = 21\t4 * 7 = 28\t5 * 7 = 35\t\n",
      "2 * 8 = 16\t3 * 8 = 24\t4 * 8 = 32\t5 * 8 = 40\t\n",
      "2 * 9 = 18\t3 * 9 = 27\t4 * 9 = 36\t5 * 9 = 45\t\n",
      "    6단\t\t    7단\t\t    8단\t\t    9단\t\t\n",
      "6 * 1 = 6\t7 * 1 = 7\t8 * 1 = 8\t9 * 1 = 9\t\n",
      "6 * 2 = 12\t7 * 2 = 14\t8 * 2 = 16\t9 * 2 = 18\t\n",
      "6 * 3 = 18\t7 * 3 = 21\t8 * 3 = 24\t9 * 3 = 27\t\n",
      "6 * 4 = 24\t7 * 4 = 28\t8 * 4 = 32\t9 * 4 = 36\t\n",
      "6 * 5 = 30\t7 * 5 = 35\t8 * 5 = 40\t9 * 5 = 45\t\n",
      "6 * 6 = 36\t7 * 6 = 42\t8 * 6 = 48\t9 * 6 = 54\t\n",
      "6 * 7 = 42\t7 * 7 = 49\t8 * 7 = 56\t9 * 7 = 63\t\n",
      "6 * 8 = 48\t7 * 8 = 56\t8 * 8 = 64\t9 * 8 = 72\t\n",
      "6 * 9 = 54\t7 * 9 = 63\t8 * 9 = 72\t9 * 9 = 81\t\n"
     ]
    }
   ],
   "source": [
    "# 구구단 출력\n",
    "for i in range(2, 10, 4) : \n",
    "    for dan in range(i, i + 4) : # 단 출력\n",
    "        print('{:5d}단\\t'.format(dan), end = '\\t')\n",
    "    print()\n",
    "    \n",
    "    for j in range(1, 10) : # 계산 1 부터 9까지\n",
    "        for dan in range(i, i + 4) :\n",
    "            print('{} * {} = {}'.format(dan, j, dan * j), end = '\\t')\n",
    "        print()"
   ]
  },
  {
   "cell_type": "code",
   "execution_count": 31,
   "metadata": {},
   "outputs": [
    {
     "name": "stdout",
     "output_type": "stream",
     "text": [
      "0 1 2 3 4 5 6 7 8 9 \n",
      "0\n",
      "1\n",
      "2\n",
      "3\n",
      "4\n",
      "5\n",
      "6\n",
      "7\n",
      "8\n",
      "9\n"
     ]
    }
   ],
   "source": [
    "# while 표현식 : 식이 True 이면 실행\n",
    "# while True :\n",
    "#      print('.', end = '')\n",
    "\n",
    "for i in range(10):\n",
    "    print(i , end = ' ')\n",
    "print()\n",
    "\n",
    "# while 문장으로 변형\n",
    "i = 0\n",
    "while i < 10 : # 조건식을 탈출하는 문장이 실행문 안에 존재\n",
    "    print(i)\n",
    "    i += 1"
   ]
  },
  {
   "cell_type": "code",
   "execution_count": 32,
   "metadata": {},
   "outputs": [
    {
     "name": "stdout",
     "output_type": "stream",
     "text": [
      "[1, 3, 4, 1]\n"
     ]
    }
   ],
   "source": [
    "list_a = [1, 2, 3, 4, 1]\n",
    "value = 2\n",
    "\n",
    "while value in list_a:\n",
    "    list_a.remove(value)\n",
    "print(list_a)"
   ]
  },
  {
   "cell_type": "code",
   "execution_count": 33,
   "metadata": {},
   "outputs": [
    {
     "name": "stdout",
     "output_type": "stream",
     "text": [
      "0\n",
      "1\n",
      "2\n",
      "3\n",
      "4\n"
     ]
    }
   ],
   "source": [
    "i = 0\n",
    "while True : # 조건식을 탈출하는 문장이 실행문 안에 존재\n",
    "    print(i)\n",
    "    i += 1\n",
    "    if i > 4 :\n",
    "        break # 반복문 탈출"
   ]
  },
  {
   "cell_type": "code",
   "execution_count": 35,
   "metadata": {},
   "outputs": [
    {
     "name": "stdout",
     "output_type": "stream",
     "text": [
      "30\n"
     ]
    }
   ],
   "source": [
    "# 1 부터 100까지의 수 중에서 2의 배수의 합을 구하시오\n",
    "\n",
    "total = 0\n",
    "i = 1\n",
    "while True :\n",
    "    if i > 10 :\n",
    "        break\n",
    "        \n",
    "    if i % 2 == 0 :\n",
    "        total += i\n",
    "    i += 1\n",
    "\n",
    "print(total)"
   ]
  },
  {
   "cell_type": "code",
   "execution_count": 39,
   "metadata": {},
   "outputs": [
    {
     "name": "stdout",
     "output_type": "stream",
     "text": [
      "2부터 9 사이의 숫자를 입력하시오(q 입력시 종료): 3\n",
      "3 * 1 = 3\n",
      "3 * 2 = 6\n",
      "3 * 3 = 9\n",
      "3 * 4 = 12\n",
      "3 * 5 = 15\n",
      "3 * 6 = 18\n",
      "3 * 7 = 21\n",
      "3 * 8 = 24\n",
      "3 * 9 = 27\n",
      "2부터 9 사이의 숫자를 입력하시오(q 입력시 종료): 11\n",
      "2부터 9사이의 숫자를 입력하시오\n",
      "2부터 9 사이의 숫자를 입력하시오(q 입력시 종료): 5\n",
      "5 * 1 = 5\n",
      "5 * 2 = 10\n",
      "5 * 3 = 15\n",
      "5 * 4 = 20\n",
      "5 * 5 = 25\n",
      "5 * 6 = 30\n",
      "5 * 7 = 35\n",
      "5 * 8 = 40\n",
      "5 * 9 = 45\n",
      "2부터 9 사이의 숫자를 입력하시오(q 입력시 종료): q\n"
     ]
    }
   ],
   "source": [
    "# 문 : 2 부터 9 사이의 숫자를 입력 받아 해당 숫자의 구구단 출력\n",
    "#      입력한 자료에 'q' 가 입력되면 종료\n",
    "\n",
    "while True :\n",
    "    input_str = input('2부터 9 사이의 숫자를 입력하시오(q 입력시 종료): ')\n",
    "    \n",
    "    if input_str == 'q' :\n",
    "        break\n",
    "    \n",
    "    elif input_str.isdigit() :\n",
    "        if 2 <= int(input_str) <= 10 :\n",
    "            for i in range(1, 10) :\n",
    "                print(f'{input_str} * {i} = {int(input_str) * i}')\n",
    "        else :\n",
    "            print('2부터 9사이의 숫자를 입력하시오')\n",
    "    \n",
    "    else :\n",
    "        print('입력 오류 입니다.')"
   ]
  },
  {
   "cell_type": "code",
   "execution_count": 41,
   "metadata": {},
   "outputs": [
    {
     "name": "stdout",
     "output_type": "stream",
     "text": [
      "0\n",
      "2\n",
      "4\n",
      "6\n",
      "8\n"
     ]
    }
   ],
   "source": [
    "for i in range(0,10,2) :\n",
    "    print(i)"
   ]
  },
  {
   "cell_type": "code",
   "execution_count": 43,
   "metadata": {},
   "outputs": [
    {
     "name": "stdout",
     "output_type": "stream",
     "text": [
      "2\n",
      "4\n",
      "6\n",
      "8\n",
      "10\n"
     ]
    }
   ],
   "source": [
    "i = 0\n",
    "while i < 10 :\n",
    "    i += 2\n",
    "    print(i)"
   ]
  },
  {
   "cell_type": "markdown",
   "metadata": {},
   "source": [
    "# ✪✪"
   ]
  },
  {
   "cell_type": "code",
   "execution_count": 47,
   "metadata": {},
   "outputs": [
    {
     "name": "stdout",
     "output_type": "stream",
     "text": [
      "이름과 성적을 입력하세요(q 입력시 종료) 홍길동8 10ㅁ\n",
      "입력 오류!\n",
      "이름과 성적을 입력하세요(q 입력시 종료) 홍길동 10\n",
      "이름과 성적을 입력하세요(q 입력시 종료) q\n",
      "\n",
      "홍길동 10\n",
      "\n",
      "검색하고자 하는 이름 검색: hh\n",
      "검색된 이름 없음\n",
      "\n",
      "전체 입력한 학생의 학생수는 1 총점 평균은 10.0\n"
     ]
    }
   ],
   "source": [
    "# 문 : 이름과 성적을 입력받아 이름을 키로 성적을 값으로 딕셔너리에 저장\n",
    "#      이름에 'q' 가 입력되면 입력 종료\n",
    "#      1. 입력된 자료를 홍길동 80 이러한 형식으로 출력\n",
    "#      2. 검색하고자 하는 이름을 입력 -> 입력된 이름을 검색한 후 해당 점수 출력\n",
    "#      3. 전체 입력한 학생의 학생수와 총점 평균을 출력\n",
    "#       입력은 이름과 성적을 동시에 입력(ex 홍길동 80)\n",
    "\n",
    "student = {}\n",
    "\n",
    "while True :\n",
    "    input_str = input('이름과 성적을 입력하세요(q 입력시 종료) ')\n",
    "    if input_str == 'q' :\n",
    "        break\n",
    "    \n",
    "    elif len(input_str.split()) == 2 :\n",
    "        name = input_str.split()[0]\n",
    "        grade = input_str.split()[1]\n",
    "        \n",
    "        if name.isalpha() and grade.isdigit() :\n",
    "            student[name] = int(grade)\n",
    "        \n",
    "        else :\n",
    "            print('입력 오류!')\n",
    "            continue\n",
    "    \n",
    "    else :\n",
    "        print('입력 오류 입니다.')\n",
    "        \n",
    "print()\n",
    "\n",
    "for key in student :\n",
    "    print(f'{key} {student[key]}')\n",
    "    \n",
    "print()\n",
    "input_name = input('검색하고자 하는 이름 검색: ')\n",
    "\n",
    "if input_name in student.keys() : # score = students.get(search_name) if score:\n",
    "    print(f'입력한 {input_name} 의 성적은 {student[input_name]} 입니다.')\n",
    "else :\n",
    "    print('검색된 이름 없음')\n",
    "    \n",
    "print()\n",
    "total = 0\n",
    "for key in student :\n",
    "    total += student[key]\n",
    "    \n",
    "print(f'전체 입력한 학생의 학생수는 {len(student.keys())} 명 총점 평균은 {total / len(student.keys())}')"
   ]
  },
  {
   "cell_type": "code",
   "execution_count": 50,
   "metadata": {},
   "outputs": [
    {
     "name": "stdout",
     "output_type": "stream",
     "text": [
      "이름과 국어 영어 수학 성적을 입력하시오(q 입력시 종료): 김현정 100 100 100\n",
      "이름과 국어 영어 수학 성적을 입력하시오(q 입력시 종료): 김현조 100 100 90\n",
      "이름과 국어 영어 수학 성적을 입력하시오(q 입력시 종료): 홍길동 20 40 50\n",
      "이름과 국어 영어 수학 성적을 입력하시오(q 입력시 종료): q\n",
      "{'김현정': [100, 100, 100, 300, 100.0], '김현조': [100, 100, 90, 290, 96.66666666666667], '홍길동': [20, 40, 50, 110, 36.666666666666664]}\n",
      "전체 학생의 국어 총점은 220 영어 총점은 240 수학 총점은 240 입니다.\n",
      "전체 학생의 국어 총 평균은 73.33333333333333 영어 총 평균은 80.0 수학 총 평균은 80.0 입니다.\n"
     ]
    }
   ],
   "source": [
    "# 이름과 국어 영어 수학 성적을 입력 받아 이름을 키로 딕셔너리에 저장\n",
    "# 이름에 'q'가 입력되면 입력 종료\n",
    "# 각 학생의 총점, 평균 추가\n",
    "# 전체 학생의 과목별 총점, 평균을 구하세요\n",
    "\n",
    "student = {}\n",
    "\n",
    "while True :\n",
    "    input_str = input('이름과 국어 영어 수학 성적을 입력하시오(q 입력시 종료): ')\n",
    "    \n",
    "    if input_str == 'q' :\n",
    "        break\n",
    "    \n",
    "    if len(input_str.split()) == 4 :\n",
    "        input_str = input_str.split()\n",
    "        \n",
    "        name = input_str[0]\n",
    "        korean = input_str[1]\n",
    "        english = input_str[2]\n",
    "        math = input_str[3]\n",
    "        \n",
    "        if name.isalpha() and korean.isdigit() and english.isdigit() and math.isdigit() :\n",
    "            korean = int(korean)\n",
    "            english = int(english)\n",
    "            math = int(math)\n",
    "            total = korean + english + math\n",
    "            student[name] = [korean , english , math , total , total / 3 ]\n",
    "            \n",
    "        else :\n",
    "            print('오타가 있습니다. 확인하세요')\n",
    "    \n",
    "    else :\n",
    "        print('입력 오류!')\n",
    "\n",
    "print(student)\n",
    "\n",
    "korean_total = 0\n",
    "english_total = 0\n",
    "math_total = 0\n",
    "\n",
    "for key in student :\n",
    "    korean_total += student[key][0]\n",
    "    english_total += student[key][1]\n",
    "    math_total += student[key][2]\n",
    "    \n",
    "    \n",
    "print(f'전체 학생의 국어 총점은 {korean_total} 영어 총점은 {english_total} 수학 총점은 {math_total} 입니다.')\n",
    "print(f'전체 학생의 국어 총 평균은 {korean_total / len(student)} 영어 총 평균은 {english_total / len(student)} 수학 총 평균은 {math_total / len(student)} 입니다.')"
   ]
  },
  {
   "cell_type": "markdown",
   "metadata": {},
   "source": [
    "# ✪✪✪"
   ]
  },
  {
   "cell_type": "code",
   "execution_count": 51,
   "metadata": {},
   "outputs": [
    {
     "data": {
      "text/plain": [
       "240"
      ]
     },
     "execution_count": 51,
     "metadata": {},
     "output_type": "execute_result"
    }
   ],
   "source": [
    "max([90, 80, 70])\n",
    "min([90, 80, 70])\n",
    "sum([90, 80, 70])"
   ]
  },
  {
   "cell_type": "code",
   "execution_count": 53,
   "metadata": {},
   "outputs": [
    {
     "name": "stdout",
     "output_type": "stream",
     "text": [
      "계사신 입력 : ex) 3 + 5 , q 입력시 종료 3 + 3\n",
      "결과 값은 6\n",
      "계사신 입력 : ex) 3 + 5 , q 입력시 종료 3 * 3\n",
      "결과 값은 9\n",
      "계사신 입력 : ex) 3 + 5 , q 입력시 종료 3 - 3\n",
      "결과 값은 0\n",
      "계사신 입력 : ex) 3 + 5 , q 입력시 종료 3 / 0\n",
      "0으로 나눌수 없습니다.\n",
      "계사신 입력 : ex) 3 + 5 , q 입력시 종료 3 / 3\n",
      "결과 값은 1.0\n",
      "계사신 입력 : ex) 3 + 5 , q 입력시 종료 ㅂ\n",
      "입력 형식 오류\n",
      "계사신 입력 : ex) 3 + 5 , q 입력시 종료 q\n"
     ]
    }
   ],
   "source": [
    "# 계산기 프로그램\n",
    "# 계사식 입력 : 'q' 이면 종료\n",
    "\n",
    "while True :\n",
    "    input_str = input('계사신 입력 : ex) 3 + 5 , q 입력시 종료 ').split()\n",
    "    \n",
    "    if input_str[0] == 'q' :\n",
    "        break\n",
    "        \n",
    "    if len(input_str) == 3 :\n",
    "        if input_str[0].isdigit() and input_str[2].isdigit() and (input_str[1] in '+-*/') :\n",
    "            num1 = int(input_str[0])\n",
    "            num2 = int(input_str[2])\n",
    "            if input_str[1] == '+' :\n",
    "                print(f'결과 값은 {num1 + num2}')\n",
    "            elif input_str[1] == '-' :\n",
    "                print(f'결과 값은 {num1 - num2}')\n",
    "            elif input_str[1] == '*' :\n",
    "                print(f'결과 값은 {num1 * num2}')\n",
    "            else :\n",
    "                if num2 == 0 :\n",
    "                    print('0으로 나눌수 없습니다.')\n",
    "                else :\n",
    "                    print(f'결과 값은 {num1 / num2}')\n",
    "        \n",
    "        else :\n",
    "            print('계산식 오류 입니다.')\n",
    "    \n",
    "    else :\n",
    "        print('입력 형식 오류')"
   ]
  },
  {
   "cell_type": "markdown",
   "metadata": {},
   "source": [
    "# ✪✪✪✪✪✪"
   ]
  },
  {
   "cell_type": "code",
   "execution_count": 56,
   "metadata": {},
   "outputs": [
    {
     "name": "stdout",
     "output_type": "stream",
     "text": [
      " first -- 80\n",
      " first -- 90\n",
      " first -- 60\n",
      " first -- 70\n",
      " second -- 80\n",
      " second -- 90\n",
      " second -- 60\n",
      " second -- 70\n",
      " first -- 70\n",
      " first -- 60\n",
      " first -- 90\n",
      " first -- 80\n"
     ]
    }
   ],
   "source": [
    "list_a = [80, 90, 60, 70]\n",
    "list_r = reversed(list_a) # 제너레이터 함수로 한번만 사용하고 사라진다. 함수의 특별한 기능\n",
    "\n",
    "#print(list_a)\n",
    "#print(list(list_r))\n",
    "\n",
    "# 반복문으로 리스트의 값 출력\n",
    "for i in list_a :\n",
    "    print(' first -- {}'.format(i))\n",
    "\n",
    "for i in list_a :\n",
    "    print(' second -- {}'.format(i))\n",
    "    \n",
    "# reversed 한 list_r 을 출력\n",
    "for i in list_r :\n",
    "    print(' first -- {}'.format(i))\n",
    "\n",
    "for i in list_r :\n",
    "    print(' second -- {}'.format(i))\n",
    "    "
   ]
  },
  {
   "cell_type": "code",
   "execution_count": 60,
   "metadata": {},
   "outputs": [
    {
     "name": "stdout",
     "output_type": "stream",
     "text": [
      "0 번째 요소의 값은 80\n",
      "1 번째 요소의 값은 90\n",
      "2 번째 요소의 값은 60\n",
      "3 번째 요소의 값은 70\n",
      "\n",
      "0 번째 요소의 값은 80\n",
      "1 번째 요소의 값은 90\n",
      "2 번째 요소의 값은 60\n",
      "3 번째 요소의 값은 70\n"
     ]
    }
   ],
   "source": [
    "list_a = [80, 90, 60, 70]\n",
    "\n",
    "for i in range(len(list_a)) :\n",
    "    print(f'{i} 번째 요소의 값은 {list_a[i]}')\n",
    "    \n",
    "print()\n",
    "# enumerate() -> 리스트의 위치와 값을 반환\n",
    "for i, k in enumerate(list_a) :\n",
    "    print(f'{i} 번째 요소의 값은 {k}')"
   ]
  },
  {
   "cell_type": "code",
   "execution_count": 61,
   "metadata": {},
   "outputs": [
    {
     "name": "stdout",
     "output_type": "stream",
     "text": [
      "홍길동 의 값은 [90, 80, 70] \n",
      "김철수 의 값은 [77, 80, 100] \n",
      "dict_items([('홍길동', [90, 80, 70]), ('김철수', [77, 80, 100])])\n",
      "dict_values([[90, 80, 70], [77, 80, 100]])\n",
      "dict_keys(['홍길동', '김철수'])\n",
      "[90, 80, 70]\n"
     ]
    }
   ],
   "source": [
    "dict_a = {'홍길동' : [90, 80, 70],\n",
    "         '김철수' : [77, 80, 100]\n",
    "    }\n",
    "\n",
    "for key , value in dict_a.items() :\n",
    "    print(f'{key} 의 값은 {value} ')\n",
    "    \n",
    "print(dict_a.items()) # 키와 값을 반환\n",
    "print(dict_a.values()) # 값들만 반환\n",
    "print(dict_a.keys()) # 키만 반환\n",
    "print(dict_a.pop('홍길동'))"
   ]
  },
  {
   "cell_type": "code",
   "execution_count": 63,
   "metadata": {},
   "outputs": [
    {
     "name": "stdout",
     "output_type": "stream",
     "text": [
      "[80, 90, 60, 70]\n",
      "[100, 90, 60, 70]\n",
      "[100, 90, 60, 70]\n",
      "[100, 'test', 60, 70]\n",
      "[100, 90, 60, 70]\n"
     ]
    }
   ],
   "source": [
    "list_a = [80, 90, 60, 70]\n",
    "list_b = list_a\n",
    "\n",
    "print(list_a)\n",
    "list_b[0] = 100\n",
    "\n",
    "print(list_b)\n",
    "print(list_a)\n",
    "\n",
    "list_c = list_a.copy()\n",
    "list_c[1] = 'test'\n",
    "print(list_c)\n",
    "print(list_a)"
   ]
  },
  {
   "cell_type": "markdown",
   "metadata": {},
   "source": [
    "# ✪✪✪✪✪✪"
   ]
  },
  {
   "cell_type": "code",
   "execution_count": 68,
   "metadata": {},
   "outputs": [
    {
     "name": "stdout",
     "output_type": "stream",
     "text": [
      "1010\n",
      "10\n",
      "12\n",
      "10\n",
      "a\n",
      "8\n"
     ]
    }
   ],
   "source": [
    "# 10 진수와 2진수 변환\n",
    "print('{:b}'.format(10))\n",
    "print(int('1010',2))\n",
    "\n",
    "# 10 진수와 8 진수 변환\n",
    "print('{:o}'.format(10))\n",
    "print(int('12',8))\n",
    "\n",
    "# 10 진수와 16 진수 변환\n",
    "print('{:x}'.format(10))\n",
    "print(int('10',8))"
   ]
  },
  {
   "cell_type": "code",
   "execution_count": null,
   "metadata": {},
   "outputs": [],
   "source": []
  }
 ],
 "metadata": {
  "kernelspec": {
   "display_name": "Python 3",
   "language": "python",
   "name": "python3"
  },
  "language_info": {
   "codemirror_mode": {
    "name": "ipython",
    "version": 3
   },
   "file_extension": ".py",
   "mimetype": "text/x-python",
   "name": "python",
   "nbconvert_exporter": "python",
   "pygments_lexer": "ipython3",
   "version": "3.8.5"
  }
 },
 "nbformat": 4,
 "nbformat_minor": 4
}
