{
 "cells": [
  {
   "cell_type": "markdown",
   "metadata": {},
   "source": [
    "# ✪✪✪"
   ]
  },
  {
   "cell_type": "markdown",
   "metadata": {},
   "source": [
    "# 문자열의 구성 파악하기\n",
    "- isalnum(): 문자열이 알파벳 또는 숫자로만 구성되어 있는지 확인\n",
    "- isalpha(): 문자열이 알파벳으로만 구성되어 있는지 확인\n",
    "- isidentifier(): 문자열이 식별자로 사용할 수 있는 것인지 확인\n",
    "- isdecimal(): 문자열이 정수 형태인지 확인\n",
    "- isdigit(): 문자열이 숫자로 인식될 수 있는 것인지 확인\n",
    "- isspace(): 문자열이 공백으로만 구성되어 있는지 확인\n",
    "- islower(): 문자열이 소문자로만 구성되어 있는지 확인\n",
    "- isupper(): 문자열이 대문자로만 구성되어 있는지 확인"
   ]
  },
  {
   "cell_type": "code",
   "execution_count": 1,
   "metadata": {},
   "outputs": [
    {
     "name": "stdout",
     "output_type": "stream",
     "text": [
      "False\n",
      "True\n",
      "False\n",
      "False\n"
     ]
    }
   ],
   "source": [
    "# 문자열 관련 함수 : is 함수명() -> True or False\n",
    "\n",
    "print('abcd 1234'.isalnum())\n",
    "print('1234'.isdigit())\n",
    "print('12.34'.isalnum())\n",
    "print('Abcd'.islower())"
   ]
  },
  {
   "cell_type": "code",
   "execution_count": 2,
   "metadata": {},
   "outputs": [
    {
     "name": "stdout",
     "output_type": "stream",
     "text": [
      "0\n",
      "5\n"
     ]
    }
   ],
   "source": [
    "# 문자열 안에서 단어 검색 : 문자열.find('단어') -> 단어가 처음 나오는 위치 반환,\n",
    "# rfing('단어') -> 단어가 뒤에서 부터 처음 나오는 위치 반환\n",
    "\n",
    "a_str = 'hellohello welcome'\n",
    "print(a_str.find('he'))\n",
    "print(a_str.rfind('he'))"
   ]
  },
  {
   "cell_type": "code",
   "execution_count": 3,
   "metadata": {},
   "outputs": [
    {
     "name": "stdout",
     "output_type": "stream",
     "text": [
      "True\n",
      "False\n"
     ]
    }
   ],
   "source": [
    "# 문자열 내부에 어떤 문자열이 있는지 확인 -> '문자' in '문자열'\n",
    "\n",
    "print('hello' in a_str)\n",
    "print('a' in a_str)"
   ]
  },
  {
   "cell_type": "code",
   "execution_count": 4,
   "metadata": {
    "scrolled": true
   },
   "outputs": [
    {
     "name": "stdout",
     "output_type": "stream",
     "text": [
      "['hellohello', 'welcome']\n",
      "['', 'llo', 'llo welcome']\n"
     ]
    }
   ],
   "source": [
    "# 문자열 자르기 함수 : 문자열.split('자르는 기준')\n",
    "\n",
    "print(a_str.split(' '))\n",
    "print(a_str.split('he'))"
   ]
  },
  {
   "cell_type": "code",
   "execution_count": 5,
   "metadata": {},
   "outputs": [
    {
     "data": {
      "text/plain": [
       "' 3 + 4 = 7'"
      ]
     },
     "execution_count": 5,
     "metadata": {},
     "output_type": "execute_result"
    }
   ],
   "source": [
    "' 3 + 4 = {}'.format(3+4)\n",
    "\n",
    "# f'문자열 {표현식} 문자열'\n",
    "f' 3 + 4 = { 3 + 4 }'"
   ]
  },
  {
   "cell_type": "markdown",
   "metadata": {},
   "source": [
    "# 논리 연산자\n",
    "\n",
    "- 컴퓨터 처리 속도를 생각하면 and 연산자의 경우 False가 앞에 나오는 걸로 or 연산자의 경우 True가 앞에 나오는 연산식을 배치"
   ]
  },
  {
   "cell_type": "markdown",
   "metadata": {},
   "source": [
    "# chapter 3 조건문\n",
    "## chapter 3-1 bool 자료형과 if 조건문"
   ]
  },
  {
   "cell_type": "code",
   "execution_count": 6,
   "metadata": {},
   "outputs": [
    {
     "name": "stdout",
     "output_type": "stream",
     "text": [
      "under_20 :  True\n",
      "not under_20 :  False\n"
     ]
    }
   ],
   "source": [
    "# 비교 연산자 : == , != , < , > , <= , >=\n",
    "# not , and , or\n",
    "\n",
    "x = 10 \n",
    "under_20 = x < 20\n",
    "print('under_20 : ' , under_20)\n",
    "print('not under_20 : ', not under_20)"
   ]
  },
  {
   "cell_type": "code",
   "execution_count": 9,
   "metadata": {},
   "outputs": [
    {
     "name": "stdout",
     "output_type": "stream",
     "text": [
      "and 연산자\n",
      "True\n",
      "False\n",
      "False\n",
      "False\n",
      "\n",
      "or 연산자\n",
      "True\n",
      "True\n",
      "True\n",
      "False\n"
     ]
    }
   ],
   "source": [
    "print('and 연산자')\n",
    "\n",
    "print(True and True)\n",
    "print(True and False)\n",
    "print(False and True)\n",
    "print(False and False)\n",
    "\n",
    "print('\\nor 연산자')\n",
    "\n",
    "print(True or True)\n",
    "print(True or False)\n",
    "print(False or True)\n",
    "print(False or False)"
   ]
  },
  {
   "cell_type": "code",
   "execution_count": 10,
   "metadata": {},
   "outputs": [
    {
     "name": "stdout",
     "output_type": "stream",
     "text": [
      "True 출력\n"
     ]
    }
   ],
   "source": [
    "# if 표현식: -> 표현식이 True 이면 처리 문장 실행\n",
    "#    처리문장\n",
    "\n",
    "if True:\n",
    "    print('True 출력')\n",
    "\n",
    "if False:\n",
    "    print('False 출력') # 조건식이 False 이므로 처리하지 않음"
   ]
  },
  {
   "cell_type": "code",
   "execution_count": 11,
   "metadata": {},
   "outputs": [
    {
     "name": "stdout",
     "output_type": "stream",
     "text": [
      "1 출력\n"
     ]
    }
   ],
   "source": [
    "if 1:\n",
    "    print('1 출력')\n",
    "\n",
    "if 0:\n",
    "    print('0 출력')"
   ]
  },
  {
   "cell_type": "code",
   "execution_count": 12,
   "metadata": {},
   "outputs": [
    {
     "name": "stdout",
     "output_type": "stream",
     "text": [
      "a 출력\n"
     ]
    }
   ],
   "source": [
    "if 'a':\n",
    "    print('a 출력')\n",
    "\n",
    "if '':\n",
    "    print('공백 출력')"
   ]
  },
  {
   "cell_type": "code",
   "execution_count": 17,
   "metadata": {},
   "outputs": [
    {
     "name": "stdout",
     "output_type": "stream",
     "text": [
      "숫자를 입력하시오: 0\n",
      "zero\n"
     ]
    }
   ],
   "source": [
    "# 문: 숫자를 입력받아 0 보다 크면 '양수 100' 출력\n",
    "#     0 보다 작으면 '음수 -100'\n",
    "\n",
    "str_num = int(input('숫자를 입력하시오: '))\n",
    "\n",
    "if str_num > 0 :\n",
    "    print('양수 ', str_num)\n",
    "    \n",
    "elif str_num == 0:\n",
    "    print('zero')\n",
    "\n",
    "else:\n",
    "    print('음수 ', str_num)"
   ]
  },
  {
   "cell_type": "code",
   "execution_count": 20,
   "metadata": {},
   "outputs": [
    {
     "name": "stdout",
     "output_type": "stream",
     "text": [
      "첫번째 숫자를 입력하시오 10\n",
      "두번째 숫자를 입력하시오 88\n",
      "두 수는 정수로 변환이 가능합니다\n",
      "10 + 88 = 98\n",
      "10 * 88 = 880\n"
     ]
    }
   ],
   "source": [
    "# 두 수를 입력받아 두 수가 정수이면 두 수의 합과 곱을 구하세요\n",
    "\n",
    "num1 = input('첫번째 숫자를 입력하시오 ')\n",
    "num2 = input('두번째 숫자를 입력하시오 ')\n",
    "\n",
    "if num1.isdigit() and num2.isdigit():\n",
    "    print('두 수는 정수로 변환이 가능합니다')\n",
    "    num1 = int(num1)\n",
    "    num2 = int(num2)\n",
    "\n",
    "    print(f'{num1} + {num2} = {num1 + num2}')\n",
    "    \n",
    "    print(f'{num1} * {num2} = {num1 * num2}')\n",
    "    \n",
    "else:\n",
    "    print('두 수는 정수로 변환이 가능하지 않습니다')"
   ]
  },
  {
   "cell_type": "code",
   "execution_count": 23,
   "metadata": {},
   "outputs": [
    {
     "name": "stdout",
     "output_type": "stream",
     "text": [
      "2022 8 10 12 11 50\n",
      "지금은 오후 12 시 11 분\n"
     ]
    }
   ],
   "source": [
    "import datetime\n",
    "\n",
    "now = datetime.datetime.now()\n",
    "\n",
    "print(now.year, now.month, now.day, now.hour, now.minute, now.second)\n",
    "\n",
    "if now.hour >= 12:\n",
    "    print(f'지금은 오후 {now.hour} 시 {now.minute} 분')"
   ]
  },
  {
   "cell_type": "code",
   "execution_count": 26,
   "metadata": {},
   "outputs": [
    {
     "name": "stdout",
     "output_type": "stream",
     "text": [
      "숫자를 입력하세요 123\n",
      "123 은 홀수 입니다.\n",
      "숫자를 입력하세요 123\n",
      "123 은 홀수 입니다.\n",
      "숫자를 입력하세요 122\n",
      "122 은 짝수 입니다.\n"
     ]
    }
   ],
   "source": [
    "# 문: 정수를 입력 받아 짝수이면 짝수 라고 출력\n",
    "# 1) 문자열 그대로 활용 -> 마지막 문자가 0 2 4 6 8\n",
    "# 2) 숫자로 변환 -> 2로 나눈 나머지 값이 0이면 짝수 1이면 홀수\n",
    "\n",
    "#1)\n",
    "str_num = input('숫자를 입력하세요 ')\n",
    "\n",
    "if str_num.isdigit():\n",
    "    if str_num[-1] == '0' or str_num[-1] == '2' or str_num[-1] == '4' or str_num[-1] == '6' or str_num[-1] == '8':\n",
    "        print(f'{str_num} 은 짝수 입니다.')\n",
    "    else:\n",
    "        print(f'{str_num} 은 홀수 입니다.')\n",
    "else:\n",
    "    print('숫자를 입력하세요')\n",
    "    \n",
    "#2)\n",
    "str_num = input('숫자를 입력하세요 ')\n",
    "\n",
    "if str_num.isdigit():\n",
    "    str_num = int(str_num)\n",
    "    if str_num % 2 == 0:\n",
    "        print(f'{str_num} 은 짝수 입니다.')\n",
    "    else:\n",
    "        print(f'{str_num} 은 홀수 입니다.')\n",
    "else:\n",
    "    print('숫자를 입력하세요')\n",
    "    \n",
    "#1)\n",
    "str_num = input('숫자를 입력하세요 ')\n",
    "\n",
    "if str_num.isdigit():\n",
    "    if str_num[-1] in ['0', '2', '4', '6', '8']: # str_num[-1] in '02468'\n",
    "        print(f'{str_num} 은 짝수 입니다.')\n",
    "    else:\n",
    "        print(f'{str_num} 은 홀수 입니다.')\n",
    "else:\n",
    "    print('숫자를 입력하세요')"
   ]
  },
  {
   "cell_type": "markdown",
   "metadata": {},
   "source": [
    "# chapter 03-2\n",
    "## if ~ elif ~ else"
   ]
  },
  {
   "cell_type": "code",
   "execution_count": 27,
   "metadata": {},
   "outputs": [
    {
     "name": "stdout",
     "output_type": "stream",
     "text": [
      "정수 입력: 10\n",
      "짝수\n"
     ]
    }
   ],
   "source": [
    "# if ~ else , if ~ elif ~ else\n",
    "\n",
    "num = input('정수 입력: ')\n",
    "\n",
    "if num[-1] in '02468':\n",
    "    print('짝수')\n",
    "else:\n",
    "    print('홀수')"
   ]
  },
  {
   "cell_type": "code",
   "execution_count": null,
   "metadata": {},
   "outputs": [],
   "source": [
    "if 조건식:\n",
    "    if 조건식:\n",
    "    else:\n",
    "else:\n",
    "    if 조건식:\n",
    "    elif 조건식:"
   ]
  },
  {
   "cell_type": "code",
   "execution_count": 31,
   "metadata": {},
   "outputs": [
    {
     "name": "stdout",
     "output_type": "stream",
     "text": [
      "자료 입력 100 4a'\n",
      "end\n"
     ]
    }
   ],
   "source": [
    "input_data = input('자료 입력 ')\n",
    "\n",
    "if input_data.isalnum():\n",
    "    if input_data.isdigit():\n",
    "        print(f'{input_data} 는 타입이 {type(input_data)} 이다')\n",
    "    else:\n",
    "        print(f'{input_data} 는 타입이 {type(input_data)} 이다')\n",
    "else:\n",
    "    if input_data[-1].isdigit():\n",
    "        if input_data[-1] in '02468':\n",
    "            print('짝수')\n",
    "        else:\n",
    "            print('홀수')\n",
    "    elif input_data[-1].isalpha():\n",
    "        print('문자')\n",
    "print('end')"
   ]
  },
  {
   "cell_type": "code",
   "execution_count": 37,
   "metadata": {},
   "outputs": [
    {
     "name": "stdout",
     "output_type": "stream",
     "text": [
      "숫자를 입력하시오(문자 입력시 종료) : 12\n",
      "부호를 입력하시오(다른것 입력시 종료) : -\n",
      "숫자를 입력하시오(문자 입력시 종료) : 33\n",
      "12 - 33 = -21\n",
      "종료\n"
     ]
    }
   ],
   "source": [
    "# 문 : 숫자와 부호를 입력 받아 계산식을 구하는 프로그램을 작성\n",
    "# 입력의 형식은 10 + 20\n",
    "\n",
    "num1 = input('숫자를 입력하시오(문자 입력시 종료) : ')\n",
    "\n",
    "if num1.isdigit() :\n",
    "    sign = input('부호를 입력하시오(다른것 입력시 종료) : ')\n",
    "    if sign in '+-*/':\n",
    "        num2 = input('숫자를 입력하시오(문자 입력시 종료) : ')\n",
    "        if num2.isdigit() :\n",
    "            if sign == '+' :\n",
    "                print(f'{num1} + {num2} = {int(num1) + int(num2)}')\n",
    "            elif sign == '-' : \n",
    "                print(f'{num1} - {num2} = {int(num1) - int(num2)}')\n",
    "            elif sign == '*' :\n",
    "                print(f'{num1} * {num2} = {int(num1) * int(num2)}')\n",
    "            else :\n",
    "                print(f'{num1} / {num2} = {int(num1) / int(num2)}')\n",
    "print('종료')"
   ]
  },
  {
   "cell_type": "markdown",
   "metadata": {},
   "source": [
    "# chapter 4 : 반복문\n",
    "## chapter 4-1 : 리스트와 반복문"
   ]
  },
  {
   "cell_type": "code",
   "execution_count": 45,
   "metadata": {},
   "outputs": [
    {
     "name": "stdout",
     "output_type": "stream",
     "text": [
      "[10, 20, 'test', True, 200, False, '문자']\n",
      "20\n",
      "[10, 20, 'test', True]\n",
      "[20, 'test']\n",
      "문자\n"
     ]
    },
    {
     "data": {
      "text/plain": [
       "[10, '변경', 'test', True, 200, False, '문자']"
      ]
     },
     "execution_count": 45,
     "metadata": {},
     "output_type": "execute_result"
    }
   ],
   "source": [
    "# 리스트 : 여러 가지의 자료를 하나의 자료로 묶은 자료 -> [ 요소, ... ]\n",
    "\n",
    "list_a = [10, 20, 'test', True, 200, False, '문자']\n",
    "print(list_a)\n",
    "\n",
    "# list_a 의 각 요소를 참고하는 방법\n",
    "print(list_a[1])\n",
    "\n",
    "# list_a 의 처음부터 인덱스가 3인 자료 출력\n",
    "print(list_a[ : 4])\n",
    "print(list_a[1 : 3]) \n",
    "print(list_a[-1])\n",
    "\n",
    "list_a[1] = '변경'\n",
    "list_a"
   ]
  },
  {
   "cell_type": "code",
   "execution_count": 55,
   "metadata": {},
   "outputs": [
    {
     "name": "stdout",
     "output_type": "stream",
     "text": [
      "[1, 2, 3, 4, 5, 6]\n",
      "[1, 2, 3, 1, 2, 3]\n",
      "6\n"
     ]
    }
   ],
   "source": [
    "list_a = [1,2,3]\n",
    "list_b = [4,5,6]\n",
    "\n",
    "# 문자열 + 문자열 -> 문자열 결함 'abc' + 'test' - > 'abctest'\n",
    "# 리스트 + 리스트 -> [1,2,3,4,5,6]\n",
    "\n",
    "print(list_a + list_b)\n",
    "\n",
    "# 문자열 * 숫자 -> 숫자만큼 문자열 반복\n",
    "# 리스트 * 숫자 -> list_a * 2 -> [1,2,3,1,2,3]\n",
    "\n",
    "print(list_a * 2)\n",
    "\n",
    "# 문자열 길이 구하는 함수 -> len(문자열)\n",
    "# 리스트의 갯수 구하는 함수 -> len(리스트)\n",
    "\n",
    "print(len(list_a * 2))"
   ]
  },
  {
   "cell_type": "code",
   "execution_count": 56,
   "metadata": {},
   "outputs": [
    {
     "name": "stdout",
     "output_type": "stream",
     "text": [
      "[1, 2, 3, [4, 5, 6]]\n"
     ]
    },
    {
     "data": {
      "text/plain": [
       "4"
      ]
     },
     "execution_count": 56,
     "metadata": {},
     "output_type": "execute_result"
    }
   ],
   "source": [
    "# list_a  = [1,2,3, [4,5,6]]\n",
    "# 리스트.append(요소) -> 마지막에 추가\n",
    "\n",
    "list_a.append(list_b) # list_a 의 값을 변경\n",
    "print(list_a)\n",
    "\n",
    "len(list_a)"
   ]
  },
  {
   "cell_type": "code",
   "execution_count": 57,
   "metadata": {},
   "outputs": [
    {
     "name": "stdout",
     "output_type": "stream",
     "text": [
      "[1, 'test', 2, 3, [4, 5, 6]]\n"
     ]
    }
   ],
   "source": [
    "# 리스트.insert(추가하고자 하는 위치 인덱스, 요소)\n",
    "list_a.insert(1, 'test')\n",
    "print(list_a)"
   ]
  },
  {
   "cell_type": "markdown",
   "metadata": {},
   "source": [
    "# ✪✪✪"
   ]
  },
  {
   "cell_type": "code",
   "execution_count": 58,
   "metadata": {},
   "outputs": [
    {
     "data": {
      "text/plain": [
       "[1, 'test', 2, 3, [4, 5, 6], 4, 5, 6]"
      ]
     },
     "execution_count": 58,
     "metadata": {},
     "output_type": "execute_result"
    }
   ],
   "source": [
    "# 리스트의 요소를 리스트의 요소로 추가 : 리스트.extend(리스트)\n",
    "# list_a + list_b -> 기존 리스트의 값에 영향을 주지 않음\n",
    "# list_a.extend(list_b) -> list_a 의 값이 변경\n",
    "# list_a = [1, 'test', 2, 3, [4,5,6], 4, 5, 6]\n",
    "\n",
    "list_a.extend(list_b)\n",
    "list_a"
   ]
  },
  {
   "cell_type": "code",
   "execution_count": 60,
   "metadata": {},
   "outputs": [
    {
     "name": "stdout",
     "output_type": "stream",
     "text": [
      "계사신 입력 10 + 20 의 형식으로 입력하시오 : 80 * 90\n",
      "80 * 90 = 7200\n"
     ]
    }
   ],
   "source": [
    "# 문1) 입력된 자료의 갯수가 3이 아니면 종료\n",
    "# 부호가 '+, -, *, / ' 가 아니면 종료\n",
    "# 처음과 마지막 자료가 숫자가 아니면 종료\n",
    "# 계산식 출력\n",
    "\n",
    "input_data = input('계사신 입력 10 + 20 의 형식으로 입력하시오 : ').split()\n",
    "\n",
    "if len(input_data) == 3:\n",
    "    if input_data[1] in '+-*/':\n",
    "        if input_data[0].isdigit() and input_data[2].isdigit():\n",
    "            if input_data[1] == '+':\n",
    "                result = int(input_data[0]) + int(input_data[2])\n",
    "            elif input_data[1] == '-':\n",
    "                result = int(input_data[0]) - int(input_data[2])\n",
    "            elif input_data[1] == '*':\n",
    "                result = int(input_data[0]) * int(input_data[2])\n",
    "            else:\n",
    "                result = int(input_data[0]) / int(input_data[2])\n",
    "                \n",
    "            print(f'{input_data[0]} {input_data[1]} {input_data[2]} = {result}')\n",
    "            \n",
    "        else:\n",
    "            print('숫자 입력 오류')\n",
    "    else:\n",
    "        print('부호 입력 오류')\n",
    "else:\n",
    "    print('입력 오류')"
   ]
  },
  {
   "cell_type": "markdown",
   "metadata": {},
   "source": [
    "# ✪✪✪"
   ]
  },
  {
   "cell_type": "code",
   "execution_count": 61,
   "metadata": {},
   "outputs": [
    {
     "name": "stdout",
     "output_type": "stream",
     "text": [
      "[1, 3, 4, 5, 6]\n",
      "[1, 3, 4, 5]\n",
      "[1, 3, 5]\n"
     ]
    }
   ],
   "source": [
    "# 원래의 데이터가 변형되면 파괴적, 변형되지 않으면 비파괴적\n",
    "\n",
    "# 리스트의 요소 제거 : del 리스트명[인덱스], 리스트명.pop(인덱스)\n",
    "# 리스트의 값으로 제거 : 리스트명.remove(값)\n",
    "# 리스트의 모든 값 제거 : 리스트명.clear()\n",
    "\n",
    "list_a = [1,2,3,4,5,6]\n",
    "del list_a[1] # 파괴적 -> 기존의 자료 변경\n",
    "print(list_a)\n",
    "\n",
    "list_a.pop() # 마지막 요소 삭제\n",
    "print(list_a)\n",
    "\n",
    "list_a.pop(2) # 인덱스가 2인 요소 삭제\n",
    "print(list_a)"
   ]
  },
  {
   "cell_type": "code",
   "execution_count": 62,
   "metadata": {},
   "outputs": [
    {
     "name": "stdout",
     "output_type": "stream",
     "text": [
      "[1, 1, 2, 3]\n",
      "[]\n"
     ]
    }
   ],
   "source": [
    "list_b = [1,2,1,2,3]\n",
    "list_b.remove(2) # 처음 나오는 값 2가 삭제됨\n",
    "print(list_b)\n",
    "\n",
    "# 리스트명.clear() 리스트의 모든 요소 삭제\n",
    "list_b.clear()\n",
    "print(list_b)"
   ]
  },
  {
   "cell_type": "code",
   "execution_count": 64,
   "metadata": {},
   "outputs": [
    {
     "name": "stdout",
     "output_type": "stream",
     "text": [
      "[25, 34, 45, 78, 90, 274]\n",
      "[274, 90, 78, 45, 34, 25]\n"
     ]
    }
   ],
   "source": [
    "# 리스트 자료 정렬 : 리스트명.sort() -> 오름차순, 리스트명.sort(reverse=True) -> 내림차순\n",
    "list_a = [34, 25, 274, 45, 78, 90]\n",
    "list_a.sort()\n",
    "print(list_a)\n",
    "\n",
    "list_a.sort(reverse=True) # 내림차순 정렬\n",
    "print(list_a)"
   ]
  },
  {
   "cell_type": "code",
   "execution_count": 65,
   "metadata": {},
   "outputs": [
    {
     "name": "stdout",
     "output_type": "stream",
     "text": [
      "True\n",
      "False\n",
      "True\n"
     ]
    }
   ],
   "source": [
    "# 문자열 내부에 해당 문자가 있는지 확인: '문자' in '문자열'\n",
    "# 리스트 내부에 해당 요소가 있는지 확인 : 요소 in 리스트\n",
    "\n",
    "list_a = [34, 25, 274, 45, 78, 90]\n",
    "\n",
    "print(34 in list_a)\n",
    "print('a' in list_a)\n",
    "print(100 not in list_a)"
   ]
  },
  {
   "cell_type": "markdown",
   "metadata": {},
   "source": [
    "# ✪✪✪"
   ]
  },
  {
   "cell_type": "code",
   "execution_count": 70,
   "metadata": {},
   "outputs": [
    {
     "name": "stdout",
     "output_type": "stream",
     "text": [
      "i => 0\n",
      "i => 1\n",
      "i => 2\n",
      "i => 3\n",
      "i => 4\n",
      "[34, 25, 274, 45, 78, 90]\n",
      "34\n",
      "25\n",
      "274\n",
      "45\n",
      "78\n",
      "90\n",
      "total = 546\n"
     ]
    }
   ],
   "source": [
    "# 반복문 for -> for element in 반복자료 :\n",
    "# range(5) -> 0 부터 5 전까지의 정수 반환\n",
    "# list(range(5)) -> [0, 1, 2, 3, 4]\n",
    "\n",
    "for i in range(5):\n",
    "    print('i =>', i)\n",
    "    \n",
    "# 리스트의 각 요소를 for 문장을 활용하여 출력\n",
    "print(list_a)\n",
    "total = 0\n",
    "for i in list_a :\n",
    "    total += i\n",
    "    print(i)\n",
    "print('total =', total)"
   ]
  },
  {
   "cell_type": "code",
   "execution_count": 75,
   "metadata": {},
   "outputs": [
    {
     "name": "stdout",
     "output_type": "stream",
     "text": [
      "1부터 100까지의 수중에서 3의 배수의 합은 1683 입니다!\n",
      "1부터 100까지의 수중에서 3의 배수의 합은 1683 입니다!\n"
     ]
    }
   ],
   "source": [
    "# 1부터 100까지의 수중에서 3의 배수의 합을 구하세요\n",
    "\n",
    "total = 0\n",
    "for i in range(1,101):\n",
    "    if i % 3 == 0:\n",
    "        total += i\n",
    "print('1부터 100까지의 수중에서 3의 배수의 합은', total , '입니다!')\n",
    "\n",
    "total = 0\n",
    "for i in range(0,100,3):\n",
    "    total += i\n",
    "print('1부터 100까지의 수중에서 3의 배수의 합은', total , '입니다!')"
   ]
  },
  {
   "cell_type": "code",
   "execution_count": 77,
   "metadata": {},
   "outputs": [
    {
     "name": "stdout",
     "output_type": "stream",
     "text": [
      "숫자를 입력하시오 10\n",
      "10 * 1 = 10\n",
      "10 * 2 = 20\n",
      "10 * 3 = 30\n",
      "10 * 4 = 40\n",
      "10 * 5 = 50\n",
      "10 * 6 = 60\n",
      "10 * 7 = 70\n",
      "10 * 8 = 80\n",
      "10 * 9 = 90\n"
     ]
    }
   ],
   "source": [
    "# 문: 숫자를 입력 받아 해당하는 숫자의 구구단을 출력 하세요\n",
    "\n",
    "num = input('숫자를 입력하시오 ')\n",
    "\n",
    "if num.isdigit():\n",
    "    for i in range(1,10):\n",
    "        print(f'{num} * {i} = {int(num) * i}')\n",
    "else:\n",
    "    print('숫자 입력 오류')"
   ]
  },
  {
   "cell_type": "markdown",
   "metadata": {},
   "source": [
    "# ✪✪✪"
   ]
  },
  {
   "cell_type": "code",
   "execution_count": 78,
   "metadata": {},
   "outputs": [
    {
     "name": "stdout",
     "output_type": "stream",
     "text": [
      "1\t2\t3\t\n",
      "4\t5\t6\t7\t\n",
      "8\t9\t\n"
     ]
    }
   ],
   "source": [
    "# list 안에 list\n",
    "\n",
    "list_a = [ [1,2,3] , [4,5,6,7] , [8,9]]\n",
    "for element in list_a:\n",
    "    for row in element:\n",
    "        print(row, end = '\\t')\n",
    "    print()"
   ]
  },
  {
   "cell_type": "markdown",
   "metadata": {},
   "source": [
    "# ✪✪✪✪✪"
   ]
  },
  {
   "cell_type": "code",
   "execution_count": 87,
   "metadata": {},
   "outputs": [
    {
     "name": "stdout",
     "output_type": "stream",
     "text": [
      "[[1, 2, 3, 4]]\n",
      "[1, 2, 3, 4]\n",
      "[1, 2, 3, 4, 5]\n",
      "[1, 2, 3, 4] [1, 2, 3, 4, 5]\n",
      "1 2 3 4\n"
     ]
    }
   ],
   "source": [
    "# list_a = [1,2,3,4] -> [*list_a] => 1, 2, 3, 4\n",
    "\n",
    "list_a = [1,2,3,4]\n",
    "[*list_a]\n",
    "\n",
    "b = [list_a] # [[1, 2, 3, 4]]\n",
    "print(b)\n",
    "\n",
    "c = [*list_a] #[1, 2, 3, 4]\n",
    "print(c)\n",
    "\n",
    "list_a.append(5) # list_a -> [1, 2, 3, 4, 5]\n",
    "print(list_a)\n",
    "\n",
    "# 전개 연산자를 사용하여 리스트 생성\n",
    "a_list = [1, 2, 3, 4]\n",
    "b_list = [*a_list, 5]\n",
    "print(a_list, b_list)\n",
    "\n",
    "# 함수에서 전개 연산자 사용\n",
    "print(*a_list) # print(a_list[0], a_list[1], a_list[2], a_list[3])"
   ]
  }
 ],
 "metadata": {
  "kernelspec": {
   "display_name": "Python 3",
   "language": "python",
   "name": "python3"
  },
  "language_info": {
   "codemirror_mode": {
    "name": "ipython",
    "version": 3
   },
   "file_extension": ".py",
   "mimetype": "text/x-python",
   "name": "python",
   "nbconvert_exporter": "python",
   "pygments_lexer": "ipython3",
   "version": "3.8.5"
  }
 },
 "nbformat": 4,
 "nbformat_minor": 4
}
